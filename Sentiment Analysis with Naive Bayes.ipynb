{
 "cells": [
  {
   "cell_type": "code",
   "execution_count": 1,
   "id": "e03d2e0d",
   "metadata": {},
   "outputs": [],
   "source": [
    "import praw\n",
    "import pandas as pd\n",
    "import numpy as np\n",
    "import re\n",
    "import string\n",
    "import nltk\n",
    "#nltk.download('stopwords')\n",
    "from nltk.tokenize import word_tokenize\n",
    "from nltk.corpus import stopwords\n",
    "from nltk.stem import WordNetLemmatizer\n",
    "import seaborn as sns\n",
    "import matplotlib.pyplot as plt\n",
    "from nltk.tag import pos_tag, pos_tag_sents\n",
    "from nltk.tokenize import word_tokenize, sent_tokenize\n",
    "from sklearn.feature_extraction.text import TfidfVectorizer\n",
    "from sklearn.naive_bayes import GaussianNB,MultinomialNB\n",
    "from sklearn.metrics import roc_auc_score,accuracy_score,confusion_matrix,recall_score, precision_score, f1_score\n",
    "from sklearn.model_selection import train_test_split\n",
    "from sklearn.feature_extraction.text import CountVectorizer"
   ]
  },
  {
   "cell_type": "code",
   "execution_count": 2,
   "id": "1ebd3545",
   "metadata": {},
   "outputs": [],
   "source": [
    "#nltk.download('maxent_ne_chunker')\n",
    "#nltk.download('words')\n",
    "#nltk.download('vader_lexicon')\n",
    "#nltk.download('omw-1.4')"
   ]
  },
  {
   "cell_type": "code",
   "execution_count": 3,
   "id": "da7fc468",
   "metadata": {},
   "outputs": [],
   "source": [
    "df = pd.read_csv('Clustering Data.csv',index_col = False)"
   ]
  },
  {
   "cell_type": "code",
   "execution_count": 4,
   "id": "5c6b5ba3",
   "metadata": {
    "scrolled": false
   },
   "outputs": [
    {
     "data": {
      "text/html": [
       "<div>\n",
       "<style scoped>\n",
       "    .dataframe tbody tr th:only-of-type {\n",
       "        vertical-align: middle;\n",
       "    }\n",
       "\n",
       "    .dataframe tbody tr th {\n",
       "        vertical-align: top;\n",
       "    }\n",
       "\n",
       "    .dataframe thead th {\n",
       "        text-align: right;\n",
       "    }\n",
       "</style>\n",
       "<table border=\"1\" class=\"dataframe\">\n",
       "  <thead>\n",
       "    <tr style=\"text-align: right;\">\n",
       "      <th></th>\n",
       "      <th>Unnamed: 0</th>\n",
       "      <th>Title</th>\n",
       "      <th>Author</th>\n",
       "      <th>ID</th>\n",
       "      <th>Created</th>\n",
       "      <th>Original_Title</th>\n",
       "      <th>Without_stopwords</th>\n",
       "      <th>Lemmatized_Words</th>\n",
       "      <th>Pos_tags</th>\n",
       "      <th>Cluster</th>\n",
       "      <th>PCA1</th>\n",
       "      <th>PCA2</th>\n",
       "    </tr>\n",
       "  </thead>\n",
       "  <tbody>\n",
       "    <tr>\n",
       "      <th>0</th>\n",
       "      <td>0</td>\n",
       "      <td>['apple', 'vision', 'pro', 'has', 'ruined', 'm...</td>\n",
       "      <td>Old_Possible8977</td>\n",
       "      <td>1an21fb</td>\n",
       "      <td>2024-02-09 23:34:09</td>\n",
       "      <td>Apple Vision Pro has ruined movies for me</td>\n",
       "      <td>['apple', 'vision', 'pro', 'ruined', 'movies']</td>\n",
       "      <td>['apple', 'vision', 'pro', 'ruined', 'movies']</td>\n",
       "      <td>[('[', 'JJ'), (\"'apple\", 'NNP'), (\"'\", 'POS'),...</td>\n",
       "      <td>2</td>\n",
       "      <td>0.546980</td>\n",
       "      <td>-0.066286</td>\n",
       "    </tr>\n",
       "    <tr>\n",
       "      <th>1</th>\n",
       "      <td>1</td>\n",
       "      <td>['its', 'too', 'expensive', 'no', 'regrets']</td>\n",
       "      <td>McNerdsAlot</td>\n",
       "      <td>1akdyzo</td>\n",
       "      <td>2024-02-06 16:35:52</td>\n",
       "      <td>It’s too expensive. No regrets.</td>\n",
       "      <td>['expensive', 'regrets']</td>\n",
       "      <td>['expensive', 'regrets']</td>\n",
       "      <td>[('[', 'RB'), (\"'expensive\", 'JJ'), (\"'\", \"''\"...</td>\n",
       "      <td>0</td>\n",
       "      <td>-0.114996</td>\n",
       "      <td>-0.031873</td>\n",
       "    </tr>\n",
       "    <tr>\n",
       "      <th>2</th>\n",
       "      <td>2</td>\n",
       "      <td>['how', 'to', 'ruin', 'your', 'movie', 'library']</td>\n",
       "      <td>Mequbbal_Trader</td>\n",
       "      <td>1atvcqx</td>\n",
       "      <td>2024-02-18 14:31:17</td>\n",
       "      <td>How to ruin your movie library</td>\n",
       "      <td>['ruin', 'movie', 'library']</td>\n",
       "      <td>['ruin', 'movie', 'library']</td>\n",
       "      <td>[('[', 'JJ'), (\"'ruin\", 'NNP'), (\"'\", 'POS'), ...</td>\n",
       "      <td>0</td>\n",
       "      <td>-0.114996</td>\n",
       "      <td>-0.031873</td>\n",
       "    </tr>\n",
       "    <tr>\n",
       "      <th>3</th>\n",
       "      <td>3</td>\n",
       "      <td>['i', 'was', 'really', 'wrong', 'about', 'the'...</td>\n",
       "      <td>AppleBottmBeans</td>\n",
       "      <td>1amtycf</td>\n",
       "      <td>2024-02-09 17:45:25</td>\n",
       "      <td>I was REALLY wrong about the AVP. This is the ...</td>\n",
       "      <td>['really', 'wrong', 'avp', 'incredible', 'piec...</td>\n",
       "      <td>['really', 'wrong', 'avp', 'incredible', 'piec...</td>\n",
       "      <td>[('[', 'RB'), (\"'really\", 'RB'), (\"'\", \"''\"), ...</td>\n",
       "      <td>0</td>\n",
       "      <td>-0.178261</td>\n",
       "      <td>-0.125401</td>\n",
       "    </tr>\n",
       "    <tr>\n",
       "      <th>4</th>\n",
       "      <td>4</td>\n",
       "      <td>['apple', 'vision', 'pro', 'is', 'the', 'best'...</td>\n",
       "      <td>Deathtosnoopy</td>\n",
       "      <td>1b2jq3m</td>\n",
       "      <td>2024-02-28 22:35:12</td>\n",
       "      <td>Apple vision pro is the best thing to happen t...</td>\n",
       "      <td>['apple', 'vision', 'pro', 'best', 'thing', 'h...</td>\n",
       "      <td>['apple', 'vision', 'pro', 'best', 'thing', 'h...</td>\n",
       "      <td>[('[', 'JJ'), (\"'apple\", 'NNP'), (\"'\", 'POS'),...</td>\n",
       "      <td>2</td>\n",
       "      <td>0.393936</td>\n",
       "      <td>-0.019660</td>\n",
       "    </tr>\n",
       "  </tbody>\n",
       "</table>\n",
       "</div>"
      ],
      "text/plain": [
       "   Unnamed: 0                                              Title  \\\n",
       "0           0  ['apple', 'vision', 'pro', 'has', 'ruined', 'm...   \n",
       "1           1       ['its', 'too', 'expensive', 'no', 'regrets']   \n",
       "2           2  ['how', 'to', 'ruin', 'your', 'movie', 'library']   \n",
       "3           3  ['i', 'was', 'really', 'wrong', 'about', 'the'...   \n",
       "4           4  ['apple', 'vision', 'pro', 'is', 'the', 'best'...   \n",
       "\n",
       "             Author       ID              Created  \\\n",
       "0  Old_Possible8977  1an21fb  2024-02-09 23:34:09   \n",
       "1       McNerdsAlot  1akdyzo  2024-02-06 16:35:52   \n",
       "2   Mequbbal_Trader  1atvcqx  2024-02-18 14:31:17   \n",
       "3   AppleBottmBeans  1amtycf  2024-02-09 17:45:25   \n",
       "4     Deathtosnoopy  1b2jq3m  2024-02-28 22:35:12   \n",
       "\n",
       "                                      Original_Title  \\\n",
       "0          Apple Vision Pro has ruined movies for me   \n",
       "1                    It’s too expensive. No regrets.   \n",
       "2                     How to ruin your movie library   \n",
       "3  I was REALLY wrong about the AVP. This is the ...   \n",
       "4  Apple vision pro is the best thing to happen t...   \n",
       "\n",
       "                                   Without_stopwords  \\\n",
       "0     ['apple', 'vision', 'pro', 'ruined', 'movies']   \n",
       "1                           ['expensive', 'regrets']   \n",
       "2                       ['ruin', 'movie', 'library']   \n",
       "3  ['really', 'wrong', 'avp', 'incredible', 'piec...   \n",
       "4  ['apple', 'vision', 'pro', 'best', 'thing', 'h...   \n",
       "\n",
       "                                    Lemmatized_Words  \\\n",
       "0     ['apple', 'vision', 'pro', 'ruined', 'movies']   \n",
       "1                           ['expensive', 'regrets']   \n",
       "2                       ['ruin', 'movie', 'library']   \n",
       "3  ['really', 'wrong', 'avp', 'incredible', 'piec...   \n",
       "4  ['apple', 'vision', 'pro', 'best', 'thing', 'h...   \n",
       "\n",
       "                                            Pos_tags  Cluster      PCA1  \\\n",
       "0  [('[', 'JJ'), (\"'apple\", 'NNP'), (\"'\", 'POS'),...        2  0.546980   \n",
       "1  [('[', 'RB'), (\"'expensive\", 'JJ'), (\"'\", \"''\"...        0 -0.114996   \n",
       "2  [('[', 'JJ'), (\"'ruin\", 'NNP'), (\"'\", 'POS'), ...        0 -0.114996   \n",
       "3  [('[', 'RB'), (\"'really\", 'RB'), (\"'\", \"''\"), ...        0 -0.178261   \n",
       "4  [('[', 'JJ'), (\"'apple\", 'NNP'), (\"'\", 'POS'),...        2  0.393936   \n",
       "\n",
       "       PCA2  \n",
       "0 -0.066286  \n",
       "1 -0.031873  \n",
       "2 -0.031873  \n",
       "3 -0.125401  \n",
       "4 -0.019660  "
      ]
     },
     "execution_count": 4,
     "metadata": {},
     "output_type": "execute_result"
    }
   ],
   "source": [
    "df.head()"
   ]
  },
  {
   "cell_type": "code",
   "execution_count": 5,
   "id": "b139f635",
   "metadata": {},
   "outputs": [],
   "source": [
    "df = df.rename(columns={'Unnamed: 0': 'Index'})"
   ]
  },
  {
   "cell_type": "code",
   "execution_count": 6,
   "id": "99d67300",
   "metadata": {},
   "outputs": [
    {
     "data": {
      "text/html": [
       "<div>\n",
       "<style scoped>\n",
       "    .dataframe tbody tr th:only-of-type {\n",
       "        vertical-align: middle;\n",
       "    }\n",
       "\n",
       "    .dataframe tbody tr th {\n",
       "        vertical-align: top;\n",
       "    }\n",
       "\n",
       "    .dataframe thead th {\n",
       "        text-align: right;\n",
       "    }\n",
       "</style>\n",
       "<table border=\"1\" class=\"dataframe\">\n",
       "  <thead>\n",
       "    <tr style=\"text-align: right;\">\n",
       "      <th></th>\n",
       "      <th>Index</th>\n",
       "      <th>Title</th>\n",
       "      <th>Author</th>\n",
       "      <th>ID</th>\n",
       "      <th>Created</th>\n",
       "      <th>Original_Title</th>\n",
       "      <th>Without_stopwords</th>\n",
       "      <th>Lemmatized_Words</th>\n",
       "      <th>Pos_tags</th>\n",
       "      <th>Cluster</th>\n",
       "      <th>PCA1</th>\n",
       "      <th>PCA2</th>\n",
       "    </tr>\n",
       "  </thead>\n",
       "  <tbody>\n",
       "    <tr>\n",
       "      <th>0</th>\n",
       "      <td>0</td>\n",
       "      <td>['apple', 'vision', 'pro', 'has', 'ruined', 'm...</td>\n",
       "      <td>Old_Possible8977</td>\n",
       "      <td>1an21fb</td>\n",
       "      <td>2024-02-09 23:34:09</td>\n",
       "      <td>Apple Vision Pro has ruined movies for me</td>\n",
       "      <td>['apple', 'vision', 'pro', 'ruined', 'movies']</td>\n",
       "      <td>['apple', 'vision', 'pro', 'ruined', 'movies']</td>\n",
       "      <td>[('[', 'JJ'), (\"'apple\", 'NNP'), (\"'\", 'POS'),...</td>\n",
       "      <td>2</td>\n",
       "      <td>0.546980</td>\n",
       "      <td>-0.066286</td>\n",
       "    </tr>\n",
       "    <tr>\n",
       "      <th>1</th>\n",
       "      <td>1</td>\n",
       "      <td>['its', 'too', 'expensive', 'no', 'regrets']</td>\n",
       "      <td>McNerdsAlot</td>\n",
       "      <td>1akdyzo</td>\n",
       "      <td>2024-02-06 16:35:52</td>\n",
       "      <td>It’s too expensive. No regrets.</td>\n",
       "      <td>['expensive', 'regrets']</td>\n",
       "      <td>['expensive', 'regrets']</td>\n",
       "      <td>[('[', 'RB'), (\"'expensive\", 'JJ'), (\"'\", \"''\"...</td>\n",
       "      <td>0</td>\n",
       "      <td>-0.114996</td>\n",
       "      <td>-0.031873</td>\n",
       "    </tr>\n",
       "    <tr>\n",
       "      <th>2</th>\n",
       "      <td>2</td>\n",
       "      <td>['how', 'to', 'ruin', 'your', 'movie', 'library']</td>\n",
       "      <td>Mequbbal_Trader</td>\n",
       "      <td>1atvcqx</td>\n",
       "      <td>2024-02-18 14:31:17</td>\n",
       "      <td>How to ruin your movie library</td>\n",
       "      <td>['ruin', 'movie', 'library']</td>\n",
       "      <td>['ruin', 'movie', 'library']</td>\n",
       "      <td>[('[', 'JJ'), (\"'ruin\", 'NNP'), (\"'\", 'POS'), ...</td>\n",
       "      <td>0</td>\n",
       "      <td>-0.114996</td>\n",
       "      <td>-0.031873</td>\n",
       "    </tr>\n",
       "    <tr>\n",
       "      <th>3</th>\n",
       "      <td>3</td>\n",
       "      <td>['i', 'was', 'really', 'wrong', 'about', 'the'...</td>\n",
       "      <td>AppleBottmBeans</td>\n",
       "      <td>1amtycf</td>\n",
       "      <td>2024-02-09 17:45:25</td>\n",
       "      <td>I was REALLY wrong about the AVP. This is the ...</td>\n",
       "      <td>['really', 'wrong', 'avp', 'incredible', 'piec...</td>\n",
       "      <td>['really', 'wrong', 'avp', 'incredible', 'piec...</td>\n",
       "      <td>[('[', 'RB'), (\"'really\", 'RB'), (\"'\", \"''\"), ...</td>\n",
       "      <td>0</td>\n",
       "      <td>-0.178261</td>\n",
       "      <td>-0.125401</td>\n",
       "    </tr>\n",
       "    <tr>\n",
       "      <th>4</th>\n",
       "      <td>4</td>\n",
       "      <td>['apple', 'vision', 'pro', 'is', 'the', 'best'...</td>\n",
       "      <td>Deathtosnoopy</td>\n",
       "      <td>1b2jq3m</td>\n",
       "      <td>2024-02-28 22:35:12</td>\n",
       "      <td>Apple vision pro is the best thing to happen t...</td>\n",
       "      <td>['apple', 'vision', 'pro', 'best', 'thing', 'h...</td>\n",
       "      <td>['apple', 'vision', 'pro', 'best', 'thing', 'h...</td>\n",
       "      <td>[('[', 'JJ'), (\"'apple\", 'NNP'), (\"'\", 'POS'),...</td>\n",
       "      <td>2</td>\n",
       "      <td>0.393936</td>\n",
       "      <td>-0.019660</td>\n",
       "    </tr>\n",
       "  </tbody>\n",
       "</table>\n",
       "</div>"
      ],
      "text/plain": [
       "   Index                                              Title            Author  \\\n",
       "0      0  ['apple', 'vision', 'pro', 'has', 'ruined', 'm...  Old_Possible8977   \n",
       "1      1       ['its', 'too', 'expensive', 'no', 'regrets']       McNerdsAlot   \n",
       "2      2  ['how', 'to', 'ruin', 'your', 'movie', 'library']   Mequbbal_Trader   \n",
       "3      3  ['i', 'was', 'really', 'wrong', 'about', 'the'...   AppleBottmBeans   \n",
       "4      4  ['apple', 'vision', 'pro', 'is', 'the', 'best'...     Deathtosnoopy   \n",
       "\n",
       "        ID              Created  \\\n",
       "0  1an21fb  2024-02-09 23:34:09   \n",
       "1  1akdyzo  2024-02-06 16:35:52   \n",
       "2  1atvcqx  2024-02-18 14:31:17   \n",
       "3  1amtycf  2024-02-09 17:45:25   \n",
       "4  1b2jq3m  2024-02-28 22:35:12   \n",
       "\n",
       "                                      Original_Title  \\\n",
       "0          Apple Vision Pro has ruined movies for me   \n",
       "1                    It’s too expensive. No regrets.   \n",
       "2                     How to ruin your movie library   \n",
       "3  I was REALLY wrong about the AVP. This is the ...   \n",
       "4  Apple vision pro is the best thing to happen t...   \n",
       "\n",
       "                                   Without_stopwords  \\\n",
       "0     ['apple', 'vision', 'pro', 'ruined', 'movies']   \n",
       "1                           ['expensive', 'regrets']   \n",
       "2                       ['ruin', 'movie', 'library']   \n",
       "3  ['really', 'wrong', 'avp', 'incredible', 'piec...   \n",
       "4  ['apple', 'vision', 'pro', 'best', 'thing', 'h...   \n",
       "\n",
       "                                    Lemmatized_Words  \\\n",
       "0     ['apple', 'vision', 'pro', 'ruined', 'movies']   \n",
       "1                           ['expensive', 'regrets']   \n",
       "2                       ['ruin', 'movie', 'library']   \n",
       "3  ['really', 'wrong', 'avp', 'incredible', 'piec...   \n",
       "4  ['apple', 'vision', 'pro', 'best', 'thing', 'h...   \n",
       "\n",
       "                                            Pos_tags  Cluster      PCA1  \\\n",
       "0  [('[', 'JJ'), (\"'apple\", 'NNP'), (\"'\", 'POS'),...        2  0.546980   \n",
       "1  [('[', 'RB'), (\"'expensive\", 'JJ'), (\"'\", \"''\"...        0 -0.114996   \n",
       "2  [('[', 'JJ'), (\"'ruin\", 'NNP'), (\"'\", 'POS'), ...        0 -0.114996   \n",
       "3  [('[', 'RB'), (\"'really\", 'RB'), (\"'\", \"''\"), ...        0 -0.178261   \n",
       "4  [('[', 'JJ'), (\"'apple\", 'NNP'), (\"'\", 'POS'),...        2  0.393936   \n",
       "\n",
       "       PCA2  \n",
       "0 -0.066286  \n",
       "1 -0.031873  \n",
       "2 -0.031873  \n",
       "3 -0.125401  \n",
       "4 -0.019660  "
      ]
     },
     "execution_count": 6,
     "metadata": {},
     "output_type": "execute_result"
    }
   ],
   "source": [
    "df.head()"
   ]
  },
  {
   "cell_type": "code",
   "execution_count": 7,
   "id": "7487a634",
   "metadata": {},
   "outputs": [],
   "source": [
    "a = df['Original_Title'][0]"
   ]
  },
  {
   "cell_type": "code",
   "execution_count": 8,
   "id": "7fb001b5",
   "metadata": {},
   "outputs": [
    {
     "name": "stdout",
     "output_type": "stream",
     "text": [
      "Apple Vision Pro has ruined movies for me\n"
     ]
    }
   ],
   "source": [
    "print(a)"
   ]
  },
  {
   "cell_type": "code",
   "execution_count": 9,
   "id": "6a010b12",
   "metadata": {},
   "outputs": [],
   "source": [
    "tokens = nltk.word_tokenize(a)"
   ]
  },
  {
   "cell_type": "code",
   "execution_count": 10,
   "id": "063aea19",
   "metadata": {},
   "outputs": [],
   "source": [
    "tagged = nltk.pos_tag(tokens)"
   ]
  },
  {
   "cell_type": "code",
   "execution_count": 11,
   "id": "fb53b28b",
   "metadata": {
    "scrolled": true
   },
   "outputs": [
    {
     "data": {
      "text/plain": [
       "[('Apple', 'NNP'),\n",
       " ('Vision', 'NNP'),\n",
       " ('Pro', 'NNP'),\n",
       " ('has', 'VBZ'),\n",
       " ('ruined', 'VBN'),\n",
       " ('movies', 'NNS'),\n",
       " ('for', 'IN'),\n",
       " ('me', 'PRP')]"
      ]
     },
     "execution_count": 11,
     "metadata": {},
     "output_type": "execute_result"
    }
   ],
   "source": [
    "tagged"
   ]
  },
  {
   "cell_type": "code",
   "execution_count": 12,
   "id": "4e6af8ef",
   "metadata": {},
   "outputs": [],
   "source": [
    "# Chunking the data"
   ]
  },
  {
   "cell_type": "code",
   "execution_count": 13,
   "id": "277ba2d5",
   "metadata": {},
   "outputs": [],
   "source": [
    "entities = nltk.chunk.ne_chunk(tagged)"
   ]
  },
  {
   "cell_type": "code",
   "execution_count": 14,
   "id": "a1a596e1",
   "metadata": {
    "scrolled": true
   },
   "outputs": [
    {
     "name": "stdout",
     "output_type": "stream",
     "text": [
      "(S\n",
      "  (PERSON Apple/NNP)\n",
      "  (PERSON Vision/NNP Pro/NNP)\n",
      "  has/VBZ\n",
      "  ruined/VBN\n",
      "  movies/NNS\n",
      "  for/IN\n",
      "  me/PRP)\n"
     ]
    }
   ],
   "source": [
    "entities.pprint()"
   ]
  },
  {
   "cell_type": "code",
   "execution_count": 15,
   "id": "7f3c4641",
   "metadata": {},
   "outputs": [],
   "source": [
    "# Implementing VADER model for finding the sentiment"
   ]
  },
  {
   "cell_type": "code",
   "execution_count": 16,
   "id": "9b5a53b2",
   "metadata": {},
   "outputs": [],
   "source": [
    "from nltk.sentiment import SentimentIntensityAnalyzer\n",
    "from tqdm.notebook import tqdm"
   ]
  },
  {
   "cell_type": "code",
   "execution_count": 17,
   "id": "420ce2f3",
   "metadata": {},
   "outputs": [],
   "source": [
    "sia = SentimentIntensityAnalyzer()"
   ]
  },
  {
   "cell_type": "code",
   "execution_count": 18,
   "id": "2c5a029e",
   "metadata": {},
   "outputs": [
    {
     "data": {
      "text/plain": [
       "{'neg': 0.279, 'neu': 0.541, 'pos': 0.18, 'compound': -0.2732}"
      ]
     },
     "execution_count": 18,
     "metadata": {},
     "output_type": "execute_result"
    }
   ],
   "source": [
    "sia.polarity_scores(a)"
   ]
  },
  {
   "cell_type": "code",
   "execution_count": 19,
   "id": "41baa1b7",
   "metadata": {},
   "outputs": [
    {
     "data": {
      "application/vnd.jupyter.widget-view+json": {
       "model_id": "d2f0dc664fb24ba6adf2d9e2abfe5cc1",
       "version_major": 2,
       "version_minor": 0
      },
      "text/plain": [
       "  0%|          | 0/60 [00:00<?, ?it/s]"
      ]
     },
     "metadata": {},
     "output_type": "display_data"
    }
   ],
   "source": [
    "res = {}\n",
    "for i, row in tqdm(df.iterrows(),total=len(df)):\n",
    "    text = row['Original_Title']\n",
    "    myid= row['Index']\n",
    "    res[myid] = sia.polarity_scores(text)"
   ]
  },
  {
   "cell_type": "code",
   "execution_count": 20,
   "id": "e9989e5f",
   "metadata": {},
   "outputs": [
    {
     "data": {
      "text/plain": [
       "{0: {'neg': 0.279, 'neu': 0.541, 'pos': 0.18, 'compound': -0.2732},\n",
       " 1: {'neg': 0.61, 'neu': 0.39, 'pos': 0.0, 'compound': -0.5719},\n",
       " 2: {'neg': 0.432, 'neu': 0.568, 'pos': 0.0, 'compound': -0.5859},\n",
       " 3: {'neg': 0.205, 'neu': 0.795, 'pos': 0.0, 'compound': -0.6281},\n",
       " 4: {'neg': 0.0, 'neu': 0.64, 'pos': 0.36, 'compound': 0.7351},\n",
       " 5: {'neg': 0.0, 'neu': 0.875, 'pos': 0.125, 'compound': 0.25},\n",
       " 6: {'neg': 0.162, 'neu': 0.602, 'pos': 0.236, 'compound': 0.3818},\n",
       " 7: {'neg': 0.292, 'neu': 0.708, 'pos': 0.0, 'compound': -0.3566},\n",
       " 8: {'neg': 0.0, 'neu': 1.0, 'pos': 0.0, 'compound': 0.0},\n",
       " 9: {'neg': 0.0, 'neu': 1.0, 'pos': 0.0, 'compound': 0.0},\n",
       " 10: {'neg': 0.444, 'neu': 0.278, 'pos': 0.278, 'compound': -0.296},\n",
       " 11: {'neg': 0.0, 'neu': 1.0, 'pos': 0.0, 'compound': 0.0},\n",
       " 12: {'neg': 0.0, 'neu': 0.543, 'pos': 0.457, 'compound': 0.6369},\n",
       " 13: {'neg': 0.195, 'neu': 0.575, 'pos': 0.23, 'compound': 0.0772},\n",
       " 14: {'neg': 0.0, 'neu': 0.822, 'pos': 0.178, 'compound': 0.0763},\n",
       " 15: {'neg': 0.0, 'neu': 0.62, 'pos': 0.38, 'compound': 0.5093},\n",
       " 16: {'neg': 0.333, 'neu': 0.667, 'pos': 0.0, 'compound': -0.4588},\n",
       " 17: {'neg': 0.0, 'neu': 1.0, 'pos': 0.0, 'compound': 0.0},\n",
       " 18: {'neg': 0.0, 'neu': 1.0, 'pos': 0.0, 'compound': 0.0},\n",
       " 19: {'neg': 0.0, 'neu': 1.0, 'pos': 0.0, 'compound': 0.0},\n",
       " 20: {'neg': 0.0, 'neu': 1.0, 'pos': 0.0, 'compound': 0.0},\n",
       " 21: {'neg': 0.0, 'neu': 0.777, 'pos': 0.223, 'compound': 0.4359},\n",
       " 22: {'neg': 0.284, 'neu': 0.459, 'pos': 0.257, 'compound': -0.0772},\n",
       " 23: {'neg': 0.0, 'neu': 1.0, 'pos': 0.0, 'compound': 0.0},\n",
       " 24: {'neg': 0.0, 'neu': 1.0, 'pos': 0.0, 'compound': 0.0},\n",
       " 25: {'neg': 0.0, 'neu': 0.278, 'pos': 0.722, 'compound': 0.3818},\n",
       " 26: {'neg': 0.0, 'neu': 1.0, 'pos': 0.0, 'compound': 0.0},\n",
       " 27: {'neg': 0.0, 'neu': 0.484, 'pos': 0.516, 'compound': 0.4939},\n",
       " 28: {'neg': 0.0, 'neu': 1.0, 'pos': 0.0, 'compound': 0.0},\n",
       " 29: {'neg': 0.0, 'neu': 0.816, 'pos': 0.184, 'compound': 0.4019},\n",
       " 30: {'neg': 0.0, 'neu': 0.859, 'pos': 0.141, 'compound': 0.3164},\n",
       " 31: {'neg': 0.0, 'neu': 1.0, 'pos': 0.0, 'compound': 0.0},\n",
       " 32: {'neg': 0.0, 'neu': 0.8, 'pos': 0.2, 'compound': 0.25},\n",
       " 33: {'neg': 0.0, 'neu': 0.717, 'pos': 0.283, 'compound': 0.7579},\n",
       " 34: {'neg': 0.0, 'neu': 0.656, 'pos': 0.344, 'compound': 0.6369},\n",
       " 35: {'neg': 0.0, 'neu': 0.783, 'pos': 0.217, 'compound': 0.3612},\n",
       " 36: {'neg': 0.199, 'neu': 0.64, 'pos': 0.16, 'compound': -0.126},\n",
       " 37: {'neg': 0.0, 'neu': 1.0, 'pos': 0.0, 'compound': 0.0},\n",
       " 38: {'neg': 1.0, 'neu': 0.0, 'pos': 0.0, 'compound': -0.4767},\n",
       " 39: {'neg': 0.0, 'neu': 1.0, 'pos': 0.0, 'compound': 0.0},\n",
       " 40: {'neg': 0.0, 'neu': 0.75, 'pos': 0.25, 'compound': 0.25},\n",
       " 41: {'neg': 0.0, 'neu': 1.0, 'pos': 0.0, 'compound': 0.0},\n",
       " 42: {'neg': 0.0, 'neu': 0.846, 'pos': 0.154, 'compound': 0.25},\n",
       " 43: {'neg': 0.0, 'neu': 0.476, 'pos': 0.524, 'compound': 0.296},\n",
       " 44: {'neg': 0.0, 'neu': 1.0, 'pos': 0.0, 'compound': 0.0},\n",
       " 45: {'neg': 0.0, 'neu': 0.786, 'pos': 0.214, 'compound': 0.4572},\n",
       " 46: {'neg': 0.336, 'neu': 0.431, 'pos': 0.233, 'compound': -0.0516},\n",
       " 47: {'neg': 0.0, 'neu': 1.0, 'pos': 0.0, 'compound': 0.0},\n",
       " 48: {'neg': 0.184, 'neu': 0.441, 'pos': 0.375, 'compound': 0.3818},\n",
       " 49: {'neg': 0.0, 'neu': 0.436, 'pos': 0.564, 'compound': 0.3802},\n",
       " 50: {'neg': 0.0, 'neu': 1.0, 'pos': 0.0, 'compound': 0.0},\n",
       " 51: {'neg': 0.189, 'neu': 0.541, 'pos': 0.27, 'compound': 0.1531},\n",
       " 52: {'neg': 0.0, 'neu': 0.896, 'pos': 0.104, 'compound': 0.1901},\n",
       " 53: {'neg': 0.0, 'neu': 1.0, 'pos': 0.0, 'compound': 0.0},\n",
       " 54: {'neg': 0.0, 'neu': 1.0, 'pos': 0.0, 'compound': 0.0},\n",
       " 55: {'neg': 0.434, 'neu': 0.566, 'pos': 0.0, 'compound': -0.3182},\n",
       " 56: {'neg': 0.0, 'neu': 1.0, 'pos': 0.0, 'compound': 0.0},\n",
       " 57: {'neg': 0.0, 'neu': 1.0, 'pos': 0.0, 'compound': 0.0},\n",
       " 58: {'neg': 0.0, 'neu': 1.0, 'pos': 0.0, 'compound': 0.0},\n",
       " 59: {'neg': 0.0, 'neu': 1.0, 'pos': 0.0, 'compound': 0.0}}"
      ]
     },
     "execution_count": 20,
     "metadata": {},
     "output_type": "execute_result"
    }
   ],
   "source": [
    "res"
   ]
  },
  {
   "cell_type": "code",
   "execution_count": 21,
   "id": "6f7fb60f",
   "metadata": {},
   "outputs": [],
   "source": [
    "polarity_Scores = pd.DataFrame(res).T"
   ]
  },
  {
   "cell_type": "code",
   "execution_count": 22,
   "id": "1606e7ab",
   "metadata": {
    "scrolled": true
   },
   "outputs": [
    {
     "data": {
      "text/html": [
       "<div>\n",
       "<style scoped>\n",
       "    .dataframe tbody tr th:only-of-type {\n",
       "        vertical-align: middle;\n",
       "    }\n",
       "\n",
       "    .dataframe tbody tr th {\n",
       "        vertical-align: top;\n",
       "    }\n",
       "\n",
       "    .dataframe thead th {\n",
       "        text-align: right;\n",
       "    }\n",
       "</style>\n",
       "<table border=\"1\" class=\"dataframe\">\n",
       "  <thead>\n",
       "    <tr style=\"text-align: right;\">\n",
       "      <th></th>\n",
       "      <th>neg</th>\n",
       "      <th>neu</th>\n",
       "      <th>pos</th>\n",
       "      <th>compound</th>\n",
       "    </tr>\n",
       "  </thead>\n",
       "  <tbody>\n",
       "    <tr>\n",
       "      <th>0</th>\n",
       "      <td>0.279</td>\n",
       "      <td>0.541</td>\n",
       "      <td>0.18</td>\n",
       "      <td>-0.2732</td>\n",
       "    </tr>\n",
       "    <tr>\n",
       "      <th>1</th>\n",
       "      <td>0.610</td>\n",
       "      <td>0.390</td>\n",
       "      <td>0.00</td>\n",
       "      <td>-0.5719</td>\n",
       "    </tr>\n",
       "    <tr>\n",
       "      <th>2</th>\n",
       "      <td>0.432</td>\n",
       "      <td>0.568</td>\n",
       "      <td>0.00</td>\n",
       "      <td>-0.5859</td>\n",
       "    </tr>\n",
       "    <tr>\n",
       "      <th>3</th>\n",
       "      <td>0.205</td>\n",
       "      <td>0.795</td>\n",
       "      <td>0.00</td>\n",
       "      <td>-0.6281</td>\n",
       "    </tr>\n",
       "    <tr>\n",
       "      <th>4</th>\n",
       "      <td>0.000</td>\n",
       "      <td>0.640</td>\n",
       "      <td>0.36</td>\n",
       "      <td>0.7351</td>\n",
       "    </tr>\n",
       "  </tbody>\n",
       "</table>\n",
       "</div>"
      ],
      "text/plain": [
       "     neg    neu   pos  compound\n",
       "0  0.279  0.541  0.18   -0.2732\n",
       "1  0.610  0.390  0.00   -0.5719\n",
       "2  0.432  0.568  0.00   -0.5859\n",
       "3  0.205  0.795  0.00   -0.6281\n",
       "4  0.000  0.640  0.36    0.7351"
      ]
     },
     "execution_count": 22,
     "metadata": {},
     "output_type": "execute_result"
    }
   ],
   "source": [
    "polarity_Scores.head()"
   ]
  },
  {
   "cell_type": "code",
   "execution_count": 23,
   "id": "abf74ddd",
   "metadata": {},
   "outputs": [],
   "source": [
    "import pandas as pd\n",
    "\n",
    "# Define the function classify_sentiment\n",
    "def classify_sentiment(df):\n",
    "    \"\"\"\n",
    "    Classifies sentiment labels based on compound scores in a DataFrame.\n",
    "\n",
    "    Parameters:\n",
    "        df (DataFrame): DataFrame containing compound scores.\n",
    "\n",
    "    Returns:\n",
    "        DataFrame: DataFrame with additional column 'Sentiment' containing sentiment labels.\n",
    "    \"\"\"\n",
    "    def get_sentiment(compound_score):\n",
    "        if compound_score > 0.05:\n",
    "            return 1\n",
    "        elif compound_score < -0.05:\n",
    "            return -1\n",
    "        else:\n",
    "            return 0\n",
    "\n",
    "    df['Sentiment'] = df['compound'].apply(get_sentiment)\n",
    "    return df"
   ]
  },
  {
   "cell_type": "code",
   "execution_count": 24,
   "id": "3385e65f",
   "metadata": {},
   "outputs": [
    {
     "name": "stdout",
     "output_type": "stream",
     "text": [
      "      neg    neu    pos  compound  Sentiment\n",
      "0   0.279  0.541  0.180   -0.2732         -1\n",
      "1   0.610  0.390  0.000   -0.5719         -1\n",
      "2   0.432  0.568  0.000   -0.5859         -1\n",
      "3   0.205  0.795  0.000   -0.6281         -1\n",
      "4   0.000  0.640  0.360    0.7351          1\n",
      "5   0.000  0.875  0.125    0.2500          1\n",
      "6   0.162  0.602  0.236    0.3818          1\n",
      "7   0.292  0.708  0.000   -0.3566         -1\n",
      "8   0.000  1.000  0.000    0.0000          0\n",
      "9   0.000  1.000  0.000    0.0000          0\n",
      "10  0.444  0.278  0.278   -0.2960         -1\n",
      "11  0.000  1.000  0.000    0.0000          0\n",
      "12  0.000  0.543  0.457    0.6369          1\n",
      "13  0.195  0.575  0.230    0.0772          1\n",
      "14  0.000  0.822  0.178    0.0763          1\n",
      "15  0.000  0.620  0.380    0.5093          1\n",
      "16  0.333  0.667  0.000   -0.4588         -1\n",
      "17  0.000  1.000  0.000    0.0000          0\n",
      "18  0.000  1.000  0.000    0.0000          0\n",
      "19  0.000  1.000  0.000    0.0000          0\n",
      "20  0.000  1.000  0.000    0.0000          0\n",
      "21  0.000  0.777  0.223    0.4359          1\n",
      "22  0.284  0.459  0.257   -0.0772         -1\n",
      "23  0.000  1.000  0.000    0.0000          0\n",
      "24  0.000  1.000  0.000    0.0000          0\n",
      "25  0.000  0.278  0.722    0.3818          1\n",
      "26  0.000  1.000  0.000    0.0000          0\n",
      "27  0.000  0.484  0.516    0.4939          1\n",
      "28  0.000  1.000  0.000    0.0000          0\n",
      "29  0.000  0.816  0.184    0.4019          1\n",
      "30  0.000  0.859  0.141    0.3164          1\n",
      "31  0.000  1.000  0.000    0.0000          0\n",
      "32  0.000  0.800  0.200    0.2500          1\n",
      "33  0.000  0.717  0.283    0.7579          1\n",
      "34  0.000  0.656  0.344    0.6369          1\n",
      "35  0.000  0.783  0.217    0.3612          1\n",
      "36  0.199  0.640  0.160   -0.1260         -1\n",
      "37  0.000  1.000  0.000    0.0000          0\n",
      "38  1.000  0.000  0.000   -0.4767         -1\n",
      "39  0.000  1.000  0.000    0.0000          0\n",
      "40  0.000  0.750  0.250    0.2500          1\n",
      "41  0.000  1.000  0.000    0.0000          0\n",
      "42  0.000  0.846  0.154    0.2500          1\n",
      "43  0.000  0.476  0.524    0.2960          1\n",
      "44  0.000  1.000  0.000    0.0000          0\n",
      "45  0.000  0.786  0.214    0.4572          1\n",
      "46  0.336  0.431  0.233   -0.0516         -1\n",
      "47  0.000  1.000  0.000    0.0000          0\n",
      "48  0.184  0.441  0.375    0.3818          1\n",
      "49  0.000  0.436  0.564    0.3802          1\n",
      "50  0.000  1.000  0.000    0.0000          0\n",
      "51  0.189  0.541  0.270    0.1531          1\n",
      "52  0.000  0.896  0.104    0.1901          1\n",
      "53  0.000  1.000  0.000    0.0000          0\n",
      "54  0.000  1.000  0.000    0.0000          0\n",
      "55  0.434  0.566  0.000   -0.3182         -1\n",
      "56  0.000  1.000  0.000    0.0000          0\n",
      "57  0.000  1.000  0.000    0.0000          0\n",
      "58  0.000  1.000  0.000    0.0000          0\n",
      "59  0.000  1.000  0.000    0.0000          0\n"
     ]
    }
   ],
   "source": [
    "# Classify sentiment using the provided function\n",
    "df_with_sentiment = classify_sentiment(polarity_Scores)\n",
    "print(df_with_sentiment)"
   ]
  },
  {
   "cell_type": "code",
   "execution_count": 25,
   "id": "df068eac",
   "metadata": {},
   "outputs": [
    {
     "data": {
      "text/plain": [
       "12"
      ]
     },
     "execution_count": 25,
     "metadata": {},
     "output_type": "execute_result"
    }
   ],
   "source": [
    "sum(df_with_sentiment['Sentiment'])"
   ]
  },
  {
   "cell_type": "code",
   "execution_count": 26,
   "id": "ca05de72",
   "metadata": {},
   "outputs": [
    {
     "data": {
      "text/plain": [
       "0.2"
      ]
     },
     "execution_count": 26,
     "metadata": {},
     "output_type": "execute_result"
    }
   ],
   "source": [
    "from statistics import mean\n",
    " \n",
    "mean(df_with_sentiment['Sentiment'])"
   ]
  },
  {
   "cell_type": "code",
   "execution_count": 27,
   "id": "3146946b",
   "metadata": {},
   "outputs": [
    {
     "name": "stdout",
     "output_type": "stream",
     "text": [
      "neg          float64\n",
      "neu          float64\n",
      "pos          float64\n",
      "compound     float64\n",
      "Sentiment      int64\n",
      "dtype: object\n"
     ]
    }
   ],
   "source": [
    "print(df_with_sentiment.dtypes)"
   ]
  },
  {
   "cell_type": "markdown",
   "id": "3169f0d8",
   "metadata": {},
   "source": [
    "# Implementing Naive Bias"
   ]
  },
  {
   "cell_type": "code",
   "execution_count": 28,
   "id": "6f043c59",
   "metadata": {},
   "outputs": [],
   "source": [
    "df2 = pd.DataFrame(df_with_sentiment)"
   ]
  },
  {
   "cell_type": "code",
   "execution_count": 29,
   "id": "bda4cb54",
   "metadata": {},
   "outputs": [
    {
     "data": {
      "text/html": [
       "<div>\n",
       "<style scoped>\n",
       "    .dataframe tbody tr th:only-of-type {\n",
       "        vertical-align: middle;\n",
       "    }\n",
       "\n",
       "    .dataframe tbody tr th {\n",
       "        vertical-align: top;\n",
       "    }\n",
       "\n",
       "    .dataframe thead th {\n",
       "        text-align: right;\n",
       "    }\n",
       "</style>\n",
       "<table border=\"1\" class=\"dataframe\">\n",
       "  <thead>\n",
       "    <tr style=\"text-align: right;\">\n",
       "      <th></th>\n",
       "      <th>neg</th>\n",
       "      <th>neu</th>\n",
       "      <th>pos</th>\n",
       "      <th>compound</th>\n",
       "      <th>Sentiment</th>\n",
       "    </tr>\n",
       "  </thead>\n",
       "  <tbody>\n",
       "    <tr>\n",
       "      <th>0</th>\n",
       "      <td>0.279</td>\n",
       "      <td>0.541</td>\n",
       "      <td>0.18</td>\n",
       "      <td>-0.2732</td>\n",
       "      <td>-1</td>\n",
       "    </tr>\n",
       "    <tr>\n",
       "      <th>1</th>\n",
       "      <td>0.610</td>\n",
       "      <td>0.390</td>\n",
       "      <td>0.00</td>\n",
       "      <td>-0.5719</td>\n",
       "      <td>-1</td>\n",
       "    </tr>\n",
       "    <tr>\n",
       "      <th>2</th>\n",
       "      <td>0.432</td>\n",
       "      <td>0.568</td>\n",
       "      <td>0.00</td>\n",
       "      <td>-0.5859</td>\n",
       "      <td>-1</td>\n",
       "    </tr>\n",
       "    <tr>\n",
       "      <th>3</th>\n",
       "      <td>0.205</td>\n",
       "      <td>0.795</td>\n",
       "      <td>0.00</td>\n",
       "      <td>-0.6281</td>\n",
       "      <td>-1</td>\n",
       "    </tr>\n",
       "    <tr>\n",
       "      <th>4</th>\n",
       "      <td>0.000</td>\n",
       "      <td>0.640</td>\n",
       "      <td>0.36</td>\n",
       "      <td>0.7351</td>\n",
       "      <td>1</td>\n",
       "    </tr>\n",
       "  </tbody>\n",
       "</table>\n",
       "</div>"
      ],
      "text/plain": [
       "     neg    neu   pos  compound  Sentiment\n",
       "0  0.279  0.541  0.18   -0.2732         -1\n",
       "1  0.610  0.390  0.00   -0.5719         -1\n",
       "2  0.432  0.568  0.00   -0.5859         -1\n",
       "3  0.205  0.795  0.00   -0.6281         -1\n",
       "4  0.000  0.640  0.36    0.7351          1"
      ]
     },
     "execution_count": 29,
     "metadata": {},
     "output_type": "execute_result"
    }
   ],
   "source": [
    "df2.head()"
   ]
  },
  {
   "cell_type": "code",
   "execution_count": 30,
   "id": "b663d834",
   "metadata": {
    "scrolled": false
   },
   "outputs": [],
   "source": [
    "df['neg']= df_with_sentiment['neg']\n",
    "df['neu']= df_with_sentiment['neu']\n",
    "df['pos']= df_with_sentiment['pos']\n",
    "df['compound']= df_with_sentiment['compound']\n",
    "df['Sentiment']= df_with_sentiment['Sentiment']"
   ]
  },
  {
   "cell_type": "code",
   "execution_count": 31,
   "id": "8c048b92",
   "metadata": {
    "scrolled": false
   },
   "outputs": [
    {
     "data": {
      "text/html": [
       "<div>\n",
       "<style scoped>\n",
       "    .dataframe tbody tr th:only-of-type {\n",
       "        vertical-align: middle;\n",
       "    }\n",
       "\n",
       "    .dataframe tbody tr th {\n",
       "        vertical-align: top;\n",
       "    }\n",
       "\n",
       "    .dataframe thead th {\n",
       "        text-align: right;\n",
       "    }\n",
       "</style>\n",
       "<table border=\"1\" class=\"dataframe\">\n",
       "  <thead>\n",
       "    <tr style=\"text-align: right;\">\n",
       "      <th></th>\n",
       "      <th>Index</th>\n",
       "      <th>Title</th>\n",
       "      <th>Author</th>\n",
       "      <th>ID</th>\n",
       "      <th>Created</th>\n",
       "      <th>Original_Title</th>\n",
       "      <th>Without_stopwords</th>\n",
       "      <th>Lemmatized_Words</th>\n",
       "      <th>Pos_tags</th>\n",
       "      <th>Cluster</th>\n",
       "      <th>PCA1</th>\n",
       "      <th>PCA2</th>\n",
       "      <th>neg</th>\n",
       "      <th>neu</th>\n",
       "      <th>pos</th>\n",
       "      <th>compound</th>\n",
       "      <th>Sentiment</th>\n",
       "    </tr>\n",
       "  </thead>\n",
       "  <tbody>\n",
       "    <tr>\n",
       "      <th>0</th>\n",
       "      <td>0</td>\n",
       "      <td>['apple', 'vision', 'pro', 'has', 'ruined', 'm...</td>\n",
       "      <td>Old_Possible8977</td>\n",
       "      <td>1an21fb</td>\n",
       "      <td>2024-02-09 23:34:09</td>\n",
       "      <td>Apple Vision Pro has ruined movies for me</td>\n",
       "      <td>['apple', 'vision', 'pro', 'ruined', 'movies']</td>\n",
       "      <td>['apple', 'vision', 'pro', 'ruined', 'movies']</td>\n",
       "      <td>[('[', 'JJ'), (\"'apple\", 'NNP'), (\"'\", 'POS'),...</td>\n",
       "      <td>2</td>\n",
       "      <td>0.546980</td>\n",
       "      <td>-0.066286</td>\n",
       "      <td>0.279</td>\n",
       "      <td>0.541</td>\n",
       "      <td>0.18</td>\n",
       "      <td>-0.2732</td>\n",
       "      <td>-1</td>\n",
       "    </tr>\n",
       "    <tr>\n",
       "      <th>1</th>\n",
       "      <td>1</td>\n",
       "      <td>['its', 'too', 'expensive', 'no', 'regrets']</td>\n",
       "      <td>McNerdsAlot</td>\n",
       "      <td>1akdyzo</td>\n",
       "      <td>2024-02-06 16:35:52</td>\n",
       "      <td>It’s too expensive. No regrets.</td>\n",
       "      <td>['expensive', 'regrets']</td>\n",
       "      <td>['expensive', 'regrets']</td>\n",
       "      <td>[('[', 'RB'), (\"'expensive\", 'JJ'), (\"'\", \"''\"...</td>\n",
       "      <td>0</td>\n",
       "      <td>-0.114996</td>\n",
       "      <td>-0.031873</td>\n",
       "      <td>0.610</td>\n",
       "      <td>0.390</td>\n",
       "      <td>0.00</td>\n",
       "      <td>-0.5719</td>\n",
       "      <td>-1</td>\n",
       "    </tr>\n",
       "    <tr>\n",
       "      <th>2</th>\n",
       "      <td>2</td>\n",
       "      <td>['how', 'to', 'ruin', 'your', 'movie', 'library']</td>\n",
       "      <td>Mequbbal_Trader</td>\n",
       "      <td>1atvcqx</td>\n",
       "      <td>2024-02-18 14:31:17</td>\n",
       "      <td>How to ruin your movie library</td>\n",
       "      <td>['ruin', 'movie', 'library']</td>\n",
       "      <td>['ruin', 'movie', 'library']</td>\n",
       "      <td>[('[', 'JJ'), (\"'ruin\", 'NNP'), (\"'\", 'POS'), ...</td>\n",
       "      <td>0</td>\n",
       "      <td>-0.114996</td>\n",
       "      <td>-0.031873</td>\n",
       "      <td>0.432</td>\n",
       "      <td>0.568</td>\n",
       "      <td>0.00</td>\n",
       "      <td>-0.5859</td>\n",
       "      <td>-1</td>\n",
       "    </tr>\n",
       "    <tr>\n",
       "      <th>3</th>\n",
       "      <td>3</td>\n",
       "      <td>['i', 'was', 'really', 'wrong', 'about', 'the'...</td>\n",
       "      <td>AppleBottmBeans</td>\n",
       "      <td>1amtycf</td>\n",
       "      <td>2024-02-09 17:45:25</td>\n",
       "      <td>I was REALLY wrong about the AVP. This is the ...</td>\n",
       "      <td>['really', 'wrong', 'avp', 'incredible', 'piec...</td>\n",
       "      <td>['really', 'wrong', 'avp', 'incredible', 'piec...</td>\n",
       "      <td>[('[', 'RB'), (\"'really\", 'RB'), (\"'\", \"''\"), ...</td>\n",
       "      <td>0</td>\n",
       "      <td>-0.178261</td>\n",
       "      <td>-0.125401</td>\n",
       "      <td>0.205</td>\n",
       "      <td>0.795</td>\n",
       "      <td>0.00</td>\n",
       "      <td>-0.6281</td>\n",
       "      <td>-1</td>\n",
       "    </tr>\n",
       "    <tr>\n",
       "      <th>4</th>\n",
       "      <td>4</td>\n",
       "      <td>['apple', 'vision', 'pro', 'is', 'the', 'best'...</td>\n",
       "      <td>Deathtosnoopy</td>\n",
       "      <td>1b2jq3m</td>\n",
       "      <td>2024-02-28 22:35:12</td>\n",
       "      <td>Apple vision pro is the best thing to happen t...</td>\n",
       "      <td>['apple', 'vision', 'pro', 'best', 'thing', 'h...</td>\n",
       "      <td>['apple', 'vision', 'pro', 'best', 'thing', 'h...</td>\n",
       "      <td>[('[', 'JJ'), (\"'apple\", 'NNP'), (\"'\", 'POS'),...</td>\n",
       "      <td>2</td>\n",
       "      <td>0.393936</td>\n",
       "      <td>-0.019660</td>\n",
       "      <td>0.000</td>\n",
       "      <td>0.640</td>\n",
       "      <td>0.36</td>\n",
       "      <td>0.7351</td>\n",
       "      <td>1</td>\n",
       "    </tr>\n",
       "  </tbody>\n",
       "</table>\n",
       "</div>"
      ],
      "text/plain": [
       "   Index                                              Title            Author  \\\n",
       "0      0  ['apple', 'vision', 'pro', 'has', 'ruined', 'm...  Old_Possible8977   \n",
       "1      1       ['its', 'too', 'expensive', 'no', 'regrets']       McNerdsAlot   \n",
       "2      2  ['how', 'to', 'ruin', 'your', 'movie', 'library']   Mequbbal_Trader   \n",
       "3      3  ['i', 'was', 'really', 'wrong', 'about', 'the'...   AppleBottmBeans   \n",
       "4      4  ['apple', 'vision', 'pro', 'is', 'the', 'best'...     Deathtosnoopy   \n",
       "\n",
       "        ID              Created  \\\n",
       "0  1an21fb  2024-02-09 23:34:09   \n",
       "1  1akdyzo  2024-02-06 16:35:52   \n",
       "2  1atvcqx  2024-02-18 14:31:17   \n",
       "3  1amtycf  2024-02-09 17:45:25   \n",
       "4  1b2jq3m  2024-02-28 22:35:12   \n",
       "\n",
       "                                      Original_Title  \\\n",
       "0          Apple Vision Pro has ruined movies for me   \n",
       "1                    It’s too expensive. No regrets.   \n",
       "2                     How to ruin your movie library   \n",
       "3  I was REALLY wrong about the AVP. This is the ...   \n",
       "4  Apple vision pro is the best thing to happen t...   \n",
       "\n",
       "                                   Without_stopwords  \\\n",
       "0     ['apple', 'vision', 'pro', 'ruined', 'movies']   \n",
       "1                           ['expensive', 'regrets']   \n",
       "2                       ['ruin', 'movie', 'library']   \n",
       "3  ['really', 'wrong', 'avp', 'incredible', 'piec...   \n",
       "4  ['apple', 'vision', 'pro', 'best', 'thing', 'h...   \n",
       "\n",
       "                                    Lemmatized_Words  \\\n",
       "0     ['apple', 'vision', 'pro', 'ruined', 'movies']   \n",
       "1                           ['expensive', 'regrets']   \n",
       "2                       ['ruin', 'movie', 'library']   \n",
       "3  ['really', 'wrong', 'avp', 'incredible', 'piec...   \n",
       "4  ['apple', 'vision', 'pro', 'best', 'thing', 'h...   \n",
       "\n",
       "                                            Pos_tags  Cluster      PCA1  \\\n",
       "0  [('[', 'JJ'), (\"'apple\", 'NNP'), (\"'\", 'POS'),...        2  0.546980   \n",
       "1  [('[', 'RB'), (\"'expensive\", 'JJ'), (\"'\", \"''\"...        0 -0.114996   \n",
       "2  [('[', 'JJ'), (\"'ruin\", 'NNP'), (\"'\", 'POS'), ...        0 -0.114996   \n",
       "3  [('[', 'RB'), (\"'really\", 'RB'), (\"'\", \"''\"), ...        0 -0.178261   \n",
       "4  [('[', 'JJ'), (\"'apple\", 'NNP'), (\"'\", 'POS'),...        2  0.393936   \n",
       "\n",
       "       PCA2    neg    neu   pos  compound  Sentiment  \n",
       "0 -0.066286  0.279  0.541  0.18   -0.2732         -1  \n",
       "1 -0.031873  0.610  0.390  0.00   -0.5719         -1  \n",
       "2 -0.031873  0.432  0.568  0.00   -0.5859         -1  \n",
       "3 -0.125401  0.205  0.795  0.00   -0.6281         -1  \n",
       "4 -0.019660  0.000  0.640  0.36    0.7351          1  "
      ]
     },
     "execution_count": 31,
     "metadata": {},
     "output_type": "execute_result"
    }
   ],
   "source": [
    "df.head()"
   ]
  },
  {
   "cell_type": "code",
   "execution_count": 32,
   "id": "aabeb07b",
   "metadata": {},
   "outputs": [],
   "source": [
    "def label_sentiment(compound):\n",
    "    if compound >= 0:\n",
    "        return 'positive'\n",
    "    else:\n",
    "        return 'negative'\n",
    "\n",
    "# Apply the sentiment labels\n",
    "df['Sentiment_Label'] = df['compound'].apply(label_sentiment)"
   ]
  },
  {
   "cell_type": "code",
   "execution_count": 33,
   "id": "0f371825",
   "metadata": {
    "scrolled": true
   },
   "outputs": [
    {
     "data": {
      "text/html": [
       "<div>\n",
       "<style scoped>\n",
       "    .dataframe tbody tr th:only-of-type {\n",
       "        vertical-align: middle;\n",
       "    }\n",
       "\n",
       "    .dataframe tbody tr th {\n",
       "        vertical-align: top;\n",
       "    }\n",
       "\n",
       "    .dataframe thead th {\n",
       "        text-align: right;\n",
       "    }\n",
       "</style>\n",
       "<table border=\"1\" class=\"dataframe\">\n",
       "  <thead>\n",
       "    <tr style=\"text-align: right;\">\n",
       "      <th></th>\n",
       "      <th>Index</th>\n",
       "      <th>Title</th>\n",
       "      <th>Author</th>\n",
       "      <th>ID</th>\n",
       "      <th>Created</th>\n",
       "      <th>Original_Title</th>\n",
       "      <th>Without_stopwords</th>\n",
       "      <th>Lemmatized_Words</th>\n",
       "      <th>Pos_tags</th>\n",
       "      <th>Cluster</th>\n",
       "      <th>PCA1</th>\n",
       "      <th>PCA2</th>\n",
       "      <th>neg</th>\n",
       "      <th>neu</th>\n",
       "      <th>pos</th>\n",
       "      <th>compound</th>\n",
       "      <th>Sentiment</th>\n",
       "      <th>Sentiment_Label</th>\n",
       "    </tr>\n",
       "  </thead>\n",
       "  <tbody>\n",
       "    <tr>\n",
       "      <th>0</th>\n",
       "      <td>0</td>\n",
       "      <td>['apple', 'vision', 'pro', 'has', 'ruined', 'm...</td>\n",
       "      <td>Old_Possible8977</td>\n",
       "      <td>1an21fb</td>\n",
       "      <td>2024-02-09 23:34:09</td>\n",
       "      <td>Apple Vision Pro has ruined movies for me</td>\n",
       "      <td>['apple', 'vision', 'pro', 'ruined', 'movies']</td>\n",
       "      <td>['apple', 'vision', 'pro', 'ruined', 'movies']</td>\n",
       "      <td>[('[', 'JJ'), (\"'apple\", 'NNP'), (\"'\", 'POS'),...</td>\n",
       "      <td>2</td>\n",
       "      <td>0.546980</td>\n",
       "      <td>-0.066286</td>\n",
       "      <td>0.279</td>\n",
       "      <td>0.541</td>\n",
       "      <td>0.18</td>\n",
       "      <td>-0.2732</td>\n",
       "      <td>-1</td>\n",
       "      <td>negative</td>\n",
       "    </tr>\n",
       "    <tr>\n",
       "      <th>1</th>\n",
       "      <td>1</td>\n",
       "      <td>['its', 'too', 'expensive', 'no', 'regrets']</td>\n",
       "      <td>McNerdsAlot</td>\n",
       "      <td>1akdyzo</td>\n",
       "      <td>2024-02-06 16:35:52</td>\n",
       "      <td>It’s too expensive. No regrets.</td>\n",
       "      <td>['expensive', 'regrets']</td>\n",
       "      <td>['expensive', 'regrets']</td>\n",
       "      <td>[('[', 'RB'), (\"'expensive\", 'JJ'), (\"'\", \"''\"...</td>\n",
       "      <td>0</td>\n",
       "      <td>-0.114996</td>\n",
       "      <td>-0.031873</td>\n",
       "      <td>0.610</td>\n",
       "      <td>0.390</td>\n",
       "      <td>0.00</td>\n",
       "      <td>-0.5719</td>\n",
       "      <td>-1</td>\n",
       "      <td>negative</td>\n",
       "    </tr>\n",
       "    <tr>\n",
       "      <th>2</th>\n",
       "      <td>2</td>\n",
       "      <td>['how', 'to', 'ruin', 'your', 'movie', 'library']</td>\n",
       "      <td>Mequbbal_Trader</td>\n",
       "      <td>1atvcqx</td>\n",
       "      <td>2024-02-18 14:31:17</td>\n",
       "      <td>How to ruin your movie library</td>\n",
       "      <td>['ruin', 'movie', 'library']</td>\n",
       "      <td>['ruin', 'movie', 'library']</td>\n",
       "      <td>[('[', 'JJ'), (\"'ruin\", 'NNP'), (\"'\", 'POS'), ...</td>\n",
       "      <td>0</td>\n",
       "      <td>-0.114996</td>\n",
       "      <td>-0.031873</td>\n",
       "      <td>0.432</td>\n",
       "      <td>0.568</td>\n",
       "      <td>0.00</td>\n",
       "      <td>-0.5859</td>\n",
       "      <td>-1</td>\n",
       "      <td>negative</td>\n",
       "    </tr>\n",
       "    <tr>\n",
       "      <th>3</th>\n",
       "      <td>3</td>\n",
       "      <td>['i', 'was', 'really', 'wrong', 'about', 'the'...</td>\n",
       "      <td>AppleBottmBeans</td>\n",
       "      <td>1amtycf</td>\n",
       "      <td>2024-02-09 17:45:25</td>\n",
       "      <td>I was REALLY wrong about the AVP. This is the ...</td>\n",
       "      <td>['really', 'wrong', 'avp', 'incredible', 'piec...</td>\n",
       "      <td>['really', 'wrong', 'avp', 'incredible', 'piec...</td>\n",
       "      <td>[('[', 'RB'), (\"'really\", 'RB'), (\"'\", \"''\"), ...</td>\n",
       "      <td>0</td>\n",
       "      <td>-0.178261</td>\n",
       "      <td>-0.125401</td>\n",
       "      <td>0.205</td>\n",
       "      <td>0.795</td>\n",
       "      <td>0.00</td>\n",
       "      <td>-0.6281</td>\n",
       "      <td>-1</td>\n",
       "      <td>negative</td>\n",
       "    </tr>\n",
       "    <tr>\n",
       "      <th>4</th>\n",
       "      <td>4</td>\n",
       "      <td>['apple', 'vision', 'pro', 'is', 'the', 'best'...</td>\n",
       "      <td>Deathtosnoopy</td>\n",
       "      <td>1b2jq3m</td>\n",
       "      <td>2024-02-28 22:35:12</td>\n",
       "      <td>Apple vision pro is the best thing to happen t...</td>\n",
       "      <td>['apple', 'vision', 'pro', 'best', 'thing', 'h...</td>\n",
       "      <td>['apple', 'vision', 'pro', 'best', 'thing', 'h...</td>\n",
       "      <td>[('[', 'JJ'), (\"'apple\", 'NNP'), (\"'\", 'POS'),...</td>\n",
       "      <td>2</td>\n",
       "      <td>0.393936</td>\n",
       "      <td>-0.019660</td>\n",
       "      <td>0.000</td>\n",
       "      <td>0.640</td>\n",
       "      <td>0.36</td>\n",
       "      <td>0.7351</td>\n",
       "      <td>1</td>\n",
       "      <td>positive</td>\n",
       "    </tr>\n",
       "  </tbody>\n",
       "</table>\n",
       "</div>"
      ],
      "text/plain": [
       "   Index                                              Title            Author  \\\n",
       "0      0  ['apple', 'vision', 'pro', 'has', 'ruined', 'm...  Old_Possible8977   \n",
       "1      1       ['its', 'too', 'expensive', 'no', 'regrets']       McNerdsAlot   \n",
       "2      2  ['how', 'to', 'ruin', 'your', 'movie', 'library']   Mequbbal_Trader   \n",
       "3      3  ['i', 'was', 'really', 'wrong', 'about', 'the'...   AppleBottmBeans   \n",
       "4      4  ['apple', 'vision', 'pro', 'is', 'the', 'best'...     Deathtosnoopy   \n",
       "\n",
       "        ID              Created  \\\n",
       "0  1an21fb  2024-02-09 23:34:09   \n",
       "1  1akdyzo  2024-02-06 16:35:52   \n",
       "2  1atvcqx  2024-02-18 14:31:17   \n",
       "3  1amtycf  2024-02-09 17:45:25   \n",
       "4  1b2jq3m  2024-02-28 22:35:12   \n",
       "\n",
       "                                      Original_Title  \\\n",
       "0          Apple Vision Pro has ruined movies for me   \n",
       "1                    It’s too expensive. No regrets.   \n",
       "2                     How to ruin your movie library   \n",
       "3  I was REALLY wrong about the AVP. This is the ...   \n",
       "4  Apple vision pro is the best thing to happen t...   \n",
       "\n",
       "                                   Without_stopwords  \\\n",
       "0     ['apple', 'vision', 'pro', 'ruined', 'movies']   \n",
       "1                           ['expensive', 'regrets']   \n",
       "2                       ['ruin', 'movie', 'library']   \n",
       "3  ['really', 'wrong', 'avp', 'incredible', 'piec...   \n",
       "4  ['apple', 'vision', 'pro', 'best', 'thing', 'h...   \n",
       "\n",
       "                                    Lemmatized_Words  \\\n",
       "0     ['apple', 'vision', 'pro', 'ruined', 'movies']   \n",
       "1                           ['expensive', 'regrets']   \n",
       "2                       ['ruin', 'movie', 'library']   \n",
       "3  ['really', 'wrong', 'avp', 'incredible', 'piec...   \n",
       "4  ['apple', 'vision', 'pro', 'best', 'thing', 'h...   \n",
       "\n",
       "                                            Pos_tags  Cluster      PCA1  \\\n",
       "0  [('[', 'JJ'), (\"'apple\", 'NNP'), (\"'\", 'POS'),...        2  0.546980   \n",
       "1  [('[', 'RB'), (\"'expensive\", 'JJ'), (\"'\", \"''\"...        0 -0.114996   \n",
       "2  [('[', 'JJ'), (\"'ruin\", 'NNP'), (\"'\", 'POS'), ...        0 -0.114996   \n",
       "3  [('[', 'RB'), (\"'really\", 'RB'), (\"'\", \"''\"), ...        0 -0.178261   \n",
       "4  [('[', 'JJ'), (\"'apple\", 'NNP'), (\"'\", 'POS'),...        2  0.393936   \n",
       "\n",
       "       PCA2    neg    neu   pos  compound  Sentiment Sentiment_Label  \n",
       "0 -0.066286  0.279  0.541  0.18   -0.2732         -1        negative  \n",
       "1 -0.031873  0.610  0.390  0.00   -0.5719         -1        negative  \n",
       "2 -0.031873  0.432  0.568  0.00   -0.5859         -1        negative  \n",
       "3 -0.125401  0.205  0.795  0.00   -0.6281         -1        negative  \n",
       "4 -0.019660  0.000  0.640  0.36    0.7351          1        positive  "
      ]
     },
     "execution_count": 33,
     "metadata": {},
     "output_type": "execute_result"
    }
   ],
   "source": [
    "df.head()"
   ]
  },
  {
   "cell_type": "code",
   "execution_count": 34,
   "id": "8a0437ff",
   "metadata": {},
   "outputs": [],
   "source": [
    "df.to_csv('Sentiment_Analysis_Data.csv')"
   ]
  },
  {
   "cell_type": "code",
   "execution_count": 35,
   "id": "80b529b2",
   "metadata": {},
   "outputs": [],
   "source": [
    "# Split the data into features (X) and labels (y)\n",
    "X = df['Lemmatized_Words']\n",
    "y = df['Sentiment_Label']"
   ]
  },
  {
   "cell_type": "code",
   "execution_count": 36,
   "id": "f62eb507",
   "metadata": {},
   "outputs": [],
   "source": [
    "# Split the data into training and testing sets\n",
    "X_train, X_test, y_train, y_test = train_test_split(X, y, test_size=0.2, random_state=42)"
   ]
  },
  {
   "cell_type": "code",
   "execution_count": null,
   "id": "b8a87364",
   "metadata": {
    "scrolled": false
   },
   "outputs": [],
   "source": []
  },
  {
   "cell_type": "code",
   "execution_count": 37,
   "id": "461c0bba",
   "metadata": {},
   "outputs": [],
   "source": [
    "X_train_df = pd.DataFrame(X_train)"
   ]
  },
  {
   "cell_type": "code",
   "execution_count": 38,
   "id": "f6fa006a",
   "metadata": {},
   "outputs": [
    {
     "data": {
      "text/html": [
       "<div>\n",
       "<style scoped>\n",
       "    .dataframe tbody tr th:only-of-type {\n",
       "        vertical-align: middle;\n",
       "    }\n",
       "\n",
       "    .dataframe tbody tr th {\n",
       "        vertical-align: top;\n",
       "    }\n",
       "\n",
       "    .dataframe thead th {\n",
       "        text-align: right;\n",
       "    }\n",
       "</style>\n",
       "<table border=\"1\" class=\"dataframe\">\n",
       "  <thead>\n",
       "    <tr style=\"text-align: right;\">\n",
       "      <th></th>\n",
       "      <th>Lemmatized_Words</th>\n",
       "    </tr>\n",
       "  </thead>\n",
       "  <tbody>\n",
       "    <tr>\n",
       "      <th>31</th>\n",
       "      <td>['telling', 'people']</td>\n",
       "    </tr>\n",
       "    <tr>\n",
       "      <th>3</th>\n",
       "      <td>['really', 'wrong', 'avp', 'incredible', 'piec...</td>\n",
       "    </tr>\n",
       "    <tr>\n",
       "      <th>52</th>\n",
       "      <td>['feels', 'like', 'start', 'technodystopian', ...</td>\n",
       "    </tr>\n",
       "    <tr>\n",
       "      <th>17</th>\n",
       "      <td>['multiple', 'displays', 'coming', 'avp']</td>\n",
       "    </tr>\n",
       "    <tr>\n",
       "      <th>8</th>\n",
       "      <td>['forgetting', 'body']</td>\n",
       "    </tr>\n",
       "    <tr>\n",
       "      <th>6</th>\n",
       "      <td>['breaking', 'news', 'local', 'man', 'paralyze...</td>\n",
       "    </tr>\n",
       "    <tr>\n",
       "      <th>40</th>\n",
       "      <td>['cant', 'vision', 'pro']</td>\n",
       "    </tr>\n",
       "    <tr>\n",
       "      <th>4</th>\n",
       "      <td>['apple', 'vision', 'pro', 'best', 'thing', 'h...</td>\n",
       "    </tr>\n",
       "    <tr>\n",
       "      <th>43</th>\n",
       "      <td>['painless']</td>\n",
       "    </tr>\n",
       "    <tr>\n",
       "      <th>19</th>\n",
       "      <td>['know', 'mean']</td>\n",
       "    </tr>\n",
       "    <tr>\n",
       "      <th>34</th>\n",
       "      <td>['best', 'movies', 'far']</td>\n",
       "    </tr>\n",
       "    <tr>\n",
       "      <th>58</th>\n",
       "      <td>['got', 'one']</td>\n",
       "    </tr>\n",
       "    <tr>\n",
       "      <th>25</th>\n",
       "      <td>['dear', 'tim']</td>\n",
       "    </tr>\n",
       "    <tr>\n",
       "      <th>56</th>\n",
       "      <td>['first', 'meme']</td>\n",
       "    </tr>\n",
       "    <tr>\n",
       "      <th>15</th>\n",
       "      <td>['released', 'first', 'vision', 'pro', 'app', ...</td>\n",
       "    </tr>\n",
       "    <tr>\n",
       "      <th>27</th>\n",
       "      <td>['succeed']</td>\n",
       "    </tr>\n",
       "    <tr>\n",
       "      <th>9</th>\n",
       "      <td>['imax', 'app']</td>\n",
       "    </tr>\n",
       "    <tr>\n",
       "      <th>30</th>\n",
       "      <td>['splitscreen', 'available', 'lets', 'add', 's...</td>\n",
       "    </tr>\n",
       "    <tr>\n",
       "      <th>26</th>\n",
       "      <td>['upvote', 'reading', 'avp']</td>\n",
       "    </tr>\n",
       "    <tr>\n",
       "      <th>16</th>\n",
       "      <td>['miracles', 'sins', 'avp']</td>\n",
       "    </tr>\n",
       "    <tr>\n",
       "      <th>24</th>\n",
       "      <td>['avp', 'first', 'apple', 'device', 'ever']</td>\n",
       "    </tr>\n",
       "    <tr>\n",
       "      <th>55</th>\n",
       "      <td>['lack', 'immersive', 'content']</td>\n",
       "    </tr>\n",
       "    <tr>\n",
       "      <th>11</th>\n",
       "      <td>['folks', 'know', 'whats', 'coming', 'right']</td>\n",
       "    </tr>\n",
       "    <tr>\n",
       "      <th>32</th>\n",
       "      <td>['small', 'features', 'youve', 'discovered', '...</td>\n",
       "    </tr>\n",
       "    <tr>\n",
       "      <th>53</th>\n",
       "      <td>['demo', 'amazing']</td>\n",
       "    </tr>\n",
       "    <tr>\n",
       "      <th>41</th>\n",
       "      <td>['else', 'wore', 'basically', 'whole', 'saturd...</td>\n",
       "    </tr>\n",
       "    <tr>\n",
       "      <th>37</th>\n",
       "      <td>['wishlist', 'nearfuture', 'visionos', 'updates']</td>\n",
       "    </tr>\n",
       "    <tr>\n",
       "      <th>29</th>\n",
       "      <td>['ive', 'compiled', 'list', 'interesting', 'ti...</td>\n",
       "    </tr>\n",
       "    <tr>\n",
       "      <th>44</th>\n",
       "      <td>['comment', 'young', 'kids', 'soon', 'parents']</td>\n",
       "    </tr>\n",
       "    <tr>\n",
       "      <th>1</th>\n",
       "      <td>['expensive', 'regrets']</td>\n",
       "    </tr>\n",
       "    <tr>\n",
       "      <th>21</th>\n",
       "      <td>['happening', 'native', 'apps', 'launch', 'app...</td>\n",
       "    </tr>\n",
       "    <tr>\n",
       "      <th>2</th>\n",
       "      <td>['ruin', 'movie', 'library']</td>\n",
       "    </tr>\n",
       "    <tr>\n",
       "      <th>47</th>\n",
       "      <td>['wow', 'future']</td>\n",
       "    </tr>\n",
       "    <tr>\n",
       "      <th>39</th>\n",
       "      <td>['feb', 'nd', 'christmas', 'us']</td>\n",
       "    </tr>\n",
       "    <tr>\n",
       "      <th>35</th>\n",
       "      <td>['feel', 'like', 'tony', 'starks', 'every', 't...</td>\n",
       "    </tr>\n",
       "    <tr>\n",
       "      <th>23</th>\n",
       "      <td>['phenomenal', 'review', 'david', 'heaney']</td>\n",
       "    </tr>\n",
       "    <tr>\n",
       "      <th>49</th>\n",
       "      <td>['huge', 'safari', 'update']</td>\n",
       "    </tr>\n",
       "    <tr>\n",
       "      <th>10</th>\n",
       "      <td>['apple', 'vision', 'pro', 'stolen']</td>\n",
       "    </tr>\n",
       "    <tr>\n",
       "      <th>22</th>\n",
       "      <td>['saw', 'dune', 'true', 'imax', 'disappointed']</td>\n",
       "    </tr>\n",
       "    <tr>\n",
       "      <th>18</th>\n",
       "      <td>['im', 'keeping']</td>\n",
       "    </tr>\n",
       "    <tr>\n",
       "      <th>59</th>\n",
       "      <td>['many', 'fence', 'purchasing', 'return']</td>\n",
       "    </tr>\n",
       "    <tr>\n",
       "      <th>20</th>\n",
       "      <td>['mind', 'blown', 'away']</td>\n",
       "    </tr>\n",
       "    <tr>\n",
       "      <th>7</th>\n",
       "      <td>['absolutely', 'magical', 'words']</td>\n",
       "    </tr>\n",
       "    <tr>\n",
       "      <th>42</th>\n",
       "      <td>['kuo', 'estimates', 'apple', 'sold', 'vision'...</td>\n",
       "    </tr>\n",
       "    <tr>\n",
       "      <th>14</th>\n",
       "      <td>['really', 'want', 'keep']</td>\n",
       "    </tr>\n",
       "    <tr>\n",
       "      <th>28</th>\n",
       "      <td>['decision', 'made', 'im', 'keeping']</td>\n",
       "    </tr>\n",
       "    <tr>\n",
       "      <th>51</th>\n",
       "      <td>['vision', 'pro', 'app', 'development', 'goes'...</td>\n",
       "    </tr>\n",
       "    <tr>\n",
       "      <th>38</th>\n",
       "      <td>['disappointed']</td>\n",
       "    </tr>\n",
       "  </tbody>\n",
       "</table>\n",
       "</div>"
      ],
      "text/plain": [
       "                                     Lemmatized_Words\n",
       "31                              ['telling', 'people']\n",
       "3   ['really', 'wrong', 'avp', 'incredible', 'piec...\n",
       "52  ['feels', 'like', 'start', 'technodystopian', ...\n",
       "17          ['multiple', 'displays', 'coming', 'avp']\n",
       "8                              ['forgetting', 'body']\n",
       "6   ['breaking', 'news', 'local', 'man', 'paralyze...\n",
       "40                          ['cant', 'vision', 'pro']\n",
       "4   ['apple', 'vision', 'pro', 'best', 'thing', 'h...\n",
       "43                                       ['painless']\n",
       "19                                   ['know', 'mean']\n",
       "34                          ['best', 'movies', 'far']\n",
       "58                                     ['got', 'one']\n",
       "25                                    ['dear', 'tim']\n",
       "56                                  ['first', 'meme']\n",
       "15  ['released', 'first', 'vision', 'pro', 'app', ...\n",
       "27                                        ['succeed']\n",
       "9                                     ['imax', 'app']\n",
       "30  ['splitscreen', 'available', 'lets', 'add', 's...\n",
       "26                       ['upvote', 'reading', 'avp']\n",
       "16                        ['miracles', 'sins', 'avp']\n",
       "24        ['avp', 'first', 'apple', 'device', 'ever']\n",
       "55                   ['lack', 'immersive', 'content']\n",
       "11      ['folks', 'know', 'whats', 'coming', 'right']\n",
       "32  ['small', 'features', 'youve', 'discovered', '...\n",
       "53                                ['demo', 'amazing']\n",
       "41  ['else', 'wore', 'basically', 'whole', 'saturd...\n",
       "37  ['wishlist', 'nearfuture', 'visionos', 'updates']\n",
       "29  ['ive', 'compiled', 'list', 'interesting', 'ti...\n",
       "44    ['comment', 'young', 'kids', 'soon', 'parents']\n",
       "1                            ['expensive', 'regrets']\n",
       "21  ['happening', 'native', 'apps', 'launch', 'app...\n",
       "2                        ['ruin', 'movie', 'library']\n",
       "47                                  ['wow', 'future']\n",
       "39                   ['feb', 'nd', 'christmas', 'us']\n",
       "35  ['feel', 'like', 'tony', 'starks', 'every', 't...\n",
       "23        ['phenomenal', 'review', 'david', 'heaney']\n",
       "49                       ['huge', 'safari', 'update']\n",
       "10               ['apple', 'vision', 'pro', 'stolen']\n",
       "22    ['saw', 'dune', 'true', 'imax', 'disappointed']\n",
       "18                                  ['im', 'keeping']\n",
       "59          ['many', 'fence', 'purchasing', 'return']\n",
       "20                          ['mind', 'blown', 'away']\n",
       "7                  ['absolutely', 'magical', 'words']\n",
       "42  ['kuo', 'estimates', 'apple', 'sold', 'vision'...\n",
       "14                         ['really', 'want', 'keep']\n",
       "28              ['decision', 'made', 'im', 'keeping']\n",
       "51  ['vision', 'pro', 'app', 'development', 'goes'...\n",
       "38                                   ['disappointed']"
      ]
     },
     "execution_count": 38,
     "metadata": {},
     "output_type": "execute_result"
    }
   ],
   "source": [
    "X_train_df"
   ]
  },
  {
   "cell_type": "code",
   "execution_count": null,
   "id": "7395822c",
   "metadata": {
    "scrolled": true
   },
   "outputs": [],
   "source": []
  },
  {
   "cell_type": "code",
   "execution_count": 39,
   "id": "2d028e3e",
   "metadata": {},
   "outputs": [],
   "source": [
    "X_test_df = pd.DataFrame(X_test)"
   ]
  },
  {
   "cell_type": "code",
   "execution_count": 40,
   "id": "3990ad8d",
   "metadata": {},
   "outputs": [
    {
     "data": {
      "text/html": [
       "<div>\n",
       "<style scoped>\n",
       "    .dataframe tbody tr th:only-of-type {\n",
       "        vertical-align: middle;\n",
       "    }\n",
       "\n",
       "    .dataframe tbody tr th {\n",
       "        vertical-align: top;\n",
       "    }\n",
       "\n",
       "    .dataframe thead th {\n",
       "        text-align: right;\n",
       "    }\n",
       "</style>\n",
       "<table border=\"1\" class=\"dataframe\">\n",
       "  <thead>\n",
       "    <tr style=\"text-align: right;\">\n",
       "      <th></th>\n",
       "      <th>Lemmatized_Words</th>\n",
       "    </tr>\n",
       "  </thead>\n",
       "  <tbody>\n",
       "    <tr>\n",
       "      <th>0</th>\n",
       "      <td>['apple', 'vision', 'pro', 'ruined', 'movies']</td>\n",
       "    </tr>\n",
       "    <tr>\n",
       "      <th>5</th>\n",
       "      <td>['posting', 'say', 'vision', 'pro', 'since', '...</td>\n",
       "    </tr>\n",
       "    <tr>\n",
       "      <th>36</th>\n",
       "      <td>['vision', 'pro', 'games', 'heres']</td>\n",
       "    </tr>\n",
       "    <tr>\n",
       "      <th>45</th>\n",
       "      <td>['would', 'cool', 'immersion', 'environment', ...</td>\n",
       "    </tr>\n",
       "    <tr>\n",
       "      <th>13</th>\n",
       "      <td>['obsessed', 'vision', 'pro']</td>\n",
       "    </tr>\n",
       "    <tr>\n",
       "      <th>54</th>\n",
       "      <td>['beta']</td>\n",
       "    </tr>\n",
       "    <tr>\n",
       "      <th>33</th>\n",
       "      <td>['please', 'give', 'lidar', 'view', 'sneak', '...</td>\n",
       "    </tr>\n",
       "    <tr>\n",
       "      <th>48</th>\n",
       "      <td>['guest', 'mode', 'sucks', 'need', 'true', 'mu...</td>\n",
       "    </tr>\n",
       "    <tr>\n",
       "      <th>12</th>\n",
       "      <td>['best', 'new', 'product', 'ive', 'ever', 'seen']</td>\n",
       "    </tr>\n",
       "    <tr>\n",
       "      <th>57</th>\n",
       "      <td>['watching', 'reviews']</td>\n",
       "    </tr>\n",
       "    <tr>\n",
       "      <th>46</th>\n",
       "      <td>['multiple', 'profile', 'support', 'seriously'...</td>\n",
       "    </tr>\n",
       "    <tr>\n",
       "      <th>50</th>\n",
       "      <td>['anyone', 'finding', 'theyre', 'dreaming']</td>\n",
       "    </tr>\n",
       "  </tbody>\n",
       "</table>\n",
       "</div>"
      ],
      "text/plain": [
       "                                     Lemmatized_Words\n",
       "0      ['apple', 'vision', 'pro', 'ruined', 'movies']\n",
       "5   ['posting', 'say', 'vision', 'pro', 'since', '...\n",
       "36                ['vision', 'pro', 'games', 'heres']\n",
       "45  ['would', 'cool', 'immersion', 'environment', ...\n",
       "13                      ['obsessed', 'vision', 'pro']\n",
       "54                                           ['beta']\n",
       "33  ['please', 'give', 'lidar', 'view', 'sneak', '...\n",
       "48  ['guest', 'mode', 'sucks', 'need', 'true', 'mu...\n",
       "12  ['best', 'new', 'product', 'ive', 'ever', 'seen']\n",
       "57                            ['watching', 'reviews']\n",
       "46  ['multiple', 'profile', 'support', 'seriously'...\n",
       "50        ['anyone', 'finding', 'theyre', 'dreaming']"
      ]
     },
     "execution_count": 40,
     "metadata": {},
     "output_type": "execute_result"
    }
   ],
   "source": [
    "X_test_df"
   ]
  },
  {
   "cell_type": "code",
   "execution_count": 41,
   "id": "cfd80d4f",
   "metadata": {},
   "outputs": [],
   "source": [
    "X_test.to_csv('X_test.csv')"
   ]
  },
  {
   "cell_type": "code",
   "execution_count": 42,
   "id": "20610662",
   "metadata": {},
   "outputs": [
    {
     "data": {
      "text/plain": [
       "(48,)"
      ]
     },
     "execution_count": 42,
     "metadata": {},
     "output_type": "execute_result"
    }
   ],
   "source": [
    "X_train.shape"
   ]
  },
  {
   "cell_type": "code",
   "execution_count": 43,
   "id": "7d9d4900",
   "metadata": {},
   "outputs": [
    {
     "data": {
      "text/plain": [
       "(12,)"
      ]
     },
     "execution_count": 43,
     "metadata": {},
     "output_type": "execute_result"
    }
   ],
   "source": [
    "X_test.shape"
   ]
  },
  {
   "cell_type": "code",
   "execution_count": null,
   "id": "546020a8",
   "metadata": {},
   "outputs": [],
   "source": []
  },
  {
   "cell_type": "code",
   "execution_count": 44,
   "id": "0753a0e1",
   "metadata": {},
   "outputs": [],
   "source": [
    "# Vectorize the text data\n",
    "vectorizer = CountVectorizer()\n",
    "X_train_counts = vectorizer.fit_transform(X_train)\n",
    "X_test_counts = vectorizer.transform(X_test)"
   ]
  },
  {
   "cell_type": "code",
   "execution_count": 45,
   "id": "71c3a550",
   "metadata": {},
   "outputs": [
    {
     "data": {
      "text/html": [
       "<style>#sk-container-id-1 {color: black;}#sk-container-id-1 pre{padding: 0;}#sk-container-id-1 div.sk-toggleable {background-color: white;}#sk-container-id-1 label.sk-toggleable__label {cursor: pointer;display: block;width: 100%;margin-bottom: 0;padding: 0.3em;box-sizing: border-box;text-align: center;}#sk-container-id-1 label.sk-toggleable__label-arrow:before {content: \"▸\";float: left;margin-right: 0.25em;color: #696969;}#sk-container-id-1 label.sk-toggleable__label-arrow:hover:before {color: black;}#sk-container-id-1 div.sk-estimator:hover label.sk-toggleable__label-arrow:before {color: black;}#sk-container-id-1 div.sk-toggleable__content {max-height: 0;max-width: 0;overflow: hidden;text-align: left;background-color: #f0f8ff;}#sk-container-id-1 div.sk-toggleable__content pre {margin: 0.2em;color: black;border-radius: 0.25em;background-color: #f0f8ff;}#sk-container-id-1 input.sk-toggleable__control:checked~div.sk-toggleable__content {max-height: 200px;max-width: 100%;overflow: auto;}#sk-container-id-1 input.sk-toggleable__control:checked~label.sk-toggleable__label-arrow:before {content: \"▾\";}#sk-container-id-1 div.sk-estimator input.sk-toggleable__control:checked~label.sk-toggleable__label {background-color: #d4ebff;}#sk-container-id-1 div.sk-label input.sk-toggleable__control:checked~label.sk-toggleable__label {background-color: #d4ebff;}#sk-container-id-1 input.sk-hidden--visually {border: 0;clip: rect(1px 1px 1px 1px);clip: rect(1px, 1px, 1px, 1px);height: 1px;margin: -1px;overflow: hidden;padding: 0;position: absolute;width: 1px;}#sk-container-id-1 div.sk-estimator {font-family: monospace;background-color: #f0f8ff;border: 1px dotted black;border-radius: 0.25em;box-sizing: border-box;margin-bottom: 0.5em;}#sk-container-id-1 div.sk-estimator:hover {background-color: #d4ebff;}#sk-container-id-1 div.sk-parallel-item::after {content: \"\";width: 100%;border-bottom: 1px solid gray;flex-grow: 1;}#sk-container-id-1 div.sk-label:hover label.sk-toggleable__label {background-color: #d4ebff;}#sk-container-id-1 div.sk-serial::before {content: \"\";position: absolute;border-left: 1px solid gray;box-sizing: border-box;top: 0;bottom: 0;left: 50%;z-index: 0;}#sk-container-id-1 div.sk-serial {display: flex;flex-direction: column;align-items: center;background-color: white;padding-right: 0.2em;padding-left: 0.2em;position: relative;}#sk-container-id-1 div.sk-item {position: relative;z-index: 1;}#sk-container-id-1 div.sk-parallel {display: flex;align-items: stretch;justify-content: center;background-color: white;position: relative;}#sk-container-id-1 div.sk-item::before, #sk-container-id-1 div.sk-parallel-item::before {content: \"\";position: absolute;border-left: 1px solid gray;box-sizing: border-box;top: 0;bottom: 0;left: 50%;z-index: -1;}#sk-container-id-1 div.sk-parallel-item {display: flex;flex-direction: column;z-index: 1;position: relative;background-color: white;}#sk-container-id-1 div.sk-parallel-item:first-child::after {align-self: flex-end;width: 50%;}#sk-container-id-1 div.sk-parallel-item:last-child::after {align-self: flex-start;width: 50%;}#sk-container-id-1 div.sk-parallel-item:only-child::after {width: 0;}#sk-container-id-1 div.sk-dashed-wrapped {border: 1px dashed gray;margin: 0 0.4em 0.5em 0.4em;box-sizing: border-box;padding-bottom: 0.4em;background-color: white;}#sk-container-id-1 div.sk-label label {font-family: monospace;font-weight: bold;display: inline-block;line-height: 1.2em;}#sk-container-id-1 div.sk-label-container {text-align: center;}#sk-container-id-1 div.sk-container {/* jupyter's `normalize.less` sets `[hidden] { display: none; }` but bootstrap.min.css set `[hidden] { display: none !important; }` so we also need the `!important` here to be able to override the default hidden behavior on the sphinx rendered scikit-learn.org. See: https://github.com/scikit-learn/scikit-learn/issues/21755 */display: inline-block !important;position: relative;}#sk-container-id-1 div.sk-text-repr-fallback {display: none;}</style><div id=\"sk-container-id-1\" class=\"sk-top-container\"><div class=\"sk-text-repr-fallback\"><pre>MultinomialNB()</pre><b>In a Jupyter environment, please rerun this cell to show the HTML representation or trust the notebook. <br />On GitHub, the HTML representation is unable to render, please try loading this page with nbviewer.org.</b></div><div class=\"sk-container\" hidden><div class=\"sk-item\"><div class=\"sk-estimator sk-toggleable\"><input class=\"sk-toggleable__control sk-hidden--visually\" id=\"sk-estimator-id-1\" type=\"checkbox\" checked><label for=\"sk-estimator-id-1\" class=\"sk-toggleable__label sk-toggleable__label-arrow\">MultinomialNB</label><div class=\"sk-toggleable__content\"><pre>MultinomialNB()</pre></div></div></div></div></div>"
      ],
      "text/plain": [
       "MultinomialNB()"
      ]
     },
     "execution_count": 45,
     "metadata": {},
     "output_type": "execute_result"
    }
   ],
   "source": [
    "alpha = 1.0\n",
    "clf = MultinomialNB(alpha=alpha)\n",
    "clf.fit(X_train_counts, y_train)"
   ]
  },
  {
   "cell_type": "code",
   "execution_count": 46,
   "id": "89bab3d9",
   "metadata": {},
   "outputs": [
    {
     "name": "stdout",
     "output_type": "stream",
     "text": [
      "Accuracy: 0.75\n"
     ]
    }
   ],
   "source": [
    "# Evaluate the classifier\n",
    "y_pred = clf.predict(X_test_counts)\n",
    "accuracy = accuracy_score(y_test, y_pred)\n",
    "print(\"Accuracy:\", accuracy)"
   ]
  },
  {
   "cell_type": "code",
   "execution_count": 47,
   "id": "f68981cb",
   "metadata": {},
   "outputs": [
    {
     "name": "stdout",
     "output_type": "stream",
     "text": [
      "Precision: 0.75\n"
     ]
    }
   ],
   "source": [
    "precision = precision_score(y_test, y_pred, pos_label='positive')\n",
    "print(\"Precision:\", precision)"
   ]
  },
  {
   "cell_type": "code",
   "execution_count": 48,
   "id": "83207c7f",
   "metadata": {
    "scrolled": true
   },
   "outputs": [
    {
     "name": "stdout",
     "output_type": "stream",
     "text": [
      "Recall: 1.0\n"
     ]
    }
   ],
   "source": [
    "# Calculate recall\n",
    "recall = recall_score(y_test, y_pred, pos_label='positive')\n",
    "print(\"Recall:\", recall)"
   ]
  },
  {
   "cell_type": "code",
   "execution_count": 49,
   "id": "0bd9e79b",
   "metadata": {},
   "outputs": [
    {
     "name": "stdout",
     "output_type": "stream",
     "text": [
      "F1 Score: 0.8571428571428571\n"
     ]
    }
   ],
   "source": [
    "# Calculate F1 score\n",
    "f1 = f1_score(y_test, y_pred, pos_label='positive')\n",
    "print(\"F1 Score:\", f1)"
   ]
  },
  {
   "cell_type": "code",
   "execution_count": 50,
   "id": "03c30ab2",
   "metadata": {},
   "outputs": [
    {
     "name": "stdout",
     "output_type": "stream",
     "text": [
      "New Comment:  I loved the Apple Vision Pro\n",
      "Predicted Sentiment: positive\n"
     ]
    }
   ],
   "source": [
    "# Example of predicting sentiment of a new text\n",
    "new_text = \"I loved the Apple Vision Pro\"\n",
    "print(\"New Comment: \",new_text)\n",
    "new_text_processed = \" \".join(new_text.split())  # Remove extra spaces if any\n",
    "new_text_counts = vectorizer.transform([new_text_processed])\n",
    "predicted_sentiment = clf.predict(new_text_counts)[0]\n",
    "print(\"Predicted Sentiment:\", predicted_sentiment)"
   ]
  },
  {
   "cell_type": "code",
   "execution_count": 51,
   "id": "01b09185",
   "metadata": {},
   "outputs": [
    {
     "data": {
      "image/png": "[encoded data removed]",
      "text/plain": [
       "<Figure size 576x432 with 2 Axes>"
      ]
     },
     "metadata": {
      "needs_background": "light"
     },
     "output_type": "display_data"
    }
   ],
   "source": [
    "# Generate confusion matrix\n",
    "conf_matrix = confusion_matrix(y_test, y_pred)\n",
    "\n",
    "# Plot confusion matrix\n",
    "plt.figure(figsize=(8, 6))\n",
    "sns.heatmap(conf_matrix, annot=True, fmt=\"d\", cmap=\"Blues\", xticklabels=['negative', 'positive'], yticklabels=['negative', 'positive'])\n",
    "plt.xlabel('Predicted')\n",
    "plt.ylabel('Actual')\n",
    "plt.title('Confusion Matrix')\n",
    "plt.show()"
   ]
  }
 ],
 "metadata": {
  "kernelspec": {
   "display_name": "Python 3 (ipykernel)",
   "language": "python",
   "name": "python3"
  },
  "language_info": {
   "codemirror_mode": {
    "name": "ipython",
    "version": 3
   },
   "file_extension": ".py",
   "mimetype": "text/x-python",
   "name": "python",
   "nbconvert_exporter": "python",
   "pygments_lexer": "ipython3",
   "version": "3.9.12"
  }
 },
 "nbformat": 4,
 "nbformat_minor": 5
}
