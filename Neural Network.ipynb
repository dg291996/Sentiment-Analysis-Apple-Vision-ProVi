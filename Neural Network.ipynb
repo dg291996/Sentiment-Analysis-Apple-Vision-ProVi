{
 "cells": [
  {
   "cell_type": "code",
   "execution_count": 21,
   "id": "2785e366",
   "metadata": {},
   "outputs": [],
   "source": [
    "#pip install tensorflow"
   ]
  },
  {
   "cell_type": "code",
   "execution_count": 2,
   "id": "8f6fc94e",
   "metadata": {},
   "outputs": [
    {
     "name": "stderr",
     "output_type": "stream",
     "text": [
      "C:\\Users\\Hp\\anaconda3\\lib\\site-packages\\scipy\\__init__.py:146: UserWarning: A NumPy version >=1.16.5 and <1.23.0 is required for this version of SciPy (detected version 1.26.4\n",
      "  warnings.warn(f\"A NumPy version >={np_minversion} and <{np_maxversion}\"\n"
     ]
    }
   ],
   "source": [
    "import pandas as pd\n",
    "import numpy as np\n",
    "from sklearn.svm import SVC\n",
    "from imblearn.over_sampling import SMOTE\n",
    "from sklearn.metrics import accuracy_score, precision_score, recall_score, f1_score, confusion_matrix\n",
    "import seaborn as sns\n",
    "import matplotlib.pyplot as plt\n",
    "from sklearn.model_selection import train_test_split\n",
    "from sklearn.feature_extraction.text import CountVectorizer\n",
    "import tensorflow as tf"
   ]
  },
  {
   "cell_type": "code",
   "execution_count": 3,
   "id": "e734d19c",
   "metadata": {},
   "outputs": [],
   "source": [
    "#pip install graphviz"
   ]
  },
  {
   "cell_type": "code",
   "execution_count": 4,
   "id": "1ef5e516",
   "metadata": {},
   "outputs": [],
   "source": [
    "#pip install imblearn\n"
   ]
  },
  {
   "cell_type": "code",
   "execution_count": 5,
   "id": "212cb168",
   "metadata": {},
   "outputs": [],
   "source": [
    "df= pd.read_csv('Sentiment_Analysis_Data.csv')"
   ]
  },
  {
   "cell_type": "code",
   "execution_count": 6,
   "id": "3b0dbff1",
   "metadata": {
    "scrolled": true
   },
   "outputs": [
    {
     "data": {
      "text/html": [
       "<div>\n",
       "<style scoped>\n",
       "    .dataframe tbody tr th:only-of-type {\n",
       "        vertical-align: middle;\n",
       "    }\n",
       "\n",
       "    .dataframe tbody tr th {\n",
       "        vertical-align: top;\n",
       "    }\n",
       "\n",
       "    .dataframe thead th {\n",
       "        text-align: right;\n",
       "    }\n",
       "</style>\n",
       "<table border=\"1\" class=\"dataframe\">\n",
       "  <thead>\n",
       "    <tr style=\"text-align: right;\">\n",
       "      <th></th>\n",
       "      <th>Unnamed: 0</th>\n",
       "      <th>Index</th>\n",
       "      <th>Title</th>\n",
       "      <th>Author</th>\n",
       "      <th>ID</th>\n",
       "      <th>Created</th>\n",
       "      <th>Original_Title</th>\n",
       "      <th>Without_stopwords</th>\n",
       "      <th>Lemmatized_Words</th>\n",
       "      <th>Pos_tags</th>\n",
       "      <th>...</th>\n",
       "      <th>PCA1</th>\n",
       "      <th>PCA2</th>\n",
       "      <th>For_Cluster_Seven</th>\n",
       "      <th>For_Cluster_Ten</th>\n",
       "      <th>neg</th>\n",
       "      <th>neu</th>\n",
       "      <th>pos</th>\n",
       "      <th>compound</th>\n",
       "      <th>Sentiment</th>\n",
       "      <th>Sentiment_Label</th>\n",
       "    </tr>\n",
       "  </thead>\n",
       "  <tbody>\n",
       "    <tr>\n",
       "      <th>0</th>\n",
       "      <td>0</td>\n",
       "      <td>0</td>\n",
       "      <td>['apple', 'vision', 'pro', 'has', 'ruined', 'm...</td>\n",
       "      <td>Old_Possible8977</td>\n",
       "      <td>1an21fb</td>\n",
       "      <td>2024-02-09 23:34:09</td>\n",
       "      <td>Apple Vision Pro has ruined movies for me</td>\n",
       "      <td>['apple', 'vision', 'pro', 'ruined', 'movies']</td>\n",
       "      <td>['apple', 'vision', 'pro', 'ruined', 'movies']</td>\n",
       "      <td>[('[', 'JJ'), (\"'apple\", 'NNP'), (\"'\", 'POS'),...</td>\n",
       "      <td>...</td>\n",
       "      <td>0.369651</td>\n",
       "      <td>0.018061</td>\n",
       "      <td>0</td>\n",
       "      <td>1</td>\n",
       "      <td>0.279</td>\n",
       "      <td>0.541</td>\n",
       "      <td>0.18</td>\n",
       "      <td>-0.2732</td>\n",
       "      <td>-1</td>\n",
       "      <td>negative</td>\n",
       "    </tr>\n",
       "    <tr>\n",
       "      <th>1</th>\n",
       "      <td>1</td>\n",
       "      <td>1</td>\n",
       "      <td>['its', 'too', 'expensive', 'no', 'regrets']</td>\n",
       "      <td>McNerdsAlot</td>\n",
       "      <td>1akdyzo</td>\n",
       "      <td>2024-02-06 16:35:52</td>\n",
       "      <td>It’s too expensive. No regrets.</td>\n",
       "      <td>['expensive', 'regrets']</td>\n",
       "      <td>['expensive', 'regrets']</td>\n",
       "      <td>[('[', 'RB'), (\"'expensive\", 'JJ'), (\"'\", \"''\"...</td>\n",
       "      <td>...</td>\n",
       "      <td>-0.054405</td>\n",
       "      <td>-0.046932</td>\n",
       "      <td>1</td>\n",
       "      <td>5</td>\n",
       "      <td>0.610</td>\n",
       "      <td>0.390</td>\n",
       "      <td>0.00</td>\n",
       "      <td>-0.5719</td>\n",
       "      <td>-1</td>\n",
       "      <td>negative</td>\n",
       "    </tr>\n",
       "    <tr>\n",
       "      <th>2</th>\n",
       "      <td>2</td>\n",
       "      <td>2</td>\n",
       "      <td>['how', 'to', 'ruin', 'your', 'movie', 'library']</td>\n",
       "      <td>Mequbbal_Trader</td>\n",
       "      <td>1atvcqx</td>\n",
       "      <td>2024-02-18 14:31:17</td>\n",
       "      <td>How to ruin your movie library</td>\n",
       "      <td>['ruin', 'movie', 'library']</td>\n",
       "      <td>['ruin', 'movie', 'library']</td>\n",
       "      <td>[('[', 'JJ'), (\"'ruin\", 'NNP'), (\"'\", 'POS'), ...</td>\n",
       "      <td>...</td>\n",
       "      <td>-0.068477</td>\n",
       "      <td>-0.067856</td>\n",
       "      <td>1</td>\n",
       "      <td>5</td>\n",
       "      <td>0.432</td>\n",
       "      <td>0.568</td>\n",
       "      <td>0.00</td>\n",
       "      <td>-0.5859</td>\n",
       "      <td>-1</td>\n",
       "      <td>negative</td>\n",
       "    </tr>\n",
       "    <tr>\n",
       "      <th>3</th>\n",
       "      <td>3</td>\n",
       "      <td>3</td>\n",
       "      <td>['i', 'was', 'really', 'wrong', 'about', 'the'...</td>\n",
       "      <td>AppleBottmBeans</td>\n",
       "      <td>1amtycf</td>\n",
       "      <td>2024-02-09 17:45:25</td>\n",
       "      <td>I was REALLY wrong about the AVP. This is the ...</td>\n",
       "      <td>['really', 'wrong', 'avp', 'incredible', 'piec...</td>\n",
       "      <td>['really', 'wrong', 'avp', 'incredible', 'piec...</td>\n",
       "      <td>[('[', 'RB'), (\"'really\", 'RB'), (\"'\", \"''\"), ...</td>\n",
       "      <td>...</td>\n",
       "      <td>-0.113431</td>\n",
       "      <td>0.092884</td>\n",
       "      <td>4</td>\n",
       "      <td>9</td>\n",
       "      <td>0.205</td>\n",
       "      <td>0.795</td>\n",
       "      <td>0.00</td>\n",
       "      <td>-0.6281</td>\n",
       "      <td>-1</td>\n",
       "      <td>negative</td>\n",
       "    </tr>\n",
       "    <tr>\n",
       "      <th>4</th>\n",
       "      <td>4</td>\n",
       "      <td>4</td>\n",
       "      <td>['apple', 'vision', 'pro', 'is', 'the', 'best'...</td>\n",
       "      <td>Deathtosnoopy</td>\n",
       "      <td>1b2jq3m</td>\n",
       "      <td>2024-02-28 22:35:12</td>\n",
       "      <td>Apple vision pro is the best thing to happen t...</td>\n",
       "      <td>['apple', 'vision', 'pro', 'best', 'thing', 'h...</td>\n",
       "      <td>['apple', 'vision', 'pro', 'best', 'thing', 'h...</td>\n",
       "      <td>[('[', 'JJ'), (\"'apple\", 'NNP'), (\"'\", 'POS'),...</td>\n",
       "      <td>...</td>\n",
       "      <td>0.209062</td>\n",
       "      <td>-0.007999</td>\n",
       "      <td>0</td>\n",
       "      <td>1</td>\n",
       "      <td>0.000</td>\n",
       "      <td>0.640</td>\n",
       "      <td>0.36</td>\n",
       "      <td>0.7351</td>\n",
       "      <td>1</td>\n",
       "      <td>positive</td>\n",
       "    </tr>\n",
       "  </tbody>\n",
       "</table>\n",
       "<p>5 rows × 21 columns</p>\n",
       "</div>"
      ],
      "text/plain": [
       "   Unnamed: 0  Index                                              Title  \\\n",
       "0           0      0  ['apple', 'vision', 'pro', 'has', 'ruined', 'm...   \n",
       "1           1      1       ['its', 'too', 'expensive', 'no', 'regrets']   \n",
       "2           2      2  ['how', 'to', 'ruin', 'your', 'movie', 'library']   \n",
       "3           3      3  ['i', 'was', 'really', 'wrong', 'about', 'the'...   \n",
       "4           4      4  ['apple', 'vision', 'pro', 'is', 'the', 'best'...   \n",
       "\n",
       "             Author       ID              Created  \\\n",
       "0  Old_Possible8977  1an21fb  2024-02-09 23:34:09   \n",
       "1       McNerdsAlot  1akdyzo  2024-02-06 16:35:52   \n",
       "2   Mequbbal_Trader  1atvcqx  2024-02-18 14:31:17   \n",
       "3   AppleBottmBeans  1amtycf  2024-02-09 17:45:25   \n",
       "4     Deathtosnoopy  1b2jq3m  2024-02-28 22:35:12   \n",
       "\n",
       "                                      Original_Title  \\\n",
       "0          Apple Vision Pro has ruined movies for me   \n",
       "1                    It’s too expensive. No regrets.   \n",
       "2                     How to ruin your movie library   \n",
       "3  I was REALLY wrong about the AVP. This is the ...   \n",
       "4  Apple vision pro is the best thing to happen t...   \n",
       "\n",
       "                                   Without_stopwords  \\\n",
       "0     ['apple', 'vision', 'pro', 'ruined', 'movies']   \n",
       "1                           ['expensive', 'regrets']   \n",
       "2                       ['ruin', 'movie', 'library']   \n",
       "3  ['really', 'wrong', 'avp', 'incredible', 'piec...   \n",
       "4  ['apple', 'vision', 'pro', 'best', 'thing', 'h...   \n",
       "\n",
       "                                    Lemmatized_Words  \\\n",
       "0     ['apple', 'vision', 'pro', 'ruined', 'movies']   \n",
       "1                           ['expensive', 'regrets']   \n",
       "2                       ['ruin', 'movie', 'library']   \n",
       "3  ['really', 'wrong', 'avp', 'incredible', 'piec...   \n",
       "4  ['apple', 'vision', 'pro', 'best', 'thing', 'h...   \n",
       "\n",
       "                                            Pos_tags  ...      PCA1      PCA2  \\\n",
       "0  [('[', 'JJ'), (\"'apple\", 'NNP'), (\"'\", 'POS'),...  ...  0.369651  0.018061   \n",
       "1  [('[', 'RB'), (\"'expensive\", 'JJ'), (\"'\", \"''\"...  ... -0.054405 -0.046932   \n",
       "2  [('[', 'JJ'), (\"'ruin\", 'NNP'), (\"'\", 'POS'), ...  ... -0.068477 -0.067856   \n",
       "3  [('[', 'RB'), (\"'really\", 'RB'), (\"'\", \"''\"), ...  ... -0.113431  0.092884   \n",
       "4  [('[', 'JJ'), (\"'apple\", 'NNP'), (\"'\", 'POS'),...  ...  0.209062 -0.007999   \n",
       "\n",
       "   For_Cluster_Seven  For_Cluster_Ten    neg    neu   pos  compound  \\\n",
       "0                  0                1  0.279  0.541  0.18   -0.2732   \n",
       "1                  1                5  0.610  0.390  0.00   -0.5719   \n",
       "2                  1                5  0.432  0.568  0.00   -0.5859   \n",
       "3                  4                9  0.205  0.795  0.00   -0.6281   \n",
       "4                  0                1  0.000  0.640  0.36    0.7351   \n",
       "\n",
       "   Sentiment  Sentiment_Label  \n",
       "0         -1         negative  \n",
       "1         -1         negative  \n",
       "2         -1         negative  \n",
       "3         -1         negative  \n",
       "4          1         positive  \n",
       "\n",
       "[5 rows x 21 columns]"
      ]
     },
     "execution_count": 6,
     "metadata": {},
     "output_type": "execute_result"
    }
   ],
   "source": [
    "df.head()"
   ]
  },
  {
   "cell_type": "code",
   "execution_count": 7,
   "id": "3fdb09d4",
   "metadata": {},
   "outputs": [],
   "source": [
    "# Split the data into features (X) and labels (y)\n",
    "X = df['Lemmatized_Words']\n",
    "y = df['Sentiment_Label']"
   ]
  },
  {
   "cell_type": "code",
   "execution_count": 8,
   "id": "e82a0b91",
   "metadata": {},
   "outputs": [],
   "source": [
    "# Split the data into training and testing sets\n",
    "X_train, X_test, y_train, y_test = train_test_split(X, y, test_size=0.2, random_state=42)"
   ]
  },
  {
   "cell_type": "code",
   "execution_count": 9,
   "id": "5ccc07e7",
   "metadata": {},
   "outputs": [],
   "source": [
    "#X_train.to_csv('Training_Data_DT.csv')"
   ]
  },
  {
   "cell_type": "code",
   "execution_count": 10,
   "id": "201a058f",
   "metadata": {},
   "outputs": [],
   "source": [
    "#X_test.to_csv('Test_Data_DT.csv')"
   ]
  },
  {
   "cell_type": "code",
   "execution_count": 11,
   "id": "0993194d",
   "metadata": {},
   "outputs": [],
   "source": [
    "# Vectorize the text data\n",
    "vectorizer = CountVectorizer()\n",
    "X_train_counts = vectorizer.fit_transform(X_train)\n",
    "X_test_counts = vectorizer.transform(X_test)"
   ]
  },
  {
   "cell_type": "code",
   "execution_count": 12,
   "id": "34e74473",
   "metadata": {},
   "outputs": [],
   "source": [
    "# Apply SMOTE to the training data\n",
    "smote = SMOTE(random_state=42)\n",
    "X_train_resampled, y_train_resampled = smote.fit_resample(X_train_counts, y_train)"
   ]
  },
  {
   "cell_type": "code",
   "execution_count": 13,
   "id": "1bcd0913",
   "metadata": {},
   "outputs": [],
   "source": [
    "def values_to_numpy(values):\n",
    "    # Define a mapping from labels to numbers\n",
    "    label_map = {'positive': 1, 'negative': -1}\n",
    "    \n",
    "    # Convert labels to numerical values\n",
    "    numerical_values = [label_map[value.strip()] for value in values]\n",
    "    \n",
    "    # Convert to NumPy array\n",
    "    numpy_array = np.array(numerical_values)\n",
    "    \n",
    "    return numpy_array"
   ]
  },
  {
   "cell_type": "code",
   "execution_count": 14,
   "id": "a0deb218",
   "metadata": {
    "scrolled": true
   },
   "outputs": [
    {
     "name": "stdout",
     "output_type": "stream",
     "text": [
      "[ 1  1  1 ... -1 -1 -1]\n"
     ]
    }
   ],
   "source": [
    "values = y_train_resampled\n",
    "\n",
    "y_train_resampled_array = values_to_numpy(values)\n",
    "print(y_train_resampled_array)"
   ]
  },
  {
   "cell_type": "code",
   "execution_count": 15,
   "id": "bed1a650",
   "metadata": {},
   "outputs": [
    {
     "name": "stderr",
     "output_type": "stream",
     "text": [
      "C:\\Users\\Hp\\anaconda3\\lib\\site-packages\\keras\\src\\layers\\core\\dense.py:87: UserWarning: Do not pass an `input_shape`/`input_dim` argument to a layer. When using Sequential models, prefer using an `Input(shape)` object as the first layer in the model instead.\n",
      "  super().__init__(activity_regularizer=activity_regularizer, **kwargs)\n"
     ]
    }
   ],
   "source": [
    "model = tf.keras.Sequential([\n",
    "    tf.keras.layers.Dense(64, activation='relu', input_shape=(X_train_counts.shape[1],)),\n",
    "    tf.keras.layers.Dense(32, activation='relu'),\n",
    "    tf.keras.layers.Dense(1, activation='sigmoid')\n",
    "])"
   ]
  },
  {
   "cell_type": "code",
   "execution_count": 16,
   "id": "282b9148",
   "metadata": {},
   "outputs": [],
   "source": [
    "model.compile(optimizer='adam',\n",
    "              loss='binary_crossentropy',\n",
    "              metrics=['accuracy'])"
   ]
  },
  {
   "cell_type": "code",
   "execution_count": 17,
   "id": "f6e83fd7",
   "metadata": {
    "scrolled": true
   },
   "outputs": [
    {
     "name": "stdout",
     "output_type": "stream",
     "text": [
      "Epoch 1/10\n",
      "\u001b[1m35/35\u001b[0m \u001b[32m━━━━━━━━━━━━━━━━━━━━\u001b[0m\u001b[37m\u001b[0m \u001b[1m1s\u001b[0m 7ms/step - accuracy: 0.6287 - loss: 0.6760 - val_accuracy: 0.0000e+00 - val_loss: 0.6148\n",
      "Epoch 2/10\n",
      "\u001b[1m35/35\u001b[0m \u001b[32m━━━━━━━━━━━━━━━━━━━━\u001b[0m\u001b[37m\u001b[0m \u001b[1m0s\u001b[0m 3ms/step - accuracy: 0.6029 - loss: 0.5857 - val_accuracy: 0.0000e+00 - val_loss: 0.4132\n",
      "Epoch 3/10\n",
      "\u001b[1m35/35\u001b[0m \u001b[32m━━━━━━━━━━━━━━━━━━━━\u001b[0m\u001b[37m\u001b[0m \u001b[1m0s\u001b[0m 3ms/step - accuracy: 0.6164 - loss: 0.3848 - val_accuracy: 0.0000e+00 - val_loss: -0.2966\n",
      "Epoch 4/10\n",
      "\u001b[1m35/35\u001b[0m \u001b[32m━━━━━━━━━━━━━━━━━━━━\u001b[0m\u001b[37m\u001b[0m \u001b[1m0s\u001b[0m 3ms/step - accuracy: 0.5798 - loss: -0.0667 - val_accuracy: 0.0000e+00 - val_loss: -2.0643\n",
      "Epoch 5/10\n",
      "\u001b[1m35/35\u001b[0m \u001b[32m━━━━━━━━━━━━━━━━━━━━\u001b[0m\u001b[37m\u001b[0m \u001b[1m0s\u001b[0m 3ms/step - accuracy: 0.5489 - loss: -0.9168 - val_accuracy: 0.0000e+00 - val_loss: -5.0597\n",
      "Epoch 6/10\n",
      "\u001b[1m35/35\u001b[0m \u001b[32m━━━━━━━━━━━━━━━━━━━━\u001b[0m\u001b[37m\u001b[0m \u001b[1m0s\u001b[0m 3ms/step - accuracy: 0.5115 - loss: -2.3325 - val_accuracy: 0.0000e+00 - val_loss: -10.3386\n",
      "Epoch 7/10\n",
      "\u001b[1m35/35\u001b[0m \u001b[32m━━━━━━━━━━━━━━━━━━━━\u001b[0m\u001b[37m\u001b[0m \u001b[1m0s\u001b[0m 3ms/step - accuracy: 0.4987 - loss: -4.9124 - val_accuracy: 0.0000e+00 - val_loss: -18.2418\n",
      "Epoch 8/10\n",
      "\u001b[1m35/35\u001b[0m \u001b[32m━━━━━━━━━━━━━━━━━━━━\u001b[0m\u001b[37m\u001b[0m \u001b[1m0s\u001b[0m 3ms/step - accuracy: 0.4881 - loss: -8.9558 - val_accuracy: 0.0000e+00 - val_loss: -29.6109\n",
      "Epoch 9/10\n",
      "\u001b[1m35/35\u001b[0m \u001b[32m━━━━━━━━━━━━━━━━━━━━\u001b[0m\u001b[37m\u001b[0m \u001b[1m0s\u001b[0m 3ms/step - accuracy: 0.5219 - loss: -12.9420 - val_accuracy: 0.0000e+00 - val_loss: -45.1064\n",
      "Epoch 10/10\n",
      "\u001b[1m35/35\u001b[0m \u001b[32m━━━━━━━━━━━━━━━━━━━━\u001b[0m\u001b[37m\u001b[0m \u001b[1m0s\u001b[0m 3ms/step - accuracy: 0.4831 - loss: -21.1024 - val_accuracy: 0.0000e+00 - val_loss: -65.5086\n"
     ]
    }
   ],
   "source": [
    "history = model.fit(X_train_resampled.toarray(), y_train_resampled_array, epochs=10, batch_size=32, validation_split=0.2)"
   ]
  },
  {
   "cell_type": "code",
   "execution_count": 29,
   "id": "6cc1ba08",
   "metadata": {},
   "outputs": [
    {
     "name": "stdout",
     "output_type": "stream",
     "text": [
      "\u001b[1m7/7\u001b[0m \u001b[32m━━━━━━━━━━━━━━━━━━━━\u001b[0m\u001b[37m\u001b[0m \u001b[1m0s\u001b[0m 6ms/step \n"
     ]
    }
   ],
   "source": [
    "y_pred_prob = model.predict(X_test_counts.toarray())\n",
    "\n",
    "# Convert probabilities to class labels based on a threshold (0.5 in this case)\n",
    "y_pred = (y_pred_prob > 0.5).astype(int)"
   ]
  },
  {
   "cell_type": "code",
   "execution_count": 30,
   "id": "780e779a",
   "metadata": {},
   "outputs": [
    {
     "name": "stdout",
     "output_type": "stream",
     "text": [
      "[ 1  1  1  1  1  1  1  1  1  1 -1  1  1  1 -1  1  1  1  1  1  1  1  1  1\n",
      "  1  1 -1  1  1  1  1  1  1  1  1  1  1  1  1  1 -1  1  1 -1  1  1  1  1\n",
      "  1  1  1  1  1  1  1  1  1  1  1  1  1  1  1  1  1  1  1  1  1  1  1  1\n",
      "  1  1  1  1  1  1  1 -1  1  1  1  1  1  1  1  1 -1  1  1  1  1  1  1  1\n",
      "  1  1  1  1  1  1  1  1  1  1  1  1  1  1  1  1  1  1  1  1  1  1  1  1\n",
      "  1  1  1  1  1  1  1  1  1  1 -1  1  1 -1  1  1  1 -1  1  1  1  1  1  1\n",
      "  1  1  1  1  1  1  1  1  1  1  1 -1 -1  1  1  1  1  1  1  1  1  1 -1  1\n",
      " -1  1  1  1  1  1  1  1  1  1  1  1  1  1  1 -1  1  1  1 -1  1  1  1  1\n",
      "  1  1  1  1 -1  1  1  1]\n"
     ]
    }
   ],
   "source": [
    "values_2 = y_test\n",
    "\n",
    "y_test_array = values_to_numpy(values_2)\n",
    "print(y_test_array)"
   ]
  },
  {
   "cell_type": "code",
   "execution_count": 31,
   "id": "6ce2cfb7",
   "metadata": {},
   "outputs": [
    {
     "name": "stdout",
     "output_type": "stream",
     "text": [
      "\u001b[1m7/7\u001b[0m \u001b[32m━━━━━━━━━━━━━━━━━━━━\u001b[0m\u001b[37m\u001b[0m \u001b[1m0s\u001b[0m 2ms/step - accuracy: 0.3222 - loss: 15.6662\n",
      "Test Accuracy: 0.3449999988079071\n"
     ]
    }
   ],
   "source": [
    "loss, accuracy = model.evaluate(X_test_counts.toarray(), y_test_array)\n",
    "print(\"Test Accuracy:\", accuracy)"
   ]
  },
  {
   "cell_type": "code",
   "execution_count": 27,
   "id": "fe26c927",
   "metadata": {},
   "outputs": [
    {
     "data": {
      "image/png": "[encoded data removed]",
      "text/plain": [
       "<Figure size 432x288 with 1 Axes>"
      ]
     },
     "metadata": {
      "needs_background": "light"
     },
     "output_type": "display_data"
    }
   ],
   "source": [
    "plt.hist(y_test_array, bins=5, color='skyblue', edgecolor='black')\n",
    "\n",
    "# Add labels and title\n",
    "plt.xlabel('Values')\n",
    "plt.ylabel('Frequency')\n",
    "plt.title('Histogram')\n",
    "\n",
    "# Show the plot\n",
    "plt.show()"
   ]
  },
  {
   "cell_type": "code",
   "execution_count": 34,
   "id": "d0f1e0fa",
   "metadata": {},
   "outputs": [
    {
     "data": {
      "image/png": "[encoded data removed]",
      "text/plain": [
       "<Figure size 432x288 with 1 Axes>"
      ]
     },
     "metadata": {
      "needs_background": "light"
     },
     "output_type": "display_data"
    }
   ],
   "source": [
    "# Plot training history\n",
    "plt.plot(history.history['accuracy'], label='Training Accuracy')\n",
    "plt.plot(history.history['val_accuracy'], label='Test Accuracy')\n",
    "plt.xlabel('Epoch')\n",
    "plt.ylabel('Accuracy')\n",
    "plt.title('Model Loss')\n",
    "plt.legend()\n",
    "plt.show()"
   ]
  },
  {
   "cell_type": "code",
   "execution_count": null,
   "id": "0f4f8675",
   "metadata": {},
   "outputs": [],
   "source": []
  }
 ],
 "metadata": {
  "kernelspec": {
   "display_name": "Python 3 (ipykernel)",
   "language": "python",
   "name": "python3"
  },
  "language_info": {
   "codemirror_mode": {
    "name": "ipython",
    "version": 3
   },
   "file_extension": ".py",
   "mimetype": "text/x-python",
   "name": "python",
   "nbconvert_exporter": "python",
   "pygments_lexer": "ipython3",
   "version": "3.9.12"
  }
 },
 "nbformat": 4,
 "nbformat_minor": 5
}
