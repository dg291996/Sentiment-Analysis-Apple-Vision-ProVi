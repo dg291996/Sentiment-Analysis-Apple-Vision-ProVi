{
 "cells": [
  {
   "cell_type": "code",
   "execution_count": 1,
   "id": "2785e366",
   "metadata": {},
   "outputs": [],
   "source": [
    "#pip install tensorflow"
   ]
  },
  {
   "cell_type": "code",
   "execution_count": 2,
   "id": "8f6fc94e",
   "metadata": {},
   "outputs": [
    {
     "name": "stderr",
     "output_type": "stream",
     "text": [
      "C:\\Users\\Hp\\anaconda3\\lib\\site-packages\\scipy\\__init__.py:146: UserWarning: A NumPy version >=1.16.5 and <1.23.0 is required for this version of SciPy (detected version 1.26.4\n",
      "  warnings.warn(f\"A NumPy version >={np_minversion} and <{np_maxversion}\"\n"
     ]
    }
   ],
   "source": [
    "import pandas as pd\n",
    "import numpy as np\n",
    "from sklearn.svm import SVC\n",
    "from imblearn.over_sampling import SMOTE\n",
    "from sklearn.metrics import accuracy_score, precision_score, recall_score, f1_score, confusion_matrix\n",
    "import seaborn as sns\n",
    "import matplotlib.pyplot as plt\n",
    "from sklearn.model_selection import train_test_split\n",
    "from sklearn.feature_extraction.text import CountVectorizer\n",
    "import tensorflow as tf\n",
    "from sklearn.linear_model import LinearRegression\n",
    "from sklearn.metrics import mean_squared_error, r2_score\n",
    "import statsmodels.api as sm"
   ]
  },
  {
   "cell_type": "code",
   "execution_count": 3,
   "id": "212cb168",
   "metadata": {},
   "outputs": [],
   "source": [
    "df= pd.read_csv('Sentiment_Analysis_Data.csv')"
   ]
  },
  {
   "cell_type": "code",
   "execution_count": 4,
   "id": "3b0dbff1",
   "metadata": {
    "scrolled": true
   },
   "outputs": [
    {
     "data": {
      "text/html": [
       "<div>\n",
       "<style scoped>\n",
       "    .dataframe tbody tr th:only-of-type {\n",
       "        vertical-align: middle;\n",
       "    }\n",
       "\n",
       "    .dataframe tbody tr th {\n",
       "        vertical-align: top;\n",
       "    }\n",
       "\n",
       "    .dataframe thead th {\n",
       "        text-align: right;\n",
       "    }\n",
       "</style>\n",
       "<table border=\"1\" class=\"dataframe\">\n",
       "  <thead>\n",
       "    <tr style=\"text-align: right;\">\n",
       "      <th></th>\n",
       "      <th>Unnamed: 0</th>\n",
       "      <th>Index</th>\n",
       "      <th>Title</th>\n",
       "      <th>Author</th>\n",
       "      <th>ID</th>\n",
       "      <th>Created</th>\n",
       "      <th>Original_Title</th>\n",
       "      <th>Without_stopwords</th>\n",
       "      <th>Lemmatized_Words</th>\n",
       "      <th>Pos_tags</th>\n",
       "      <th>...</th>\n",
       "      <th>PCA1</th>\n",
       "      <th>PCA2</th>\n",
       "      <th>For_Cluster_Seven</th>\n",
       "      <th>For_Cluster_Ten</th>\n",
       "      <th>neg</th>\n",
       "      <th>neu</th>\n",
       "      <th>pos</th>\n",
       "      <th>compound</th>\n",
       "      <th>Sentiment</th>\n",
       "      <th>Sentiment_Label</th>\n",
       "    </tr>\n",
       "  </thead>\n",
       "  <tbody>\n",
       "    <tr>\n",
       "      <th>0</th>\n",
       "      <td>0</td>\n",
       "      <td>0</td>\n",
       "      <td>['apple', 'vision', 'pro', 'has', 'ruined', 'm...</td>\n",
       "      <td>Old_Possible8977</td>\n",
       "      <td>1an21fb</td>\n",
       "      <td>2024-02-09 23:34:09</td>\n",
       "      <td>Apple Vision Pro has ruined movies for me</td>\n",
       "      <td>['apple', 'vision', 'pro', 'ruined', 'movies']</td>\n",
       "      <td>['apple', 'vision', 'pro', 'ruined', 'movies']</td>\n",
       "      <td>[('[', 'JJ'), (\"'apple\", 'NNP'), (\"'\", 'POS'),...</td>\n",
       "      <td>...</td>\n",
       "      <td>0.369651</td>\n",
       "      <td>0.018061</td>\n",
       "      <td>0</td>\n",
       "      <td>1</td>\n",
       "      <td>0.279</td>\n",
       "      <td>0.541</td>\n",
       "      <td>0.18</td>\n",
       "      <td>-0.2732</td>\n",
       "      <td>-1</td>\n",
       "      <td>negative</td>\n",
       "    </tr>\n",
       "    <tr>\n",
       "      <th>1</th>\n",
       "      <td>1</td>\n",
       "      <td>1</td>\n",
       "      <td>['its', 'too', 'expensive', 'no', 'regrets']</td>\n",
       "      <td>McNerdsAlot</td>\n",
       "      <td>1akdyzo</td>\n",
       "      <td>2024-02-06 16:35:52</td>\n",
       "      <td>It’s too expensive. No regrets.</td>\n",
       "      <td>['expensive', 'regrets']</td>\n",
       "      <td>['expensive', 'regrets']</td>\n",
       "      <td>[('[', 'RB'), (\"'expensive\", 'JJ'), (\"'\", \"''\"...</td>\n",
       "      <td>...</td>\n",
       "      <td>-0.054405</td>\n",
       "      <td>-0.046932</td>\n",
       "      <td>1</td>\n",
       "      <td>5</td>\n",
       "      <td>0.610</td>\n",
       "      <td>0.390</td>\n",
       "      <td>0.00</td>\n",
       "      <td>-0.5719</td>\n",
       "      <td>-1</td>\n",
       "      <td>negative</td>\n",
       "    </tr>\n",
       "    <tr>\n",
       "      <th>2</th>\n",
       "      <td>2</td>\n",
       "      <td>2</td>\n",
       "      <td>['how', 'to', 'ruin', 'your', 'movie', 'library']</td>\n",
       "      <td>Mequbbal_Trader</td>\n",
       "      <td>1atvcqx</td>\n",
       "      <td>2024-02-18 14:31:17</td>\n",
       "      <td>How to ruin your movie library</td>\n",
       "      <td>['ruin', 'movie', 'library']</td>\n",
       "      <td>['ruin', 'movie', 'library']</td>\n",
       "      <td>[('[', 'JJ'), (\"'ruin\", 'NNP'), (\"'\", 'POS'), ...</td>\n",
       "      <td>...</td>\n",
       "      <td>-0.068477</td>\n",
       "      <td>-0.067856</td>\n",
       "      <td>1</td>\n",
       "      <td>5</td>\n",
       "      <td>0.432</td>\n",
       "      <td>0.568</td>\n",
       "      <td>0.00</td>\n",
       "      <td>-0.5859</td>\n",
       "      <td>-1</td>\n",
       "      <td>negative</td>\n",
       "    </tr>\n",
       "    <tr>\n",
       "      <th>3</th>\n",
       "      <td>3</td>\n",
       "      <td>3</td>\n",
       "      <td>['i', 'was', 'really', 'wrong', 'about', 'the'...</td>\n",
       "      <td>AppleBottmBeans</td>\n",
       "      <td>1amtycf</td>\n",
       "      <td>2024-02-09 17:45:25</td>\n",
       "      <td>I was REALLY wrong about the AVP. This is the ...</td>\n",
       "      <td>['really', 'wrong', 'avp', 'incredible', 'piec...</td>\n",
       "      <td>['really', 'wrong', 'avp', 'incredible', 'piec...</td>\n",
       "      <td>[('[', 'RB'), (\"'really\", 'RB'), (\"'\", \"''\"), ...</td>\n",
       "      <td>...</td>\n",
       "      <td>-0.113431</td>\n",
       "      <td>0.092884</td>\n",
       "      <td>4</td>\n",
       "      <td>9</td>\n",
       "      <td>0.205</td>\n",
       "      <td>0.795</td>\n",
       "      <td>0.00</td>\n",
       "      <td>-0.6281</td>\n",
       "      <td>-1</td>\n",
       "      <td>negative</td>\n",
       "    </tr>\n",
       "    <tr>\n",
       "      <th>4</th>\n",
       "      <td>4</td>\n",
       "      <td>4</td>\n",
       "      <td>['apple', 'vision', 'pro', 'is', 'the', 'best'...</td>\n",
       "      <td>Deathtosnoopy</td>\n",
       "      <td>1b2jq3m</td>\n",
       "      <td>2024-02-28 22:35:12</td>\n",
       "      <td>Apple vision pro is the best thing to happen t...</td>\n",
       "      <td>['apple', 'vision', 'pro', 'best', 'thing', 'h...</td>\n",
       "      <td>['apple', 'vision', 'pro', 'best', 'thing', 'h...</td>\n",
       "      <td>[('[', 'JJ'), (\"'apple\", 'NNP'), (\"'\", 'POS'),...</td>\n",
       "      <td>...</td>\n",
       "      <td>0.209062</td>\n",
       "      <td>-0.007999</td>\n",
       "      <td>0</td>\n",
       "      <td>1</td>\n",
       "      <td>0.000</td>\n",
       "      <td>0.640</td>\n",
       "      <td>0.36</td>\n",
       "      <td>0.7351</td>\n",
       "      <td>1</td>\n",
       "      <td>positive</td>\n",
       "    </tr>\n",
       "  </tbody>\n",
       "</table>\n",
       "<p>5 rows × 21 columns</p>\n",
       "</div>"
      ],
      "text/plain": [
       "   Unnamed: 0  Index                                              Title  \\\n",
       "0           0      0  ['apple', 'vision', 'pro', 'has', 'ruined', 'm...   \n",
       "1           1      1       ['its', 'too', 'expensive', 'no', 'regrets']   \n",
       "2           2      2  ['how', 'to', 'ruin', 'your', 'movie', 'library']   \n",
       "3           3      3  ['i', 'was', 'really', 'wrong', 'about', 'the'...   \n",
       "4           4      4  ['apple', 'vision', 'pro', 'is', 'the', 'best'...   \n",
       "\n",
       "             Author       ID              Created  \\\n",
       "0  Old_Possible8977  1an21fb  2024-02-09 23:34:09   \n",
       "1       McNerdsAlot  1akdyzo  2024-02-06 16:35:52   \n",
       "2   Mequbbal_Trader  1atvcqx  2024-02-18 14:31:17   \n",
       "3   AppleBottmBeans  1amtycf  2024-02-09 17:45:25   \n",
       "4     Deathtosnoopy  1b2jq3m  2024-02-28 22:35:12   \n",
       "\n",
       "                                      Original_Title  \\\n",
       "0          Apple Vision Pro has ruined movies for me   \n",
       "1                    It’s too expensive. No regrets.   \n",
       "2                     How to ruin your movie library   \n",
       "3  I was REALLY wrong about the AVP. This is the ...   \n",
       "4  Apple vision pro is the best thing to happen t...   \n",
       "\n",
       "                                   Without_stopwords  \\\n",
       "0     ['apple', 'vision', 'pro', 'ruined', 'movies']   \n",
       "1                           ['expensive', 'regrets']   \n",
       "2                       ['ruin', 'movie', 'library']   \n",
       "3  ['really', 'wrong', 'avp', 'incredible', 'piec...   \n",
       "4  ['apple', 'vision', 'pro', 'best', 'thing', 'h...   \n",
       "\n",
       "                                    Lemmatized_Words  \\\n",
       "0     ['apple', 'vision', 'pro', 'ruined', 'movies']   \n",
       "1                           ['expensive', 'regrets']   \n",
       "2                       ['ruin', 'movie', 'library']   \n",
       "3  ['really', 'wrong', 'avp', 'incredible', 'piec...   \n",
       "4  ['apple', 'vision', 'pro', 'best', 'thing', 'h...   \n",
       "\n",
       "                                            Pos_tags  ...      PCA1      PCA2  \\\n",
       "0  [('[', 'JJ'), (\"'apple\", 'NNP'), (\"'\", 'POS'),...  ...  0.369651  0.018061   \n",
       "1  [('[', 'RB'), (\"'expensive\", 'JJ'), (\"'\", \"''\"...  ... -0.054405 -0.046932   \n",
       "2  [('[', 'JJ'), (\"'ruin\", 'NNP'), (\"'\", 'POS'), ...  ... -0.068477 -0.067856   \n",
       "3  [('[', 'RB'), (\"'really\", 'RB'), (\"'\", \"''\"), ...  ... -0.113431  0.092884   \n",
       "4  [('[', 'JJ'), (\"'apple\", 'NNP'), (\"'\", 'POS'),...  ...  0.209062 -0.007999   \n",
       "\n",
       "   For_Cluster_Seven  For_Cluster_Ten    neg    neu   pos  compound  \\\n",
       "0                  0                1  0.279  0.541  0.18   -0.2732   \n",
       "1                  1                5  0.610  0.390  0.00   -0.5719   \n",
       "2                  1                5  0.432  0.568  0.00   -0.5859   \n",
       "3                  4                9  0.205  0.795  0.00   -0.6281   \n",
       "4                  0                1  0.000  0.640  0.36    0.7351   \n",
       "\n",
       "   Sentiment  Sentiment_Label  \n",
       "0         -1         negative  \n",
       "1         -1         negative  \n",
       "2         -1         negative  \n",
       "3         -1         negative  \n",
       "4          1         positive  \n",
       "\n",
       "[5 rows x 21 columns]"
      ]
     },
     "execution_count": 4,
     "metadata": {},
     "output_type": "execute_result"
    }
   ],
   "source": [
    "df.head()"
   ]
  },
  {
   "cell_type": "code",
   "execution_count": 5,
   "id": "3fdb09d4",
   "metadata": {},
   "outputs": [],
   "source": [
    "# Split the data into features (X) and labels (y)\n",
    "X = df[['PCA1','PCA2','neg','neu','pos']]\n",
    "y = df['Sentiment']"
   ]
  },
  {
   "cell_type": "code",
   "execution_count": 6,
   "id": "e82a0b91",
   "metadata": {},
   "outputs": [],
   "source": [
    "# Split the data into training and testing sets\n",
    "X_train, X_test, y_train, y_test = train_test_split(X, y, test_size=0.2, random_state=42)"
   ]
  },
  {
   "cell_type": "code",
   "execution_count": 7,
   "id": "4f77b94d",
   "metadata": {
    "scrolled": true
   },
   "outputs": [
    {
     "data": {
      "text/html": [
       "<div>\n",
       "<style scoped>\n",
       "    .dataframe tbody tr th:only-of-type {\n",
       "        vertical-align: middle;\n",
       "    }\n",
       "\n",
       "    .dataframe tbody tr th {\n",
       "        vertical-align: top;\n",
       "    }\n",
       "\n",
       "    .dataframe thead th {\n",
       "        text-align: right;\n",
       "    }\n",
       "</style>\n",
       "<table border=\"1\" class=\"dataframe\">\n",
       "  <thead>\n",
       "    <tr style=\"text-align: right;\">\n",
       "      <th></th>\n",
       "      <th>PCA1</th>\n",
       "      <th>PCA2</th>\n",
       "      <th>neg</th>\n",
       "      <th>neu</th>\n",
       "      <th>pos</th>\n",
       "    </tr>\n",
       "  </thead>\n",
       "  <tbody>\n",
       "    <tr>\n",
       "      <th>29</th>\n",
       "      <td>-0.061090</td>\n",
       "      <td>-0.056510</td>\n",
       "      <td>0.000</td>\n",
       "      <td>1.000</td>\n",
       "      <td>0.000</td>\n",
       "    </tr>\n",
       "    <tr>\n",
       "      <th>535</th>\n",
       "      <td>-0.081573</td>\n",
       "      <td>-0.042194</td>\n",
       "      <td>0.000</td>\n",
       "      <td>1.000</td>\n",
       "      <td>0.000</td>\n",
       "    </tr>\n",
       "    <tr>\n",
       "      <th>695</th>\n",
       "      <td>0.308821</td>\n",
       "      <td>0.095231</td>\n",
       "      <td>0.000</td>\n",
       "      <td>0.530</td>\n",
       "      <td>0.470</td>\n",
       "    </tr>\n",
       "    <tr>\n",
       "      <th>557</th>\n",
       "      <td>-0.066624</td>\n",
       "      <td>-0.030943</td>\n",
       "      <td>0.000</td>\n",
       "      <td>0.690</td>\n",
       "      <td>0.310</td>\n",
       "    </tr>\n",
       "    <tr>\n",
       "      <th>836</th>\n",
       "      <td>0.174601</td>\n",
       "      <td>-0.029503</td>\n",
       "      <td>0.000</td>\n",
       "      <td>0.833</td>\n",
       "      <td>0.167</td>\n",
       "    </tr>\n",
       "    <tr>\n",
       "      <th>...</th>\n",
       "      <td>...</td>\n",
       "      <td>...</td>\n",
       "      <td>...</td>\n",
       "      <td>...</td>\n",
       "      <td>...</td>\n",
       "    </tr>\n",
       "    <tr>\n",
       "      <th>106</th>\n",
       "      <td>-0.074417</td>\n",
       "      <td>-0.047870</td>\n",
       "      <td>0.000</td>\n",
       "      <td>0.901</td>\n",
       "      <td>0.099</td>\n",
       "    </tr>\n",
       "    <tr>\n",
       "      <th>270</th>\n",
       "      <td>-0.071373</td>\n",
       "      <td>-0.044755</td>\n",
       "      <td>0.000</td>\n",
       "      <td>1.000</td>\n",
       "      <td>0.000</td>\n",
       "    </tr>\n",
       "    <tr>\n",
       "      <th>860</th>\n",
       "      <td>-0.074261</td>\n",
       "      <td>-0.044672</td>\n",
       "      <td>0.000</td>\n",
       "      <td>1.000</td>\n",
       "      <td>0.000</td>\n",
       "    </tr>\n",
       "    <tr>\n",
       "      <th>435</th>\n",
       "      <td>-0.086622</td>\n",
       "      <td>0.095153</td>\n",
       "      <td>0.109</td>\n",
       "      <td>0.891</td>\n",
       "      <td>0.000</td>\n",
       "    </tr>\n",
       "    <tr>\n",
       "      <th>102</th>\n",
       "      <td>-0.068180</td>\n",
       "      <td>-0.062027</td>\n",
       "      <td>0.000</td>\n",
       "      <td>1.000</td>\n",
       "      <td>0.000</td>\n",
       "    </tr>\n",
       "  </tbody>\n",
       "</table>\n",
       "<p>800 rows × 5 columns</p>\n",
       "</div>"
      ],
      "text/plain": [
       "         PCA1      PCA2    neg    neu    pos\n",
       "29  -0.061090 -0.056510  0.000  1.000  0.000\n",
       "535 -0.081573 -0.042194  0.000  1.000  0.000\n",
       "695  0.308821  0.095231  0.000  0.530  0.470\n",
       "557 -0.066624 -0.030943  0.000  0.690  0.310\n",
       "836  0.174601 -0.029503  0.000  0.833  0.167\n",
       "..        ...       ...    ...    ...    ...\n",
       "106 -0.074417 -0.047870  0.000  0.901  0.099\n",
       "270 -0.071373 -0.044755  0.000  1.000  0.000\n",
       "860 -0.074261 -0.044672  0.000  1.000  0.000\n",
       "435 -0.086622  0.095153  0.109  0.891  0.000\n",
       "102 -0.068180 -0.062027  0.000  1.000  0.000\n",
       "\n",
       "[800 rows x 5 columns]"
      ]
     },
     "execution_count": 7,
     "metadata": {},
     "output_type": "execute_result"
    }
   ],
   "source": [
    "X_train"
   ]
  },
  {
   "cell_type": "code",
   "execution_count": 8,
   "id": "c3591092",
   "metadata": {},
   "outputs": [],
   "source": [
    "#X_train.to_csv(\"Regression_Train_Data.csv\")"
   ]
  },
  {
   "cell_type": "code",
   "execution_count": 9,
   "id": "dae4ee52",
   "metadata": {
    "scrolled": true
   },
   "outputs": [
    {
     "data": {
      "text/html": [
       "<div>\n",
       "<style scoped>\n",
       "    .dataframe tbody tr th:only-of-type {\n",
       "        vertical-align: middle;\n",
       "    }\n",
       "\n",
       "    .dataframe tbody tr th {\n",
       "        vertical-align: top;\n",
       "    }\n",
       "\n",
       "    .dataframe thead th {\n",
       "        text-align: right;\n",
       "    }\n",
       "</style>\n",
       "<table border=\"1\" class=\"dataframe\">\n",
       "  <thead>\n",
       "    <tr style=\"text-align: right;\">\n",
       "      <th></th>\n",
       "      <th>PCA1</th>\n",
       "      <th>PCA2</th>\n",
       "      <th>neg</th>\n",
       "      <th>neu</th>\n",
       "      <th>pos</th>\n",
       "    </tr>\n",
       "  </thead>\n",
       "  <tbody>\n",
       "    <tr>\n",
       "      <th>521</th>\n",
       "      <td>-0.079121</td>\n",
       "      <td>-0.104055</td>\n",
       "      <td>0.000</td>\n",
       "      <td>1.000</td>\n",
       "      <td>0.000</td>\n",
       "    </tr>\n",
       "    <tr>\n",
       "      <th>737</th>\n",
       "      <td>-0.072384</td>\n",
       "      <td>-0.045353</td>\n",
       "      <td>0.000</td>\n",
       "      <td>1.000</td>\n",
       "      <td>0.000</td>\n",
       "    </tr>\n",
       "    <tr>\n",
       "      <th>740</th>\n",
       "      <td>0.480644</td>\n",
       "      <td>0.102399</td>\n",
       "      <td>0.000</td>\n",
       "      <td>0.667</td>\n",
       "      <td>0.333</td>\n",
       "    </tr>\n",
       "    <tr>\n",
       "      <th>660</th>\n",
       "      <td>-0.066343</td>\n",
       "      <td>-0.060302</td>\n",
       "      <td>0.000</td>\n",
       "      <td>1.000</td>\n",
       "      <td>0.000</td>\n",
       "    </tr>\n",
       "    <tr>\n",
       "      <th>411</th>\n",
       "      <td>-0.115684</td>\n",
       "      <td>0.187768</td>\n",
       "      <td>0.000</td>\n",
       "      <td>1.000</td>\n",
       "      <td>0.000</td>\n",
       "    </tr>\n",
       "    <tr>\n",
       "      <th>...</th>\n",
       "      <td>...</td>\n",
       "      <td>...</td>\n",
       "      <td>...</td>\n",
       "      <td>...</td>\n",
       "      <td>...</td>\n",
       "    </tr>\n",
       "    <tr>\n",
       "      <th>408</th>\n",
       "      <td>-0.109286</td>\n",
       "      <td>0.203030</td>\n",
       "      <td>0.000</td>\n",
       "      <td>1.000</td>\n",
       "      <td>0.000</td>\n",
       "    </tr>\n",
       "    <tr>\n",
       "      <th>332</th>\n",
       "      <td>-0.072179</td>\n",
       "      <td>-0.070221</td>\n",
       "      <td>0.143</td>\n",
       "      <td>0.857</td>\n",
       "      <td>0.000</td>\n",
       "    </tr>\n",
       "    <tr>\n",
       "      <th>208</th>\n",
       "      <td>-0.068481</td>\n",
       "      <td>-0.063767</td>\n",
       "      <td>0.000</td>\n",
       "      <td>0.828</td>\n",
       "      <td>0.172</td>\n",
       "    </tr>\n",
       "    <tr>\n",
       "      <th>613</th>\n",
       "      <td>0.260012</td>\n",
       "      <td>0.005661</td>\n",
       "      <td>0.000</td>\n",
       "      <td>0.818</td>\n",
       "      <td>0.182</td>\n",
       "    </tr>\n",
       "    <tr>\n",
       "      <th>78</th>\n",
       "      <td>-0.079780</td>\n",
       "      <td>-0.079864</td>\n",
       "      <td>0.000</td>\n",
       "      <td>1.000</td>\n",
       "      <td>0.000</td>\n",
       "    </tr>\n",
       "  </tbody>\n",
       "</table>\n",
       "<p>200 rows × 5 columns</p>\n",
       "</div>"
      ],
      "text/plain": [
       "         PCA1      PCA2    neg    neu    pos\n",
       "521 -0.079121 -0.104055  0.000  1.000  0.000\n",
       "737 -0.072384 -0.045353  0.000  1.000  0.000\n",
       "740  0.480644  0.102399  0.000  0.667  0.333\n",
       "660 -0.066343 -0.060302  0.000  1.000  0.000\n",
       "411 -0.115684  0.187768  0.000  1.000  0.000\n",
       "..        ...       ...    ...    ...    ...\n",
       "408 -0.109286  0.203030  0.000  1.000  0.000\n",
       "332 -0.072179 -0.070221  0.143  0.857  0.000\n",
       "208 -0.068481 -0.063767  0.000  0.828  0.172\n",
       "613  0.260012  0.005661  0.000  0.818  0.182\n",
       "78  -0.079780 -0.079864  0.000  1.000  0.000\n",
       "\n",
       "[200 rows x 5 columns]"
      ]
     },
     "execution_count": 9,
     "metadata": {},
     "output_type": "execute_result"
    }
   ],
   "source": [
    "X_test"
   ]
  },
  {
   "cell_type": "code",
   "execution_count": 10,
   "id": "bf7f9f79",
   "metadata": {},
   "outputs": [],
   "source": [
    "#X_test.to_csv(\"Regression_Test_Data.csv\")"
   ]
  },
  {
   "cell_type": "code",
   "execution_count": 11,
   "id": "0993194d",
   "metadata": {},
   "outputs": [
    {
     "data": {
      "text/html": [
       "<style>#sk-container-id-1 {color: black;}#sk-container-id-1 pre{padding: 0;}#sk-container-id-1 div.sk-toggleable {background-color: white;}#sk-container-id-1 label.sk-toggleable__label {cursor: pointer;display: block;width: 100%;margin-bottom: 0;padding: 0.3em;box-sizing: border-box;text-align: center;}#sk-container-id-1 label.sk-toggleable__label-arrow:before {content: \"▸\";float: left;margin-right: 0.25em;color: #696969;}#sk-container-id-1 label.sk-toggleable__label-arrow:hover:before {color: black;}#sk-container-id-1 div.sk-estimator:hover label.sk-toggleable__label-arrow:before {color: black;}#sk-container-id-1 div.sk-toggleable__content {max-height: 0;max-width: 0;overflow: hidden;text-align: left;background-color: #f0f8ff;}#sk-container-id-1 div.sk-toggleable__content pre {margin: 0.2em;color: black;border-radius: 0.25em;background-color: #f0f8ff;}#sk-container-id-1 input.sk-toggleable__control:checked~div.sk-toggleable__content {max-height: 200px;max-width: 100%;overflow: auto;}#sk-container-id-1 input.sk-toggleable__control:checked~label.sk-toggleable__label-arrow:before {content: \"▾\";}#sk-container-id-1 div.sk-estimator input.sk-toggleable__control:checked~label.sk-toggleable__label {background-color: #d4ebff;}#sk-container-id-1 div.sk-label input.sk-toggleable__control:checked~label.sk-toggleable__label {background-color: #d4ebff;}#sk-container-id-1 input.sk-hidden--visually {border: 0;clip: rect(1px 1px 1px 1px);clip: rect(1px, 1px, 1px, 1px);height: 1px;margin: -1px;overflow: hidden;padding: 0;position: absolute;width: 1px;}#sk-container-id-1 div.sk-estimator {font-family: monospace;background-color: #f0f8ff;border: 1px dotted black;border-radius: 0.25em;box-sizing: border-box;margin-bottom: 0.5em;}#sk-container-id-1 div.sk-estimator:hover {background-color: #d4ebff;}#sk-container-id-1 div.sk-parallel-item::after {content: \"\";width: 100%;border-bottom: 1px solid gray;flex-grow: 1;}#sk-container-id-1 div.sk-label:hover label.sk-toggleable__label {background-color: #d4ebff;}#sk-container-id-1 div.sk-serial::before {content: \"\";position: absolute;border-left: 1px solid gray;box-sizing: border-box;top: 0;bottom: 0;left: 50%;z-index: 0;}#sk-container-id-1 div.sk-serial {display: flex;flex-direction: column;align-items: center;background-color: white;padding-right: 0.2em;padding-left: 0.2em;position: relative;}#sk-container-id-1 div.sk-item {position: relative;z-index: 1;}#sk-container-id-1 div.sk-parallel {display: flex;align-items: stretch;justify-content: center;background-color: white;position: relative;}#sk-container-id-1 div.sk-item::before, #sk-container-id-1 div.sk-parallel-item::before {content: \"\";position: absolute;border-left: 1px solid gray;box-sizing: border-box;top: 0;bottom: 0;left: 50%;z-index: -1;}#sk-container-id-1 div.sk-parallel-item {display: flex;flex-direction: column;z-index: 1;position: relative;background-color: white;}#sk-container-id-1 div.sk-parallel-item:first-child::after {align-self: flex-end;width: 50%;}#sk-container-id-1 div.sk-parallel-item:last-child::after {align-self: flex-start;width: 50%;}#sk-container-id-1 div.sk-parallel-item:only-child::after {width: 0;}#sk-container-id-1 div.sk-dashed-wrapped {border: 1px dashed gray;margin: 0 0.4em 0.5em 0.4em;box-sizing: border-box;padding-bottom: 0.4em;background-color: white;}#sk-container-id-1 div.sk-label label {font-family: monospace;font-weight: bold;display: inline-block;line-height: 1.2em;}#sk-container-id-1 div.sk-label-container {text-align: center;}#sk-container-id-1 div.sk-container {/* jupyter's `normalize.less` sets `[hidden] { display: none; }` but bootstrap.min.css set `[hidden] { display: none !important; }` so we also need the `!important` here to be able to override the default hidden behavior on the sphinx rendered scikit-learn.org. See: https://github.com/scikit-learn/scikit-learn/issues/21755 */display: inline-block !important;position: relative;}#sk-container-id-1 div.sk-text-repr-fallback {display: none;}</style><div id=\"sk-container-id-1\" class=\"sk-top-container\"><div class=\"sk-text-repr-fallback\"><pre>LinearRegression()</pre><b>In a Jupyter environment, please rerun this cell to show the HTML representation or trust the notebook. <br />On GitHub, the HTML representation is unable to render, please try loading this page with nbviewer.org.</b></div><div class=\"sk-container\" hidden><div class=\"sk-item\"><div class=\"sk-estimator sk-toggleable\"><input class=\"sk-toggleable__control sk-hidden--visually\" id=\"sk-estimator-id-1\" type=\"checkbox\" checked><label for=\"sk-estimator-id-1\" class=\"sk-toggleable__label sk-toggleable__label-arrow\">LinearRegression</label><div class=\"sk-toggleable__content\"><pre>LinearRegression()</pre></div></div></div></div></div>"
      ],
      "text/plain": [
       "LinearRegression()"
      ]
     },
     "execution_count": 11,
     "metadata": {},
     "output_type": "execute_result"
    }
   ],
   "source": [
    "# Vectorize the text data\n",
    "mlr_model = LinearRegression()\n",
    "mlr_model.fit(X_train, y_train)"
   ]
  },
  {
   "cell_type": "code",
   "execution_count": 12,
   "id": "34e74473",
   "metadata": {},
   "outputs": [],
   "source": [
    "y_pred = mlr_model.predict(X_test)"
   ]
  },
  {
   "cell_type": "code",
   "execution_count": 13,
   "id": "1bcd0913",
   "metadata": {},
   "outputs": [],
   "source": [
    "# Evaluate the model\n",
    "mse = mean_squared_error(y_test, y_pred)\n",
    "r2 = r2_score(y_test, y_pred)"
   ]
  },
  {
   "cell_type": "code",
   "execution_count": 14,
   "id": "f866a4ee",
   "metadata": {},
   "outputs": [
    {
     "name": "stdout",
     "output_type": "stream",
     "text": [
      "R^2 Score: 74.05243926945293\n",
      "Mean Squared Error: 0.10233717952127762\n"
     ]
    }
   ],
   "source": [
    "print(\"R^2 Score:\", r2*100)\n",
    "print(\"Mean Squared Error:\", mse)"
   ]
  },
  {
   "cell_type": "code",
   "execution_count": 15,
   "id": "21d53969",
   "metadata": {},
   "outputs": [
    {
     "data": {
      "image/png": "[encoded data removed]",
      "text/plain": [
       "<Figure size 432x288 with 1 Axes>"
      ]
     },
     "metadata": {
      "needs_background": "light"
     },
     "output_type": "display_data"
    }
   ],
   "source": [
    "plt.scatter(y_test, y_pred)\n",
    "plt.plot([y_test.min(), y_test.max()], [y_test.min(), y_test.max()], 'k--', lw=2)  # Plot the diagonal line\n",
    "plt.xlabel('Actual')\n",
    "plt.ylabel('Predicted')\n",
    "plt.title('Actual vs. Predicted')\n",
    "plt.show()"
   ]
  },
  {
   "cell_type": "code",
   "execution_count": 16,
   "id": "ec589717",
   "metadata": {},
   "outputs": [
    {
     "data": {
      "image/png": "[encoded data removed]",
      "text/plain": [
       "<Figure size 432x288 with 1 Axes>"
      ]
     },
     "metadata": {
      "needs_background": "light"
     },
     "output_type": "display_data"
    }
   ],
   "source": [
    "residuals = y_test - y_pred\n",
    "plt.scatter(y_pred, residuals)\n",
    "plt.xlabel('Fitted')\n",
    "plt.ylabel('Residuals')\n",
    "plt.title('Residual vs Fitted Plot')\n",
    "plt.axhline(y=0, color='k', linestyle='--')  # Add horizontal line at y=0\n",
    "plt.show()"
   ]
  },
  {
   "cell_type": "code",
   "execution_count": 17,
   "id": "d53efacf",
   "metadata": {},
   "outputs": [
    {
     "data": {
      "image/png": "[encoded data removed]",
      "text/plain": [
       "<Figure size 432x288 with 1 Axes>"
      ]
     },
     "metadata": {
      "needs_background": "light"
     },
     "output_type": "display_data"
    }
   ],
   "source": [
    "sns.histplot(residuals, kde=True)\n",
    "plt.xlabel('Residuals')\n",
    "plt.ylabel('Frequency')\n",
    "plt.title('Distribution of Residuals')\n",
    "plt.show()"
   ]
  },
  {
   "cell_type": "code",
   "execution_count": 18,
   "id": "016e3f4f",
   "metadata": {},
   "outputs": [
    {
     "data": {
      "image/png": "[encoded data removed]",
      "text/plain": [
       "<Figure size 432x288 with 1 Axes>"
      ]
     },
     "metadata": {
      "needs_background": "light"
     },
     "output_type": "display_data"
    }
   ],
   "source": [
    "fig = sm.qqplot(residuals, line='45')\n",
    "\n",
    "# Add labels and title\n",
    "plt.xlabel('Theoretical Quantiles')\n",
    "plt.ylabel('Standardized Residuals')\n",
    "plt.title('Q-Q Plot')\n",
    "\n",
    "# Show plot\n",
    "plt.show()"
   ]
  },
  {
   "cell_type": "code",
   "execution_count": 22,
   "id": "169bbcce",
   "metadata": {},
   "outputs": [],
   "source": [
    "X_train = sm.add_constant(X_train)  # Add a constant term for the intercept\n",
    "model = sm.OLS(y_train, X_train)    # Create an Ordinary Least Squares (OLS) model\n",
    "result = model.fit()                # Fit the model to the training data"
   ]
  },
  {
   "cell_type": "code",
   "execution_count": 23,
   "id": "9e3ceeac",
   "metadata": {},
   "outputs": [
    {
     "name": "stdout",
     "output_type": "stream",
     "text": [
      "                            OLS Regression Results                            \n",
      "==============================================================================\n",
      "Dep. Variable:              Sentiment   R-squared:                       0.741\n",
      "Model:                            OLS   Adj. R-squared:                  0.740\n",
      "Method:                 Least Squares   F-statistic:                     454.9\n",
      "Date:                Sun, 05 May 2024   Prob (F-statistic):          3.08e-230\n",
      "Time:                        16:56:54   Log-Likelihood:                -279.39\n",
      "No. Observations:                 800   AIC:                             570.8\n",
      "Df Residuals:                     794   BIC:                             598.9\n",
      "Df Model:                           5                                         \n",
      "Covariance Type:            nonrobust                                         \n",
      "==============================================================================\n",
      "                 coef    std err          t      P>|t|      [0.025      0.975]\n",
      "------------------------------------------------------------------------------\n",
      "const       -416.4008    143.347     -2.905      0.004    -697.785    -135.016\n",
      "PCA1           0.7744      0.089      8.702      0.000       0.600       0.949\n",
      "PCA2           0.0201      0.128      0.157      0.875      -0.232       0.272\n",
      "neg          414.0759    143.363      2.888      0.004     132.660     695.491\n",
      "neu          416.5429    143.347      2.906      0.004     135.158     697.927\n",
      "pos          418.5790    143.350      2.920      0.004     137.190     699.968\n",
      "==============================================================================\n",
      "Omnibus:                       29.353   Durbin-Watson:                   2.138\n",
      "Prob(Omnibus):                  0.000   Jarque-Bera (JB):               75.804\n",
      "Skew:                          -0.044   Prob(JB):                     3.46e-17\n",
      "Kurtosis:                       4.505   Cond. No.                     3.08e+04\n",
      "==============================================================================\n",
      "\n",
      "Notes:\n",
      "[1] Standard Errors assume that the covariance matrix of the errors is correctly specified.\n",
      "[2] The condition number is large, 3.08e+04. This might indicate that there are\n",
      "strong multicollinearity or other numerical problems.\n"
     ]
    }
   ],
   "source": [
    "# Print the summary\n",
    "print(result.summary())"
   ]
  },
  {
   "cell_type": "code",
   "execution_count": null,
   "id": "fe17c377",
   "metadata": {},
   "outputs": [],
   "source": []
  }
 ],
 "metadata": {
  "kernelspec": {
   "display_name": "Python 3 (ipykernel)",
   "language": "python",
   "name": "python3"
  },
  "language_info": {
   "codemirror_mode": {
    "name": "ipython",
    "version": 3
   },
   "file_extension": ".py",
   "mimetype": "text/x-python",
   "name": "python",
   "nbconvert_exporter": "python",
   "pygments_lexer": "ipython3",
   "version": "3.9.12"
  }
 },
 "nbformat": 4,
 "nbformat_minor": 5
}
