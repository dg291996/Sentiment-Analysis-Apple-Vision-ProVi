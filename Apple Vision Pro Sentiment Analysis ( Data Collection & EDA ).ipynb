{
 "cells": [
  {
   "cell_type": "markdown",
   "id": "1efe8d17",
   "metadata": {},
   "source": [
    "# Apple Vision Pro Sentiment Analysis [ Data Extraction & EDA]"
   ]
  },
  {
   "cell_type": "code",
   "execution_count": 2,
   "id": "6255a3ff",
   "metadata": {},
   "outputs": [],
   "source": [
    "import praw\n",
    "import pandas as pd\n",
    "import numpy as np\n",
    "import re\n",
    "import string\n",
    "import nltk\n",
    "#nltk.download('stopwords')\n",
    "from nltk.tokenize import word_tokenize"
   ]
  },
  {
   "cell_type": "code",
   "execution_count": 3,
   "id": "583f3ba4",
   "metadata": {},
   "outputs": [],
   "source": [
    "#nltk.download('punkt')"
   ]
  },
  {
   "cell_type": "code",
   "execution_count": 4,
   "id": "498ff01a",
   "metadata": {},
   "outputs": [],
   "source": [
    "from nltk.corpus import stopwords\n",
    "from nltk.stem import WordNetLemmatizer"
   ]
  },
  {
   "cell_type": "code",
   "execution_count": 5,
   "id": "5255070f",
   "metadata": {},
   "outputs": [],
   "source": [
    "import seaborn as sns\n",
    "import matplotlib.pyplot as plt"
   ]
  },
  {
   "cell_type": "markdown",
   "id": "25e6c543",
   "metadata": {},
   "source": [
    "# Reddit API Call"
   ]
  },
  {
   "cell_type": "code",
   "execution_count": 6,
   "id": "6ff95e8c",
   "metadata": {},
   "outputs": [
    {
     "name": "stderr",
     "output_type": "stream",
     "text": [
      "C:\\Users\\Hp\\AppData\\Local\\Temp\\ipykernel_15336\\3920941595.py:34: FutureWarning: The frame.append method is deprecated and will be removed from pandas in a future version. Use pandas.concat instead.\n",
      "  reddit_data = reddit_data.append({\n",
      "C:\\Users\\Hp\\AppData\\Local\\Temp\\ipykernel_15336\\3920941595.py:34: FutureWarning: The frame.append method is deprecated and will be removed from pandas in a future version. Use pandas.concat instead.\n",
      "  reddit_data = reddit_data.append({\n",
      "C:\\Users\\Hp\\AppData\\Local\\Temp\\ipykernel_15336\\3920941595.py:34: FutureWarning: The frame.append method is deprecated and will be removed from pandas in a future version. Use pandas.concat instead.\n",
      "  reddit_data = reddit_data.append({\n",
      "C:\\Users\\Hp\\AppData\\Local\\Temp\\ipykernel_15336\\3920941595.py:34: FutureWarning: The frame.append method is deprecated and will be removed from pandas in a future version. Use pandas.concat instead.\n",
      "  reddit_data = reddit_data.append({\n",
      "C:\\Users\\Hp\\AppData\\Local\\Temp\\ipykernel_15336\\3920941595.py:34: FutureWarning: The frame.append method is deprecated and will be removed from pandas in a future version. Use pandas.concat instead.\n",
      "  reddit_data = reddit_data.append({\n",
      "C:\\Users\\Hp\\AppData\\Local\\Temp\\ipykernel_15336\\3920941595.py:34: FutureWarning: The frame.append method is deprecated and will be removed from pandas in a future version. Use pandas.concat instead.\n",
      "  reddit_data = reddit_data.append({\n",
      "C:\\Users\\Hp\\AppData\\Local\\Temp\\ipykernel_15336\\3920941595.py:34: FutureWarning: The frame.append method is deprecated and will be removed from pandas in a future version. Use pandas.concat instead.\n",
      "  reddit_data = reddit_data.append({\n",
      "C:\\Users\\Hp\\AppData\\Local\\Temp\\ipykernel_15336\\3920941595.py:34: FutureWarning: The frame.append method is deprecated and will be removed from pandas in a future version. Use pandas.concat instead.\n",
      "  reddit_data = reddit_data.append({\n",
      "C:\\Users\\Hp\\AppData\\Local\\Temp\\ipykernel_15336\\3920941595.py:34: FutureWarning: The frame.append method is deprecated and will be removed from pandas in a future version. Use pandas.concat instead.\n",
      "  reddit_data = reddit_data.append({\n",
      "C:\\Users\\Hp\\AppData\\Local\\Temp\\ipykernel_15336\\3920941595.py:34: FutureWarning: The frame.append method is deprecated and will be removed from pandas in a future version. Use pandas.concat instead.\n",
      "  reddit_data = reddit_data.append({\n",
      "C:\\Users\\Hp\\AppData\\Local\\Temp\\ipykernel_15336\\3920941595.py:34: FutureWarning: The frame.append method is deprecated and will be removed from pandas in a future version. Use pandas.concat instead.\n",
      "  reddit_data = reddit_data.append({\n",
      "C:\\Users\\Hp\\AppData\\Local\\Temp\\ipykernel_15336\\3920941595.py:34: FutureWarning: The frame.append method is deprecated and will be removed from pandas in a future version. Use pandas.concat instead.\n",
      "  reddit_data = reddit_data.append({\n",
      "C:\\Users\\Hp\\AppData\\Local\\Temp\\ipykernel_15336\\3920941595.py:34: FutureWarning: The frame.append method is deprecated and will be removed from pandas in a future version. Use pandas.concat instead.\n",
      "  reddit_data = reddit_data.append({\n",
      "C:\\Users\\Hp\\AppData\\Local\\Temp\\ipykernel_15336\\3920941595.py:34: FutureWarning: The frame.append method is deprecated and will be removed from pandas in a future version. Use pandas.concat instead.\n",
      "  reddit_data = reddit_data.append({\n",
      "C:\\Users\\Hp\\AppData\\Local\\Temp\\ipykernel_15336\\3920941595.py:34: FutureWarning: The frame.append method is deprecated and will be removed from pandas in a future version. Use pandas.concat instead.\n",
      "  reddit_data = reddit_data.append({\n",
      "C:\\Users\\Hp\\AppData\\Local\\Temp\\ipykernel_15336\\3920941595.py:34: FutureWarning: The frame.append method is deprecated and will be removed from pandas in a future version. Use pandas.concat instead.\n",
      "  reddit_data = reddit_data.append({\n",
      "C:\\Users\\Hp\\AppData\\Local\\Temp\\ipykernel_15336\\3920941595.py:34: FutureWarning: The frame.append method is deprecated and will be removed from pandas in a future version. Use pandas.concat instead.\n",
      "  reddit_data = reddit_data.append({\n",
      "C:\\Users\\Hp\\AppData\\Local\\Temp\\ipykernel_15336\\3920941595.py:34: FutureWarning: The frame.append method is deprecated and will be removed from pandas in a future version. Use pandas.concat instead.\n",
      "  reddit_data = reddit_data.append({\n",
      "C:\\Users\\Hp\\AppData\\Local\\Temp\\ipykernel_15336\\3920941595.py:34: FutureWarning: The frame.append method is deprecated and will be removed from pandas in a future version. Use pandas.concat instead.\n",
      "  reddit_data = reddit_data.append({\n",
      "C:\\Users\\Hp\\AppData\\Local\\Temp\\ipykernel_15336\\3920941595.py:34: FutureWarning: The frame.append method is deprecated and will be removed from pandas in a future version. Use pandas.concat instead.\n",
      "  reddit_data = reddit_data.append({\n",
      "C:\\Users\\Hp\\AppData\\Local\\Temp\\ipykernel_15336\\3920941595.py:34: FutureWarning: The frame.append method is deprecated and will be removed from pandas in a future version. Use pandas.concat instead.\n",
      "  reddit_data = reddit_data.append({\n",
      "C:\\Users\\Hp\\AppData\\Local\\Temp\\ipykernel_15336\\3920941595.py:34: FutureWarning: The frame.append method is deprecated and will be removed from pandas in a future version. Use pandas.concat instead.\n",
      "  reddit_data = reddit_data.append({\n",
      "C:\\Users\\Hp\\AppData\\Local\\Temp\\ipykernel_15336\\3920941595.py:34: FutureWarning: The frame.append method is deprecated and will be removed from pandas in a future version. Use pandas.concat instead.\n",
      "  reddit_data = reddit_data.append({\n",
      "C:\\Users\\Hp\\AppData\\Local\\Temp\\ipykernel_15336\\3920941595.py:34: FutureWarning: The frame.append method is deprecated and will be removed from pandas in a future version. Use pandas.concat instead.\n",
      "  reddit_data = reddit_data.append({\n",
      "C:\\Users\\Hp\\AppData\\Local\\Temp\\ipykernel_15336\\3920941595.py:34: FutureWarning: The frame.append method is deprecated and will be removed from pandas in a future version. Use pandas.concat instead.\n",
      "  reddit_data = reddit_data.append({\n",
      "C:\\Users\\Hp\\AppData\\Local\\Temp\\ipykernel_15336\\3920941595.py:34: FutureWarning: The frame.append method is deprecated and will be removed from pandas in a future version. Use pandas.concat instead.\n",
      "  reddit_data = reddit_data.append({\n",
      "C:\\Users\\Hp\\AppData\\Local\\Temp\\ipykernel_15336\\3920941595.py:34: FutureWarning: The frame.append method is deprecated and will be removed from pandas in a future version. Use pandas.concat instead.\n",
      "  reddit_data = reddit_data.append({\n",
      "C:\\Users\\Hp\\AppData\\Local\\Temp\\ipykernel_15336\\3920941595.py:34: FutureWarning: The frame.append method is deprecated and will be removed from pandas in a future version. Use pandas.concat instead.\n",
      "  reddit_data = reddit_data.append({\n",
      "C:\\Users\\Hp\\AppData\\Local\\Temp\\ipykernel_15336\\3920941595.py:34: FutureWarning: The frame.append method is deprecated and will be removed from pandas in a future version. Use pandas.concat instead.\n",
      "  reddit_data = reddit_data.append({\n",
      "C:\\Users\\Hp\\AppData\\Local\\Temp\\ipykernel_15336\\3920941595.py:34: FutureWarning: The frame.append method is deprecated and will be removed from pandas in a future version. Use pandas.concat instead.\n",
      "  reddit_data = reddit_data.append({\n",
      "C:\\Users\\Hp\\AppData\\Local\\Temp\\ipykernel_15336\\3920941595.py:34: FutureWarning: The frame.append method is deprecated and will be removed from pandas in a future version. Use pandas.concat instead.\n",
      "  reddit_data = reddit_data.append({\n",
      "C:\\Users\\Hp\\AppData\\Local\\Temp\\ipykernel_15336\\3920941595.py:34: FutureWarning: The frame.append method is deprecated and will be removed from pandas in a future version. Use pandas.concat instead.\n",
      "  reddit_data = reddit_data.append({\n",
      "C:\\Users\\Hp\\AppData\\Local\\Temp\\ipykernel_15336\\3920941595.py:34: FutureWarning: The frame.append method is deprecated and will be removed from pandas in a future version. Use pandas.concat instead.\n",
      "  reddit_data = reddit_data.append({\n",
      "C:\\Users\\Hp\\AppData\\Local\\Temp\\ipykernel_15336\\3920941595.py:34: FutureWarning: The frame.append method is deprecated and will be removed from pandas in a future version. Use pandas.concat instead.\n",
      "  reddit_data = reddit_data.append({\n",
      "C:\\Users\\Hp\\AppData\\Local\\Temp\\ipykernel_15336\\3920941595.py:34: FutureWarning: The frame.append method is deprecated and will be removed from pandas in a future version. Use pandas.concat instead.\n",
      "  reddit_data = reddit_data.append({\n",
      "C:\\Users\\Hp\\AppData\\Local\\Temp\\ipykernel_15336\\3920941595.py:34: FutureWarning: The frame.append method is deprecated and will be removed from pandas in a future version. Use pandas.concat instead.\n",
      "  reddit_data = reddit_data.append({\n",
      "C:\\Users\\Hp\\AppData\\Local\\Temp\\ipykernel_15336\\3920941595.py:34: FutureWarning: The frame.append method is deprecated and will be removed from pandas in a future version. Use pandas.concat instead.\n",
      "  reddit_data = reddit_data.append({\n",
      "C:\\Users\\Hp\\AppData\\Local\\Temp\\ipykernel_15336\\3920941595.py:34: FutureWarning: The frame.append method is deprecated and will be removed from pandas in a future version. Use pandas.concat instead.\n",
      "  reddit_data = reddit_data.append({\n",
      "C:\\Users\\Hp\\AppData\\Local\\Temp\\ipykernel_15336\\3920941595.py:34: FutureWarning: The frame.append method is deprecated and will be removed from pandas in a future version. Use pandas.concat instead.\n",
      "  reddit_data = reddit_data.append({\n",
      "C:\\Users\\Hp\\AppData\\Local\\Temp\\ipykernel_15336\\3920941595.py:34: FutureWarning: The frame.append method is deprecated and will be removed from pandas in a future version. Use pandas.concat instead.\n",
      "  reddit_data = reddit_data.append({\n",
      "C:\\Users\\Hp\\AppData\\Local\\Temp\\ipykernel_15336\\3920941595.py:34: FutureWarning: The frame.append method is deprecated and will be removed from pandas in a future version. Use pandas.concat instead.\n",
      "  reddit_data = reddit_data.append({\n",
      "C:\\Users\\Hp\\AppData\\Local\\Temp\\ipykernel_15336\\3920941595.py:34: FutureWarning: The frame.append method is deprecated and will be removed from pandas in a future version. Use pandas.concat instead.\n",
      "  reddit_data = reddit_data.append({\n",
      "C:\\Users\\Hp\\AppData\\Local\\Temp\\ipykernel_15336\\3920941595.py:34: FutureWarning: The frame.append method is deprecated and will be removed from pandas in a future version. Use pandas.concat instead.\n",
      "  reddit_data = reddit_data.append({\n"
     ]
    },
    {
     "name": "stderr",
     "output_type": "stream",
     "text": [
      "C:\\Users\\Hp\\AppData\\Local\\Temp\\ipykernel_15336\\3920941595.py:34: FutureWarning: The frame.append method is deprecated and will be removed from pandas in a future version. Use pandas.concat instead.\n",
      "  reddit_data = reddit_data.append({\n",
      "C:\\Users\\Hp\\AppData\\Local\\Temp\\ipykernel_15336\\3920941595.py:34: FutureWarning: The frame.append method is deprecated and will be removed from pandas in a future version. Use pandas.concat instead.\n",
      "  reddit_data = reddit_data.append({\n",
      "C:\\Users\\Hp\\AppData\\Local\\Temp\\ipykernel_15336\\3920941595.py:34: FutureWarning: The frame.append method is deprecated and will be removed from pandas in a future version. Use pandas.concat instead.\n",
      "  reddit_data = reddit_data.append({\n",
      "C:\\Users\\Hp\\AppData\\Local\\Temp\\ipykernel_15336\\3920941595.py:34: FutureWarning: The frame.append method is deprecated and will be removed from pandas in a future version. Use pandas.concat instead.\n",
      "  reddit_data = reddit_data.append({\n",
      "C:\\Users\\Hp\\AppData\\Local\\Temp\\ipykernel_15336\\3920941595.py:34: FutureWarning: The frame.append method is deprecated and will be removed from pandas in a future version. Use pandas.concat instead.\n",
      "  reddit_data = reddit_data.append({\n",
      "C:\\Users\\Hp\\AppData\\Local\\Temp\\ipykernel_15336\\3920941595.py:34: FutureWarning: The frame.append method is deprecated and will be removed from pandas in a future version. Use pandas.concat instead.\n",
      "  reddit_data = reddit_data.append({\n",
      "C:\\Users\\Hp\\AppData\\Local\\Temp\\ipykernel_15336\\3920941595.py:34: FutureWarning: The frame.append method is deprecated and will be removed from pandas in a future version. Use pandas.concat instead.\n",
      "  reddit_data = reddit_data.append({\n",
      "C:\\Users\\Hp\\AppData\\Local\\Temp\\ipykernel_15336\\3920941595.py:34: FutureWarning: The frame.append method is deprecated and will be removed from pandas in a future version. Use pandas.concat instead.\n",
      "  reddit_data = reddit_data.append({\n",
      "C:\\Users\\Hp\\AppData\\Local\\Temp\\ipykernel_15336\\3920941595.py:34: FutureWarning: The frame.append method is deprecated and will be removed from pandas in a future version. Use pandas.concat instead.\n",
      "  reddit_data = reddit_data.append({\n",
      "C:\\Users\\Hp\\AppData\\Local\\Temp\\ipykernel_15336\\3920941595.py:34: FutureWarning: The frame.append method is deprecated and will be removed from pandas in a future version. Use pandas.concat instead.\n",
      "  reddit_data = reddit_data.append({\n",
      "C:\\Users\\Hp\\AppData\\Local\\Temp\\ipykernel_15336\\3920941595.py:34: FutureWarning: The frame.append method is deprecated and will be removed from pandas in a future version. Use pandas.concat instead.\n",
      "  reddit_data = reddit_data.append({\n",
      "C:\\Users\\Hp\\AppData\\Local\\Temp\\ipykernel_15336\\3920941595.py:34: FutureWarning: The frame.append method is deprecated and will be removed from pandas in a future version. Use pandas.concat instead.\n",
      "  reddit_data = reddit_data.append({\n",
      "C:\\Users\\Hp\\AppData\\Local\\Temp\\ipykernel_15336\\3920941595.py:34: FutureWarning: The frame.append method is deprecated and will be removed from pandas in a future version. Use pandas.concat instead.\n",
      "  reddit_data = reddit_data.append({\n",
      "C:\\Users\\Hp\\AppData\\Local\\Temp\\ipykernel_15336\\3920941595.py:34: FutureWarning: The frame.append method is deprecated and will be removed from pandas in a future version. Use pandas.concat instead.\n",
      "  reddit_data = reddit_data.append({\n",
      "C:\\Users\\Hp\\AppData\\Local\\Temp\\ipykernel_15336\\3920941595.py:34: FutureWarning: The frame.append method is deprecated and will be removed from pandas in a future version. Use pandas.concat instead.\n",
      "  reddit_data = reddit_data.append({\n",
      "C:\\Users\\Hp\\AppData\\Local\\Temp\\ipykernel_15336\\3920941595.py:34: FutureWarning: The frame.append method is deprecated and will be removed from pandas in a future version. Use pandas.concat instead.\n",
      "  reddit_data = reddit_data.append({\n",
      "C:\\Users\\Hp\\AppData\\Local\\Temp\\ipykernel_15336\\3920941595.py:34: FutureWarning: The frame.append method is deprecated and will be removed from pandas in a future version. Use pandas.concat instead.\n",
      "  reddit_data = reddit_data.append({\n"
     ]
    }
   ],
   "source": [
    "client_id = 'TKGen0R23aOTyBPdhx8WAw'\n",
    "client_secret = '989soce2TfekvkQiSQbPQhJ9a529hQ'\n",
    "user_agent = 'my_app'\n",
    "\n",
    "# Create Reddit instance\n",
    "reddit = praw.Reddit(\n",
    "    client_id=client_id,\n",
    "    client_secret=client_secret,\n",
    "    user_agent=user_agent\n",
    ")\n",
    "\n",
    "# Subreddit to fetch data from\n",
    "subreddit_name = \"AppleVisionPro\"\n",
    "subreddit = reddit.subreddit(subreddit_name)\n",
    "\n",
    "# Number of top posts to retrieve\n",
    "post_limit = 60\n",
    "\n",
    "# Create an empty DataFrame\n",
    "reddit_data = pd.DataFrame(columns=['Title', 'Author', 'ID', 'Created'])\n",
    "\n",
    "# Retrieve top posts\n",
    "top_posts = subreddit.top(limit=post_limit)\n",
    "\n",
    "# Iterate through top posts\n",
    "for post in top_posts:\n",
    "    # Extract post title\n",
    "    post_title = post.title\n",
    "\n",
    "    # Extract post author\n",
    "    post_author = post.author.name if post.author else None\n",
    "\n",
    "    # Add data to DataFrame\n",
    "    reddit_data = reddit_data.append({\n",
    "        'Title': post_title,\n",
    "        'Author': post_author,\n",
    "        'ID': post.id,\n",
    "        'Created': pd.to_datetime(post.created_utc, unit='s')\n",
    "    }, ignore_index=True)"
   ]
  },
  {
   "cell_type": "code",
   "execution_count": 7,
   "id": "2bd019c0",
   "metadata": {},
   "outputs": [
    {
     "data": {
      "text/html": [
       "<div>\n",
       "<style scoped>\n",
       "    .dataframe tbody tr th:only-of-type {\n",
       "        vertical-align: middle;\n",
       "    }\n",
       "\n",
       "    .dataframe tbody tr th {\n",
       "        vertical-align: top;\n",
       "    }\n",
       "\n",
       "    .dataframe thead th {\n",
       "        text-align: right;\n",
       "    }\n",
       "</style>\n",
       "<table border=\"1\" class=\"dataframe\">\n",
       "  <thead>\n",
       "    <tr style=\"text-align: right;\">\n",
       "      <th></th>\n",
       "      <th>Title</th>\n",
       "      <th>Author</th>\n",
       "      <th>ID</th>\n",
       "      <th>Created</th>\n",
       "    </tr>\n",
       "  </thead>\n",
       "  <tbody>\n",
       "    <tr>\n",
       "      <th>0</th>\n",
       "      <td>It’s too expensive. No regrets.</td>\n",
       "      <td>McNerdsAlot</td>\n",
       "      <td>1akdyzo</td>\n",
       "      <td>2024-02-06 16:35:52</td>\n",
       "    </tr>\n",
       "    <tr>\n",
       "      <th>1</th>\n",
       "      <td>Absolutely Magical... No Other Words For It</td>\n",
       "      <td>thomaspripley</td>\n",
       "      <td>1ahmtcu</td>\n",
       "      <td>2024-02-03 03:46:26</td>\n",
       "    </tr>\n",
       "    <tr>\n",
       "      <th>2</th>\n",
       "      <td>I was REALLY wrong about the AVP. This is the ...</td>\n",
       "      <td>AppleBottmBeans</td>\n",
       "      <td>1amtycf</td>\n",
       "      <td>2024-02-09 17:45:25</td>\n",
       "    </tr>\n",
       "    <tr>\n",
       "      <th>3</th>\n",
       "      <td>Best new product I’ve ever seen</td>\n",
       "      <td>Sea_Astronomer_994</td>\n",
       "      <td>1am800c</td>\n",
       "      <td>2024-02-08 22:19:35</td>\n",
       "    </tr>\n",
       "    <tr>\n",
       "      <th>4</th>\n",
       "      <td>You know what I mean</td>\n",
       "      <td>the_DDDom</td>\n",
       "      <td>141q6pm</td>\n",
       "      <td>2023-06-05 20:09:32</td>\n",
       "    </tr>\n",
       "  </tbody>\n",
       "</table>\n",
       "</div>"
      ],
      "text/plain": [
       "                                               Title              Author  \\\n",
       "0                    It’s too expensive. No regrets.         McNerdsAlot   \n",
       "1        Absolutely Magical... No Other Words For It       thomaspripley   \n",
       "2  I was REALLY wrong about the AVP. This is the ...     AppleBottmBeans   \n",
       "3                    Best new product I’ve ever seen  Sea_Astronomer_994   \n",
       "4                               You know what I mean           the_DDDom   \n",
       "\n",
       "        ID              Created  \n",
       "0  1akdyzo  2024-02-06 16:35:52  \n",
       "1  1ahmtcu  2024-02-03 03:46:26  \n",
       "2  1amtycf  2024-02-09 17:45:25  \n",
       "3  1am800c  2024-02-08 22:19:35  \n",
       "4  141q6pm  2023-06-05 20:09:32  "
      ]
     },
     "execution_count": 7,
     "metadata": {},
     "output_type": "execute_result"
    }
   ],
   "source": [
    "reddit_data.head()"
   ]
  },
  {
   "cell_type": "code",
   "execution_count": 8,
   "id": "09bbbe47",
   "metadata": {},
   "outputs": [
    {
     "data": {
      "text/plain": [
       "60"
      ]
     },
     "execution_count": 8,
     "metadata": {},
     "output_type": "execute_result"
    }
   ],
   "source": [
    "len(reddit_data)"
   ]
  },
  {
   "cell_type": "code",
   "execution_count": 9,
   "id": "4e6ad946",
   "metadata": {},
   "outputs": [
    {
     "data": {
      "text/html": [
       "<div>\n",
       "<style scoped>\n",
       "    .dataframe tbody tr th:only-of-type {\n",
       "        vertical-align: middle;\n",
       "    }\n",
       "\n",
       "    .dataframe tbody tr th {\n",
       "        vertical-align: top;\n",
       "    }\n",
       "\n",
       "    .dataframe thead th {\n",
       "        text-align: right;\n",
       "    }\n",
       "</style>\n",
       "<table border=\"1\" class=\"dataframe\">\n",
       "  <thead>\n",
       "    <tr style=\"text-align: right;\">\n",
       "      <th></th>\n",
       "      <th>Title</th>\n",
       "      <th>Author</th>\n",
       "      <th>ID</th>\n",
       "      <th>Created</th>\n",
       "    </tr>\n",
       "  </thead>\n",
       "  <tbody>\n",
       "    <tr>\n",
       "      <th>55</th>\n",
       "      <td>Vision Pro blurriness (kind of) explained</td>\n",
       "      <td>forcetrainer</td>\n",
       "      <td>1ainmo1</td>\n",
       "      <td>2024-02-04 13:14:35</td>\n",
       "    </tr>\n",
       "    <tr>\n",
       "      <th>56</th>\n",
       "      <td>I’m glad AVP exists, but I’m returning it</td>\n",
       "      <td>chaospet</td>\n",
       "      <td>1ahyisd</td>\n",
       "      <td>2024-02-03 15:25:24</td>\n",
       "    </tr>\n",
       "    <tr>\n",
       "      <th>57</th>\n",
       "      <td>Pros and Cons Quick Take</td>\n",
       "      <td>TechGuy4747</td>\n",
       "      <td>1ahkh96</td>\n",
       "      <td>2024-02-03 01:45:30</td>\n",
       "    </tr>\n",
       "    <tr>\n",
       "      <th>58</th>\n",
       "      <td>OMG!!! What an incredible experience so far fo...</td>\n",
       "      <td>cr8tvt</td>\n",
       "      <td>1ahious</td>\n",
       "      <td>2024-02-03 00:17:20</td>\n",
       "    </tr>\n",
       "    <tr>\n",
       "      <th>59</th>\n",
       "      <td>Reviewers holding back ?</td>\n",
       "      <td>Slight-Alarm-349</td>\n",
       "      <td>1agm3i4</td>\n",
       "      <td>2024-02-01 21:25:17</td>\n",
       "    </tr>\n",
       "  </tbody>\n",
       "</table>\n",
       "</div>"
      ],
      "text/plain": [
       "                                                Title            Author  \\\n",
       "55          Vision Pro blurriness (kind of) explained      forcetrainer   \n",
       "56          I’m glad AVP exists, but I’m returning it          chaospet   \n",
       "57                           Pros and Cons Quick Take       TechGuy4747   \n",
       "58  OMG!!! What an incredible experience so far fo...            cr8tvt   \n",
       "59                           Reviewers holding back ?  Slight-Alarm-349   \n",
       "\n",
       "         ID              Created  \n",
       "55  1ainmo1  2024-02-04 13:14:35  \n",
       "56  1ahyisd  2024-02-03 15:25:24  \n",
       "57  1ahkh96  2024-02-03 01:45:30  \n",
       "58  1ahious  2024-02-03 00:17:20  \n",
       "59  1agm3i4  2024-02-01 21:25:17  "
      ]
     },
     "execution_count": 9,
     "metadata": {},
     "output_type": "execute_result"
    }
   ],
   "source": [
    "reddit_data.tail()"
   ]
  },
  {
   "cell_type": "code",
   "execution_count": 10,
   "id": "ef67f21e",
   "metadata": {},
   "outputs": [
    {
     "data": {
      "text/plain": [
       "dtype('O')"
      ]
     },
     "execution_count": 10,
     "metadata": {},
     "output_type": "execute_result"
    }
   ],
   "source": [
    "reddit_data['Title'].dtype"
   ]
  },
  {
   "cell_type": "code",
   "execution_count": 11,
   "id": "fafea5eb",
   "metadata": {},
   "outputs": [],
   "source": [
    "reddit_data['Original_Title'] = reddit_data['Title']"
   ]
  },
  {
   "cell_type": "markdown",
   "id": "36152df0",
   "metadata": {},
   "source": [
    "# Lower Case"
   ]
  },
  {
   "cell_type": "code",
   "execution_count": 12,
   "id": "5dbe6efa",
   "metadata": {},
   "outputs": [],
   "source": [
    "reddit_data['Title'] = reddit_data['Title'].str.lower()"
   ]
  },
  {
   "cell_type": "code",
   "execution_count": 13,
   "id": "e9e7e69e",
   "metadata": {},
   "outputs": [
    {
     "data": {
      "text/html": [
       "<div>\n",
       "<style scoped>\n",
       "    .dataframe tbody tr th:only-of-type {\n",
       "        vertical-align: middle;\n",
       "    }\n",
       "\n",
       "    .dataframe tbody tr th {\n",
       "        vertical-align: top;\n",
       "    }\n",
       "\n",
       "    .dataframe thead th {\n",
       "        text-align: right;\n",
       "    }\n",
       "</style>\n",
       "<table border=\"1\" class=\"dataframe\">\n",
       "  <thead>\n",
       "    <tr style=\"text-align: right;\">\n",
       "      <th></th>\n",
       "      <th>Title</th>\n",
       "      <th>Author</th>\n",
       "      <th>ID</th>\n",
       "      <th>Created</th>\n",
       "      <th>Original_Title</th>\n",
       "    </tr>\n",
       "  </thead>\n",
       "  <tbody>\n",
       "    <tr>\n",
       "      <th>0</th>\n",
       "      <td>it’s too expensive. no regrets.</td>\n",
       "      <td>McNerdsAlot</td>\n",
       "      <td>1akdyzo</td>\n",
       "      <td>2024-02-06 16:35:52</td>\n",
       "      <td>It’s too expensive. No regrets.</td>\n",
       "    </tr>\n",
       "    <tr>\n",
       "      <th>1</th>\n",
       "      <td>absolutely magical... no other words for it</td>\n",
       "      <td>thomaspripley</td>\n",
       "      <td>1ahmtcu</td>\n",
       "      <td>2024-02-03 03:46:26</td>\n",
       "      <td>Absolutely Magical... No Other Words For It</td>\n",
       "    </tr>\n",
       "    <tr>\n",
       "      <th>2</th>\n",
       "      <td>i was really wrong about the avp. this is the ...</td>\n",
       "      <td>AppleBottmBeans</td>\n",
       "      <td>1amtycf</td>\n",
       "      <td>2024-02-09 17:45:25</td>\n",
       "      <td>I was REALLY wrong about the AVP. This is the ...</td>\n",
       "    </tr>\n",
       "    <tr>\n",
       "      <th>3</th>\n",
       "      <td>best new product i’ve ever seen</td>\n",
       "      <td>Sea_Astronomer_994</td>\n",
       "      <td>1am800c</td>\n",
       "      <td>2024-02-08 22:19:35</td>\n",
       "      <td>Best new product I’ve ever seen</td>\n",
       "    </tr>\n",
       "    <tr>\n",
       "      <th>4</th>\n",
       "      <td>you know what i mean</td>\n",
       "      <td>the_DDDom</td>\n",
       "      <td>141q6pm</td>\n",
       "      <td>2023-06-05 20:09:32</td>\n",
       "      <td>You know what I mean</td>\n",
       "    </tr>\n",
       "  </tbody>\n",
       "</table>\n",
       "</div>"
      ],
      "text/plain": [
       "                                               Title              Author  \\\n",
       "0                    it’s too expensive. no regrets.         McNerdsAlot   \n",
       "1        absolutely magical... no other words for it       thomaspripley   \n",
       "2  i was really wrong about the avp. this is the ...     AppleBottmBeans   \n",
       "3                    best new product i’ve ever seen  Sea_Astronomer_994   \n",
       "4                               you know what i mean           the_DDDom   \n",
       "\n",
       "        ID              Created  \\\n",
       "0  1akdyzo  2024-02-06 16:35:52   \n",
       "1  1ahmtcu  2024-02-03 03:46:26   \n",
       "2  1amtycf  2024-02-09 17:45:25   \n",
       "3  1am800c  2024-02-08 22:19:35   \n",
       "4  141q6pm  2023-06-05 20:09:32   \n",
       "\n",
       "                                      Original_Title  \n",
       "0                    It’s too expensive. No regrets.  \n",
       "1        Absolutely Magical... No Other Words For It  \n",
       "2  I was REALLY wrong about the AVP. This is the ...  \n",
       "3                    Best new product I’ve ever seen  \n",
       "4                               You know what I mean  "
      ]
     },
     "execution_count": 13,
     "metadata": {},
     "output_type": "execute_result"
    }
   ],
   "source": [
    "reddit_data.head()"
   ]
  },
  {
   "cell_type": "markdown",
   "id": "09d084ee",
   "metadata": {},
   "source": [
    "# Remove Digits & Special Characters"
   ]
  },
  {
   "cell_type": "code",
   "execution_count": 14,
   "id": "df6062d0",
   "metadata": {},
   "outputs": [],
   "source": [
    "def remove_special_chars_and_numbers(s):\n",
    "    return re.sub('[^A-Za-z\\s]', '', str(s))"
   ]
  },
  {
   "cell_type": "code",
   "execution_count": 15,
   "id": "cd69e8f9",
   "metadata": {},
   "outputs": [],
   "source": [
    "reddit_data['Title'] = reddit_data['Title'].apply(lambda x: remove_special_chars_and_numbers(str(x)))"
   ]
  },
  {
   "cell_type": "code",
   "execution_count": 16,
   "id": "38f4bff1",
   "metadata": {},
   "outputs": [
    {
     "data": {
      "text/html": [
       "<div>\n",
       "<style scoped>\n",
       "    .dataframe tbody tr th:only-of-type {\n",
       "        vertical-align: middle;\n",
       "    }\n",
       "\n",
       "    .dataframe tbody tr th {\n",
       "        vertical-align: top;\n",
       "    }\n",
       "\n",
       "    .dataframe thead th {\n",
       "        text-align: right;\n",
       "    }\n",
       "</style>\n",
       "<table border=\"1\" class=\"dataframe\">\n",
       "  <thead>\n",
       "    <tr style=\"text-align: right;\">\n",
       "      <th></th>\n",
       "      <th>Title</th>\n",
       "      <th>Author</th>\n",
       "      <th>ID</th>\n",
       "      <th>Created</th>\n",
       "      <th>Original_Title</th>\n",
       "    </tr>\n",
       "  </thead>\n",
       "  <tbody>\n",
       "    <tr>\n",
       "      <th>0</th>\n",
       "      <td>its too expensive no regrets</td>\n",
       "      <td>McNerdsAlot</td>\n",
       "      <td>1akdyzo</td>\n",
       "      <td>2024-02-06 16:35:52</td>\n",
       "      <td>It’s too expensive. No regrets.</td>\n",
       "    </tr>\n",
       "    <tr>\n",
       "      <th>1</th>\n",
       "      <td>absolutely magical no other words for it</td>\n",
       "      <td>thomaspripley</td>\n",
       "      <td>1ahmtcu</td>\n",
       "      <td>2024-02-03 03:46:26</td>\n",
       "      <td>Absolutely Magical... No Other Words For It</td>\n",
       "    </tr>\n",
       "    <tr>\n",
       "      <th>2</th>\n",
       "      <td>i was really wrong about the avp this is the m...</td>\n",
       "      <td>AppleBottmBeans</td>\n",
       "      <td>1amtycf</td>\n",
       "      <td>2024-02-09 17:45:25</td>\n",
       "      <td>I was REALLY wrong about the AVP. This is the ...</td>\n",
       "    </tr>\n",
       "    <tr>\n",
       "      <th>3</th>\n",
       "      <td>best new product ive ever seen</td>\n",
       "      <td>Sea_Astronomer_994</td>\n",
       "      <td>1am800c</td>\n",
       "      <td>2024-02-08 22:19:35</td>\n",
       "      <td>Best new product I’ve ever seen</td>\n",
       "    </tr>\n",
       "    <tr>\n",
       "      <th>4</th>\n",
       "      <td>you know what i mean</td>\n",
       "      <td>the_DDDom</td>\n",
       "      <td>141q6pm</td>\n",
       "      <td>2023-06-05 20:09:32</td>\n",
       "      <td>You know what I mean</td>\n",
       "    </tr>\n",
       "  </tbody>\n",
       "</table>\n",
       "</div>"
      ],
      "text/plain": [
       "                                               Title              Author  \\\n",
       "0                       its too expensive no regrets         McNerdsAlot   \n",
       "1           absolutely magical no other words for it       thomaspripley   \n",
       "2  i was really wrong about the avp this is the m...     AppleBottmBeans   \n",
       "3                     best new product ive ever seen  Sea_Astronomer_994   \n",
       "4                               you know what i mean           the_DDDom   \n",
       "\n",
       "        ID              Created  \\\n",
       "0  1akdyzo  2024-02-06 16:35:52   \n",
       "1  1ahmtcu  2024-02-03 03:46:26   \n",
       "2  1amtycf  2024-02-09 17:45:25   \n",
       "3  1am800c  2024-02-08 22:19:35   \n",
       "4  141q6pm  2023-06-05 20:09:32   \n",
       "\n",
       "                                      Original_Title  \n",
       "0                    It’s too expensive. No regrets.  \n",
       "1        Absolutely Magical... No Other Words For It  \n",
       "2  I was REALLY wrong about the AVP. This is the ...  \n",
       "3                    Best new product I’ve ever seen  \n",
       "4                               You know what I mean  "
      ]
     },
     "execution_count": 16,
     "metadata": {},
     "output_type": "execute_result"
    }
   ],
   "source": [
    "reddit_data.head()"
   ]
  },
  {
   "cell_type": "markdown",
   "id": "d4615cb5",
   "metadata": {},
   "source": [
    "# Text Tokenization"
   ]
  },
  {
   "cell_type": "code",
   "execution_count": 17,
   "id": "79a44272",
   "metadata": {},
   "outputs": [],
   "source": [
    "def tokenize_text(text):\n",
    "    return word_tokenize(text)"
   ]
  },
  {
   "cell_type": "code",
   "execution_count": 18,
   "id": "a4c365df",
   "metadata": {},
   "outputs": [],
   "source": [
    "reddit_data['Title'] = reddit_data['Title'].apply(lambda x: tokenize_text(x))"
   ]
  },
  {
   "cell_type": "code",
   "execution_count": 19,
   "id": "6e642b50",
   "metadata": {},
   "outputs": [
    {
     "data": {
      "text/html": [
       "<div>\n",
       "<style scoped>\n",
       "    .dataframe tbody tr th:only-of-type {\n",
       "        vertical-align: middle;\n",
       "    }\n",
       "\n",
       "    .dataframe tbody tr th {\n",
       "        vertical-align: top;\n",
       "    }\n",
       "\n",
       "    .dataframe thead th {\n",
       "        text-align: right;\n",
       "    }\n",
       "</style>\n",
       "<table border=\"1\" class=\"dataframe\">\n",
       "  <thead>\n",
       "    <tr style=\"text-align: right;\">\n",
       "      <th></th>\n",
       "      <th>Title</th>\n",
       "      <th>Author</th>\n",
       "      <th>ID</th>\n",
       "      <th>Created</th>\n",
       "      <th>Original_Title</th>\n",
       "    </tr>\n",
       "  </thead>\n",
       "  <tbody>\n",
       "    <tr>\n",
       "      <th>0</th>\n",
       "      <td>[its, too, expensive, no, regrets]</td>\n",
       "      <td>McNerdsAlot</td>\n",
       "      <td>1akdyzo</td>\n",
       "      <td>2024-02-06 16:35:52</td>\n",
       "      <td>It’s too expensive. No regrets.</td>\n",
       "    </tr>\n",
       "    <tr>\n",
       "      <th>1</th>\n",
       "      <td>[absolutely, magical, no, other, words, for, it]</td>\n",
       "      <td>thomaspripley</td>\n",
       "      <td>1ahmtcu</td>\n",
       "      <td>2024-02-03 03:46:26</td>\n",
       "      <td>Absolutely Magical... No Other Words For It</td>\n",
       "    </tr>\n",
       "    <tr>\n",
       "      <th>2</th>\n",
       "      <td>[i, was, really, wrong, about, the, avp, this,...</td>\n",
       "      <td>AppleBottmBeans</td>\n",
       "      <td>1amtycf</td>\n",
       "      <td>2024-02-09 17:45:25</td>\n",
       "      <td>I was REALLY wrong about the AVP. This is the ...</td>\n",
       "    </tr>\n",
       "    <tr>\n",
       "      <th>3</th>\n",
       "      <td>[best, new, product, ive, ever, seen]</td>\n",
       "      <td>Sea_Astronomer_994</td>\n",
       "      <td>1am800c</td>\n",
       "      <td>2024-02-08 22:19:35</td>\n",
       "      <td>Best new product I’ve ever seen</td>\n",
       "    </tr>\n",
       "    <tr>\n",
       "      <th>4</th>\n",
       "      <td>[you, know, what, i, mean]</td>\n",
       "      <td>the_DDDom</td>\n",
       "      <td>141q6pm</td>\n",
       "      <td>2023-06-05 20:09:32</td>\n",
       "      <td>You know what I mean</td>\n",
       "    </tr>\n",
       "  </tbody>\n",
       "</table>\n",
       "</div>"
      ],
      "text/plain": [
       "                                               Title              Author  \\\n",
       "0                 [its, too, expensive, no, regrets]         McNerdsAlot   \n",
       "1   [absolutely, magical, no, other, words, for, it]       thomaspripley   \n",
       "2  [i, was, really, wrong, about, the, avp, this,...     AppleBottmBeans   \n",
       "3              [best, new, product, ive, ever, seen]  Sea_Astronomer_994   \n",
       "4                         [you, know, what, i, mean]           the_DDDom   \n",
       "\n",
       "        ID              Created  \\\n",
       "0  1akdyzo  2024-02-06 16:35:52   \n",
       "1  1ahmtcu  2024-02-03 03:46:26   \n",
       "2  1amtycf  2024-02-09 17:45:25   \n",
       "3  1am800c  2024-02-08 22:19:35   \n",
       "4  141q6pm  2023-06-05 20:09:32   \n",
       "\n",
       "                                      Original_Title  \n",
       "0                    It’s too expensive. No regrets.  \n",
       "1        Absolutely Magical... No Other Words For It  \n",
       "2  I was REALLY wrong about the AVP. This is the ...  \n",
       "3                    Best new product I’ve ever seen  \n",
       "4                               You know what I mean  "
      ]
     },
     "execution_count": 19,
     "metadata": {},
     "output_type": "execute_result"
    }
   ],
   "source": [
    "reddit_data.head()"
   ]
  },
  {
   "cell_type": "markdown",
   "id": "44a48153",
   "metadata": {},
   "source": [
    "# Remove Stop Words"
   ]
  },
  {
   "cell_type": "code",
   "execution_count": 20,
   "id": "fd97fef1",
   "metadata": {},
   "outputs": [],
   "source": [
    "stop = stopwords.words('english')"
   ]
  },
  {
   "cell_type": "code",
   "execution_count": 21,
   "id": "ad3a15a8",
   "metadata": {},
   "outputs": [],
   "source": [
    "reddit_data['Without_stopwords'] = reddit_data['Title'].apply(lambda x: [item for item in x if item not in stop])"
   ]
  },
  {
   "cell_type": "code",
   "execution_count": 22,
   "id": "7dece831",
   "metadata": {},
   "outputs": [
    {
     "data": {
      "text/html": [
       "<div>\n",
       "<style scoped>\n",
       "    .dataframe tbody tr th:only-of-type {\n",
       "        vertical-align: middle;\n",
       "    }\n",
       "\n",
       "    .dataframe tbody tr th {\n",
       "        vertical-align: top;\n",
       "    }\n",
       "\n",
       "    .dataframe thead th {\n",
       "        text-align: right;\n",
       "    }\n",
       "</style>\n",
       "<table border=\"1\" class=\"dataframe\">\n",
       "  <thead>\n",
       "    <tr style=\"text-align: right;\">\n",
       "      <th></th>\n",
       "      <th>Title</th>\n",
       "      <th>Author</th>\n",
       "      <th>ID</th>\n",
       "      <th>Created</th>\n",
       "      <th>Original_Title</th>\n",
       "      <th>Without_stopwords</th>\n",
       "    </tr>\n",
       "  </thead>\n",
       "  <tbody>\n",
       "    <tr>\n",
       "      <th>0</th>\n",
       "      <td>[its, too, expensive, no, regrets]</td>\n",
       "      <td>McNerdsAlot</td>\n",
       "      <td>1akdyzo</td>\n",
       "      <td>2024-02-06 16:35:52</td>\n",
       "      <td>It’s too expensive. No regrets.</td>\n",
       "      <td>[expensive, regrets]</td>\n",
       "    </tr>\n",
       "    <tr>\n",
       "      <th>1</th>\n",
       "      <td>[absolutely, magical, no, other, words, for, it]</td>\n",
       "      <td>thomaspripley</td>\n",
       "      <td>1ahmtcu</td>\n",
       "      <td>2024-02-03 03:46:26</td>\n",
       "      <td>Absolutely Magical... No Other Words For It</td>\n",
       "      <td>[absolutely, magical, words]</td>\n",
       "    </tr>\n",
       "    <tr>\n",
       "      <th>2</th>\n",
       "      <td>[i, was, really, wrong, about, the, avp, this,...</td>\n",
       "      <td>AppleBottmBeans</td>\n",
       "      <td>1amtycf</td>\n",
       "      <td>2024-02-09 17:45:25</td>\n",
       "      <td>I was REALLY wrong about the AVP. This is the ...</td>\n",
       "      <td>[really, wrong, avp, incredible, piece, tech, ...</td>\n",
       "    </tr>\n",
       "    <tr>\n",
       "      <th>3</th>\n",
       "      <td>[best, new, product, ive, ever, seen]</td>\n",
       "      <td>Sea_Astronomer_994</td>\n",
       "      <td>1am800c</td>\n",
       "      <td>2024-02-08 22:19:35</td>\n",
       "      <td>Best new product I’ve ever seen</td>\n",
       "      <td>[best, new, product, ive, ever, seen]</td>\n",
       "    </tr>\n",
       "    <tr>\n",
       "      <th>4</th>\n",
       "      <td>[you, know, what, i, mean]</td>\n",
       "      <td>the_DDDom</td>\n",
       "      <td>141q6pm</td>\n",
       "      <td>2023-06-05 20:09:32</td>\n",
       "      <td>You know what I mean</td>\n",
       "      <td>[know, mean]</td>\n",
       "    </tr>\n",
       "  </tbody>\n",
       "</table>\n",
       "</div>"
      ],
      "text/plain": [
       "                                               Title              Author  \\\n",
       "0                 [its, too, expensive, no, regrets]         McNerdsAlot   \n",
       "1   [absolutely, magical, no, other, words, for, it]       thomaspripley   \n",
       "2  [i, was, really, wrong, about, the, avp, this,...     AppleBottmBeans   \n",
       "3              [best, new, product, ive, ever, seen]  Sea_Astronomer_994   \n",
       "4                         [you, know, what, i, mean]           the_DDDom   \n",
       "\n",
       "        ID              Created  \\\n",
       "0  1akdyzo  2024-02-06 16:35:52   \n",
       "1  1ahmtcu  2024-02-03 03:46:26   \n",
       "2  1amtycf  2024-02-09 17:45:25   \n",
       "3  1am800c  2024-02-08 22:19:35   \n",
       "4  141q6pm  2023-06-05 20:09:32   \n",
       "\n",
       "                                      Original_Title  \\\n",
       "0                    It’s too expensive. No regrets.   \n",
       "1        Absolutely Magical... No Other Words For It   \n",
       "2  I was REALLY wrong about the AVP. This is the ...   \n",
       "3                    Best new product I’ve ever seen   \n",
       "4                               You know what I mean   \n",
       "\n",
       "                                   Without_stopwords  \n",
       "0                               [expensive, regrets]  \n",
       "1                       [absolutely, magical, words]  \n",
       "2  [really, wrong, avp, incredible, piece, tech, ...  \n",
       "3              [best, new, product, ive, ever, seen]  \n",
       "4                                       [know, mean]  "
      ]
     },
     "execution_count": 22,
     "metadata": {},
     "output_type": "execute_result"
    }
   ],
   "source": [
    "reddit_data.head()"
   ]
  },
  {
   "cell_type": "markdown",
   "id": "deeace96",
   "metadata": {},
   "source": [
    "# Lemmatization"
   ]
  },
  {
   "cell_type": "code",
   "execution_count": 23,
   "id": "37efdcb4",
   "metadata": {},
   "outputs": [],
   "source": [
    "#nltk.download('wordnet')"
   ]
  },
  {
   "cell_type": "code",
   "execution_count": 24,
   "id": "2c4beb7b",
   "metadata": {},
   "outputs": [],
   "source": [
    "lemmatizer = WordNetLemmatizer()"
   ]
  },
  {
   "cell_type": "code",
   "execution_count": 25,
   "id": "ee81954a",
   "metadata": {},
   "outputs": [],
   "source": [
    "def lemmatize_text(text):\n",
    "    if isinstance(text, str):  # Check if the value is a string\n",
    "        words = word_tokenize(text)\n",
    "        filtered_words = [word for word in words if word.lower() not in stop_words]\n",
    "        lemmatized_words = [lemmatizer.lemmatize(word) for word in filtered_words]\n",
    "        return ' '.join(lemmatized_words)\n",
    "    else:\n",
    "        return str(text) "
   ]
  },
  {
   "cell_type": "code",
   "execution_count": 26,
   "id": "bbcf49f4",
   "metadata": {},
   "outputs": [],
   "source": [
    "reddit_data['Lemmatized Words'] = reddit_data['Without_stopwords'].apply(lemmatize_text)"
   ]
  },
  {
   "cell_type": "code",
   "execution_count": 27,
   "id": "4dffadba",
   "metadata": {},
   "outputs": [
    {
     "data": {
      "text/html": [
       "<div>\n",
       "<style scoped>\n",
       "    .dataframe tbody tr th:only-of-type {\n",
       "        vertical-align: middle;\n",
       "    }\n",
       "\n",
       "    .dataframe tbody tr th {\n",
       "        vertical-align: top;\n",
       "    }\n",
       "\n",
       "    .dataframe thead th {\n",
       "        text-align: right;\n",
       "    }\n",
       "</style>\n",
       "<table border=\"1\" class=\"dataframe\">\n",
       "  <thead>\n",
       "    <tr style=\"text-align: right;\">\n",
       "      <th></th>\n",
       "      <th>Title</th>\n",
       "      <th>Author</th>\n",
       "      <th>ID</th>\n",
       "      <th>Created</th>\n",
       "      <th>Original_Title</th>\n",
       "      <th>Without_stopwords</th>\n",
       "      <th>Lemmatized Words</th>\n",
       "    </tr>\n",
       "  </thead>\n",
       "  <tbody>\n",
       "    <tr>\n",
       "      <th>0</th>\n",
       "      <td>[its, too, expensive, no, regrets]</td>\n",
       "      <td>McNerdsAlot</td>\n",
       "      <td>1akdyzo</td>\n",
       "      <td>2024-02-06 16:35:52</td>\n",
       "      <td>It’s too expensive. No regrets.</td>\n",
       "      <td>[expensive, regrets]</td>\n",
       "      <td>['expensive', 'regrets']</td>\n",
       "    </tr>\n",
       "    <tr>\n",
       "      <th>1</th>\n",
       "      <td>[absolutely, magical, no, other, words, for, it]</td>\n",
       "      <td>thomaspripley</td>\n",
       "      <td>1ahmtcu</td>\n",
       "      <td>2024-02-03 03:46:26</td>\n",
       "      <td>Absolutely Magical... No Other Words For It</td>\n",
       "      <td>[absolutely, magical, words]</td>\n",
       "      <td>['absolutely', 'magical', 'words']</td>\n",
       "    </tr>\n",
       "    <tr>\n",
       "      <th>2</th>\n",
       "      <td>[i, was, really, wrong, about, the, avp, this,...</td>\n",
       "      <td>AppleBottmBeans</td>\n",
       "      <td>1amtycf</td>\n",
       "      <td>2024-02-09 17:45:25</td>\n",
       "      <td>I was REALLY wrong about the AVP. This is the ...</td>\n",
       "      <td>[really, wrong, avp, incredible, piece, tech, ...</td>\n",
       "      <td>['really', 'wrong', 'avp', 'incredible', 'piec...</td>\n",
       "    </tr>\n",
       "    <tr>\n",
       "      <th>3</th>\n",
       "      <td>[best, new, product, ive, ever, seen]</td>\n",
       "      <td>Sea_Astronomer_994</td>\n",
       "      <td>1am800c</td>\n",
       "      <td>2024-02-08 22:19:35</td>\n",
       "      <td>Best new product I’ve ever seen</td>\n",
       "      <td>[best, new, product, ive, ever, seen]</td>\n",
       "      <td>['best', 'new', 'product', 'ive', 'ever', 'seen']</td>\n",
       "    </tr>\n",
       "    <tr>\n",
       "      <th>4</th>\n",
       "      <td>[you, know, what, i, mean]</td>\n",
       "      <td>the_DDDom</td>\n",
       "      <td>141q6pm</td>\n",
       "      <td>2023-06-05 20:09:32</td>\n",
       "      <td>You know what I mean</td>\n",
       "      <td>[know, mean]</td>\n",
       "      <td>['know', 'mean']</td>\n",
       "    </tr>\n",
       "    <tr>\n",
       "      <th>5</th>\n",
       "      <td>[its, happening, over, native, apps, launch, f...</td>\n",
       "      <td>SpenceHere</td>\n",
       "      <td>1aggfhi</td>\n",
       "      <td>2024-02-01 17:28:27</td>\n",
       "      <td>It’s happening! Over 600 native apps @ launch ...</td>\n",
       "      <td>[happening, native, apps, launch, apple, visio...</td>\n",
       "      <td>['happening', 'native', 'apps', 'launch', 'app...</td>\n",
       "    </tr>\n",
       "    <tr>\n",
       "      <th>6</th>\n",
       "      <td>[avp, was, my, first, apple, device, ever]</td>\n",
       "      <td>firebird8541154</td>\n",
       "      <td>1ajlhkk</td>\n",
       "      <td>2024-02-05 17:04:51</td>\n",
       "      <td>AVP Was My First Apple Device Ever!</td>\n",
       "      <td>[avp, first, apple, device, ever]</td>\n",
       "      <td>['avp', 'first', 'apple', 'device', 'ever']</td>\n",
       "    </tr>\n",
       "    <tr>\n",
       "      <th>7</th>\n",
       "      <td>[dear, tim]</td>\n",
       "      <td>SnooMacarons5173</td>\n",
       "      <td>197rsvv</td>\n",
       "      <td>2024-01-16 02:42:19</td>\n",
       "      <td>Dear Tim,</td>\n",
       "      <td>[dear, tim]</td>\n",
       "      <td>['dear', 'tim']</td>\n",
       "    </tr>\n",
       "  </tbody>\n",
       "</table>\n",
       "</div>"
      ],
      "text/plain": [
       "                                               Title              Author  \\\n",
       "0                 [its, too, expensive, no, regrets]         McNerdsAlot   \n",
       "1   [absolutely, magical, no, other, words, for, it]       thomaspripley   \n",
       "2  [i, was, really, wrong, about, the, avp, this,...     AppleBottmBeans   \n",
       "3              [best, new, product, ive, ever, seen]  Sea_Astronomer_994   \n",
       "4                         [you, know, what, i, mean]           the_DDDom   \n",
       "5  [its, happening, over, native, apps, launch, f...          SpenceHere   \n",
       "6         [avp, was, my, first, apple, device, ever]     firebird8541154   \n",
       "7                                        [dear, tim]    SnooMacarons5173   \n",
       "\n",
       "        ID              Created  \\\n",
       "0  1akdyzo  2024-02-06 16:35:52   \n",
       "1  1ahmtcu  2024-02-03 03:46:26   \n",
       "2  1amtycf  2024-02-09 17:45:25   \n",
       "3  1am800c  2024-02-08 22:19:35   \n",
       "4  141q6pm  2023-06-05 20:09:32   \n",
       "5  1aggfhi  2024-02-01 17:28:27   \n",
       "6  1ajlhkk  2024-02-05 17:04:51   \n",
       "7  197rsvv  2024-01-16 02:42:19   \n",
       "\n",
       "                                      Original_Title  \\\n",
       "0                    It’s too expensive. No regrets.   \n",
       "1        Absolutely Magical... No Other Words For It   \n",
       "2  I was REALLY wrong about the AVP. This is the ...   \n",
       "3                    Best new product I’ve ever seen   \n",
       "4                               You know what I mean   \n",
       "5  It’s happening! Over 600 native apps @ launch ...   \n",
       "6                AVP Was My First Apple Device Ever!   \n",
       "7                                          Dear Tim,   \n",
       "\n",
       "                                   Without_stopwords  \\\n",
       "0                               [expensive, regrets]   \n",
       "1                       [absolutely, magical, words]   \n",
       "2  [really, wrong, avp, incredible, piece, tech, ...   \n",
       "3              [best, new, product, ive, ever, seen]   \n",
       "4                                       [know, mean]   \n",
       "5  [happening, native, apps, launch, apple, visio...   \n",
       "6                  [avp, first, apple, device, ever]   \n",
       "7                                        [dear, tim]   \n",
       "\n",
       "                                    Lemmatized Words  \n",
       "0                           ['expensive', 'regrets']  \n",
       "1                 ['absolutely', 'magical', 'words']  \n",
       "2  ['really', 'wrong', 'avp', 'incredible', 'piec...  \n",
       "3  ['best', 'new', 'product', 'ive', 'ever', 'seen']  \n",
       "4                                   ['know', 'mean']  \n",
       "5  ['happening', 'native', 'apps', 'launch', 'app...  \n",
       "6        ['avp', 'first', 'apple', 'device', 'ever']  \n",
       "7                                    ['dear', 'tim']  "
      ]
     },
     "execution_count": 27,
     "metadata": {},
     "output_type": "execute_result"
    }
   ],
   "source": [
    "reddit_data.head(8)"
   ]
  },
  {
   "cell_type": "markdown",
   "id": "4dee2079",
   "metadata": {},
   "source": [
    "# EDA"
   ]
  },
  {
   "cell_type": "markdown",
   "id": "6034944e",
   "metadata": {},
   "source": [
    "## Number of Characters in each review title"
   ]
  },
  {
   "cell_type": "code",
   "execution_count": 25,
   "id": "e8d88690",
   "metadata": {},
   "outputs": [
    {
     "data": {
      "text/plain": [
       "<AxesSubplot:>"
      ]
     },
     "execution_count": 25,
     "metadata": {},
     "output_type": "execute_result"
    },
    {
     "data": {
      "image/png": "[encoded data removed]",
      "text/plain": [
       "<Figure size 432x288 with 1 Axes>"
      ]
     },
     "metadata": {
      "needs_background": "light"
     },
     "output_type": "display_data"
    }
   ],
   "source": [
    "reddit_data['Original_Title'].str.len().hist()"
   ]
  },
  {
   "cell_type": "markdown",
   "id": "4729dbbd",
   "metadata": {},
   "source": [
    "### The histogram shows that review titles range from 10 to 300 characters and generally, it is between 10 to 140 characters."
   ]
  },
  {
   "cell_type": "code",
   "execution_count": 29,
   "id": "93e94c24",
   "metadata": {},
   "outputs": [
    {
     "data": {
      "text/plain": [
       "<seaborn.axisgrid.FacetGrid at 0x22037c92340>"
      ]
     },
     "execution_count": 29,
     "metadata": {},
     "output_type": "execute_result"
    },
    {
     "data": {
      "image/png": "[encoded data removed]",
      "text/plain": [
       "<Figure size 360x360 with 1 Axes>"
      ]
     },
     "metadata": {
      "needs_background": "light"
     },
     "output_type": "display_data"
    }
   ],
   "source": [
    "sns.displot(reddit_data['Original_Title'].str.len(), kind=\"kde\")"
   ]
  },
  {
   "cell_type": "markdown",
   "id": "4f447fb9",
   "metadata": {},
   "source": [
    "### We can observe that the number of characters follow a multimodal distribution where the first peak is centered around 40 and the second peak around 255."
   ]
  },
  {
   "cell_type": "markdown",
   "id": "a26fa34d",
   "metadata": {},
   "source": [
    "## Word Length Analysis: \n",
    "\n",
    "### Shows the number of words appearing in each line"
   ]
  },
  {
   "cell_type": "code",
   "execution_count": 36,
   "id": "04fe0d08",
   "metadata": {},
   "outputs": [
    {
     "data": {
      "text/plain": [
       "<AxesSubplot:>"
      ]
     },
     "execution_count": 36,
     "metadata": {},
     "output_type": "execute_result"
    },
    {
     "data": {
      "image/png": "[encoded data removed]",
      "text/plain": [
       "<Figure size 432x288 with 1 Axes>"
      ]
     },
     "metadata": {
      "needs_background": "light"
     },
     "output_type": "display_data"
    }
   ],
   "source": [
    "reddit_data['Original_Title'].str.split().map(lambda x: len(x)).hist()"
   ]
  },
  {
   "cell_type": "markdown",
   "id": "1aeba22d",
   "metadata": {},
   "source": [
    "## It is clear that the number of words in review title ranges from 2 to 47 and mostly falls between 2 to 24 words."
   ]
  },
  {
   "cell_type": "markdown",
   "id": "01d43cfe",
   "metadata": {},
   "source": [
    "# Average Word Length"
   ]
  },
  {
   "cell_type": "code",
   "execution_count": 34,
   "id": "0548ca4a",
   "metadata": {},
   "outputs": [
    {
     "data": {
      "text/plain": [
       "<AxesSubplot:>"
      ]
     },
     "execution_count": 34,
     "metadata": {},
     "output_type": "execute_result"
    },
    {
     "data": {
      "image/png": "[encoded data removed]",
      "text/plain": [
       "<Figure size 432x288 with 1 Axes>"
      ]
     },
     "metadata": {
      "needs_background": "light"
     },
     "output_type": "display_data"
    }
   ],
   "source": [
    "reddit_data['Original_Title'].str.split().apply(lambda x : [len(i) for i in x]).map(lambda x: np.mean(x)).hist()"
   ]
  },
  {
   "cell_type": "markdown",
   "id": "f23c0b78",
   "metadata": {},
   "source": [
    "### The average word length ranges between 2 to 12 with 3-4 being the most common length."
   ]
  },
  {
   "cell_type": "markdown",
   "id": "5211e5f6",
   "metadata": {},
   "source": [
    "# Q1.  Does this means people like writing short titles for their reviews. (above)"
   ]
  },
  {
   "cell_type": "markdown",
   "id": "29b6f828",
   "metadata": {},
   "source": [
    "# Top Stop Words"
   ]
  },
  {
   "cell_type": "code",
   "execution_count": 39,
   "id": "417fbdca",
   "metadata": {},
   "outputs": [],
   "source": [
    "corpus=[]\n",
    "new= reddit_data['Original_Title'].str.split()\n",
    "new=new.values.tolist()\n",
    "corpus=[word for i in new for word in i]\n",
    "\n",
    "from collections import defaultdict\n",
    "dic=defaultdict(int)\n",
    "for word in corpus:\n",
    "    if word in stop:\n",
    "        dic[word]+=1"
   ]
  },
  {
   "cell_type": "code",
   "execution_count": 40,
   "id": "10b103e8",
   "metadata": {},
   "outputs": [],
   "source": [
    "def plot_top_stopwords_barchart(text):\n",
    "    stop=set(stopwords.words('english'))\n",
    "    \n",
    "    new= text.str.split()\n",
    "    new=new.values.tolist()\n",
    "    corpus=[word for i in new for word in i]\n",
    "    from collections import defaultdict\n",
    "    dic=defaultdict(int)\n",
    "    for word in corpus:\n",
    "        if word in stop:\n",
    "            dic[word]+=1\n",
    "            \n",
    "    top=sorted(dic.items(), key=lambda x:x[1],reverse=True)[:10] \n",
    "    x,y=zip(*top)\n",
    "    plt.bar(x,y)"
   ]
  },
  {
   "cell_type": "code",
   "execution_count": 43,
   "id": "5a2b64ea",
   "metadata": {},
   "outputs": [
    {
     "data": {
      "image/png": "[encoded data removed]",
      "text/plain": [
       "<Figure size 432x288 with 1 Axes>"
      ]
     },
     "metadata": {
      "needs_background": "light"
     },
     "output_type": "display_data"
    }
   ],
   "source": [
    "plot_top_stopwords_barchart(reddit_data['Original_Title'])"
   ]
  },
  {
   "cell_type": "markdown",
   "id": "e59310fb",
   "metadata": {},
   "source": [
    "### From the above graph, we can see that the top 3 stopwords used in the title are 'THE', 'AND' & 'IS'."
   ]
  },
  {
   "cell_type": "markdown",
   "id": "732f891e",
   "metadata": {},
   "source": [
    "## We know which stopwords occur frequently in our text, let’s inspect which words other than these stopwords occur frequently."
   ]
  },
  {
   "cell_type": "code",
   "execution_count": 45,
   "id": "d2125b19",
   "metadata": {},
   "outputs": [
    {
     "data": {
      "text/plain": [
       "<AxesSubplot:>"
      ]
     },
     "execution_count": 45,
     "metadata": {},
     "output_type": "execute_result"
    },
    {
     "data": {
      "image/png": "[encoded data removed]",
      "text/plain": [
       "<Figure size 432x288 with 1 Axes>"
      ]
     },
     "metadata": {
      "needs_background": "light"
     },
     "output_type": "display_data"
    }
   ],
   "source": [
    "from collections import Counter\n",
    "\n",
    "counter=Counter(corpus)\n",
    "most=counter.most_common()\n",
    "\n",
    "x, y= [], []\n",
    "for word,count in most[:40]:\n",
    "    if (word not in stop):\n",
    "        x.append(word)\n",
    "        y.append(count)\n",
    "\n",
    "sns.barplot(x=y,y=x)"
   ]
  },
  {
   "cell_type": "markdown",
   "id": "c9c1efd0",
   "metadata": {},
   "source": [
    "## So, we can see that \"I\",\"Vision\" & \"Pro\" are the most frequently used non stopwords used."
   ]
  },
  {
   "cell_type": "markdown",
   "id": "f18ea3eb",
   "metadata": {},
   "source": [
    "# Let's find the top Bigrams"
   ]
  },
  {
   "cell_type": "code",
   "execution_count": 51,
   "id": "9de0bdb4",
   "metadata": {},
   "outputs": [],
   "source": [
    "def get_top_ngram(corpus, n=None):\n",
    "    vec = CountVectorizer(ngram_range=(n, n)).fit(corpus)\n",
    "    bag_of_words = vec.transform(corpus)\n",
    "    sum_words = bag_of_words.sum(axis=0)\n",
    "    words_freq = [(word, sum_words[0, idx])\n",
    "                  for word, idx in vec.vocabulary_.items()]\n",
    "    words_freq =sorted(words_freq, key = lambda x: x[1], reverse=True)\n",
    "    return words_freq[:10]"
   ]
  },
  {
   "cell_type": "code",
   "execution_count": 54,
   "id": "9e1f44c7",
   "metadata": {},
   "outputs": [],
   "source": [
    "from sklearn.feature_extraction.text import CountVectorizer\n",
    "def plot_top_ngrams_barchart(text, n=2):\n",
    "    stop=set(stopwords.words('english'))\n",
    "\n",
    "    new= text.str.split()\n",
    "    new=new.values.tolist()\n",
    "    corpus=[word for i in new for word in i]\n",
    "\n",
    "    def _get_top_ngram(corpus, n=None):\n",
    "        vec = CountVectorizer(ngram_range=(n, n)).fit(corpus)\n",
    "        bag_of_words = vec.transform(corpus)\n",
    "        sum_words = bag_of_words.sum(axis=0) \n",
    "        words_freq = [(word, sum_words[0, idx]) \n",
    "                      for word, idx in vec.vocabulary_.items()]\n",
    "        words_freq =sorted(words_freq, key = lambda x: x[1], reverse=True)\n",
    "        return words_freq[:10]\n",
    "\n",
    "    top_n_bigrams=_get_top_ngram(text,n)[:10]\n",
    "    x,y=map(list,zip(*top_n_bigrams))\n",
    "    sns.barplot(x=y,y=x)"
   ]
  },
  {
   "cell_type": "code",
   "execution_count": 55,
   "id": "f1e39d97",
   "metadata": {},
   "outputs": [
    {
     "data": {
      "image/png": "[encoded data removed]",
      "text/plain": [
       "<Figure size 432x288 with 1 Axes>"
      ]
     },
     "metadata": {
      "needs_background": "light"
     },
     "output_type": "display_data"
    }
   ],
   "source": [
    "plot_top_ngrams_barchart(reddit_data['Original_Title'],2)"
   ]
  },
  {
   "cell_type": "code",
   "execution_count": null,
   "id": "0a82933e",
   "metadata": {},
   "outputs": [],
   "source": []
  },
  {
   "cell_type": "code",
   "execution_count": 56,
   "id": "6e0ad908",
   "metadata": {
    "scrolled": true
   },
   "outputs": [
    {
     "data": {
      "image/png": "[encoded data removed]",
      "text/plain": [
       "<Figure size 432x288 with 1 Axes>"
      ]
     },
     "metadata": {
      "needs_background": "light"
     },
     "output_type": "display_data"
    }
   ],
   "source": [
    "plot_top_ngrams_barchart(reddit_data['Original_Title'],3)"
   ]
  },
  {
   "cell_type": "code",
   "execution_count": 75,
   "id": "a5f2ba36",
   "metadata": {},
   "outputs": [],
   "source": [
    "#pip install wordcloud"
   ]
  },
  {
   "cell_type": "code",
   "execution_count": 93,
   "id": "34259511",
   "metadata": {},
   "outputs": [],
   "source": [
    "# Is there any User who provided multiple comments\n",
    "\n"
   ]
  },
  {
   "cell_type": "code",
   "execution_count": 31,
   "id": "4d0250a7",
   "metadata": {},
   "outputs": [
    {
     "data": {
      "image/png": "[encoded data removed]",
      "text/plain": [
       "<Figure size 960x480 with 1 Axes>"
      ]
     },
     "metadata": {
      "needs_background": "light"
     },
     "output_type": "display_data"
    }
   ],
   "source": [
    "plt.figure(figsize=(12, 6), dpi=80)\n",
    "sns.countplot(x=\"ID\", data=reddit_data)\n",
    "plt.xticks(rotation=90) \n",
    "plt.show()"
   ]
  },
  {
   "cell_type": "code",
   "execution_count": 33,
   "id": "d09ab241",
   "metadata": {},
   "outputs": [
    {
     "data": {
      "image/png": "[encoded data removed]",
      "text/plain": [
       "<Figure size 960x240 with 1 Axes>"
      ]
     },
     "metadata": {
      "needs_background": "light"
     },
     "output_type": "display_data"
    }
   ],
   "source": [
    "plt.figure(figsize=(12, 3), dpi=80)\n",
    "sns.countplot(x=\"Author\", data=reddit_data)\n",
    "plt.xticks(rotation=90) \n",
    "plt.show()"
   ]
  },
  {
   "cell_type": "code",
   "execution_count": null,
   "id": "65b0d25d",
   "metadata": {},
   "outputs": [],
   "source": []
  }
 ],
 "metadata": {
  "kernelspec": {
   "display_name": "Python 3 (ipykernel)",
   "language": "python",
   "name": "python3"
  },
  "language_info": {
   "codemirror_mode": {
    "name": "ipython",
    "version": 3
   },
   "file_extension": ".py",
   "mimetype": "text/x-python",
   "name": "python",
   "nbconvert_exporter": "python",
   "pygments_lexer": "ipython3",
   "version": "3.9.12"
  }
 },
 "nbformat": 4,
 "nbformat_minor": 5
}
