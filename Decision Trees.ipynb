{
 "cells": [
  {
   "cell_type": "code",
   "execution_count": 1,
   "id": "8f6fc94e",
   "metadata": {},
   "outputs": [],
   "source": [
    "import pandas as pd\n",
    "import numpy as np\n",
    "from sklearn.tree import DecisionTreeClassifier\n",
    "from imblearn.over_sampling import SMOTE\n",
    "from sklearn.metrics import accuracy_score, precision_score, recall_score, f1_score, confusion_matrix\n",
    "import seaborn as sns\n",
    "import matplotlib.pyplot as plt\n",
    "from sklearn.model_selection import train_test_split\n",
    "from sklearn.feature_extraction.text import CountVectorizer"
   ]
  },
  {
   "cell_type": "code",
   "execution_count": 2,
   "id": "e734d19c",
   "metadata": {},
   "outputs": [],
   "source": [
    "#pip install graphviz"
   ]
  },
  {
   "cell_type": "code",
   "execution_count": 3,
   "id": "1ef5e516",
   "metadata": {},
   "outputs": [],
   "source": [
    "#pip install imblearn\n"
   ]
  },
  {
   "cell_type": "code",
   "execution_count": 4,
   "id": "212cb168",
   "metadata": {},
   "outputs": [],
   "source": [
    "df= pd.read_csv('Sentiment_Analysis_Data.csv')"
   ]
  },
  {
   "cell_type": "code",
   "execution_count": 5,
   "id": "3b0dbff1",
   "metadata": {
    "scrolled": true
   },
   "outputs": [
    {
     "data": {
      "text/html": [
       "<div>\n",
       "<style scoped>\n",
       "    .dataframe tbody tr th:only-of-type {\n",
       "        vertical-align: middle;\n",
       "    }\n",
       "\n",
       "    .dataframe tbody tr th {\n",
       "        vertical-align: top;\n",
       "    }\n",
       "\n",
       "    .dataframe thead th {\n",
       "        text-align: right;\n",
       "    }\n",
       "</style>\n",
       "<table border=\"1\" class=\"dataframe\">\n",
       "  <thead>\n",
       "    <tr style=\"text-align: right;\">\n",
       "      <th></th>\n",
       "      <th>Unnamed: 0</th>\n",
       "      <th>Index</th>\n",
       "      <th>Title</th>\n",
       "      <th>Author</th>\n",
       "      <th>ID</th>\n",
       "      <th>Created</th>\n",
       "      <th>Original_Title</th>\n",
       "      <th>Without_stopwords</th>\n",
       "      <th>Lemmatized_Words</th>\n",
       "      <th>Pos_tags</th>\n",
       "      <th>...</th>\n",
       "      <th>PCA1</th>\n",
       "      <th>PCA2</th>\n",
       "      <th>For_Cluster_Seven</th>\n",
       "      <th>For_Cluster_Ten</th>\n",
       "      <th>neg</th>\n",
       "      <th>neu</th>\n",
       "      <th>pos</th>\n",
       "      <th>compound</th>\n",
       "      <th>Sentiment</th>\n",
       "      <th>Sentiment_Label</th>\n",
       "    </tr>\n",
       "  </thead>\n",
       "  <tbody>\n",
       "    <tr>\n",
       "      <th>0</th>\n",
       "      <td>0</td>\n",
       "      <td>0</td>\n",
       "      <td>['apple', 'vision', 'pro', 'has', 'ruined', 'm...</td>\n",
       "      <td>Old_Possible8977</td>\n",
       "      <td>1an21fb</td>\n",
       "      <td>2024-02-09 23:34:09</td>\n",
       "      <td>Apple Vision Pro has ruined movies for me</td>\n",
       "      <td>['apple', 'vision', 'pro', 'ruined', 'movies']</td>\n",
       "      <td>['apple', 'vision', 'pro', 'ruined', 'movies']</td>\n",
       "      <td>[('[', 'JJ'), (\"'apple\", 'NNP'), (\"'\", 'POS'),...</td>\n",
       "      <td>...</td>\n",
       "      <td>0.369651</td>\n",
       "      <td>0.018061</td>\n",
       "      <td>0</td>\n",
       "      <td>1</td>\n",
       "      <td>0.279</td>\n",
       "      <td>0.541</td>\n",
       "      <td>0.18</td>\n",
       "      <td>-0.2732</td>\n",
       "      <td>-1</td>\n",
       "      <td>negative</td>\n",
       "    </tr>\n",
       "    <tr>\n",
       "      <th>1</th>\n",
       "      <td>1</td>\n",
       "      <td>1</td>\n",
       "      <td>['its', 'too', 'expensive', 'no', 'regrets']</td>\n",
       "      <td>McNerdsAlot</td>\n",
       "      <td>1akdyzo</td>\n",
       "      <td>2024-02-06 16:35:52</td>\n",
       "      <td>It’s too expensive. No regrets.</td>\n",
       "      <td>['expensive', 'regrets']</td>\n",
       "      <td>['expensive', 'regrets']</td>\n",
       "      <td>[('[', 'RB'), (\"'expensive\", 'JJ'), (\"'\", \"''\"...</td>\n",
       "      <td>...</td>\n",
       "      <td>-0.054405</td>\n",
       "      <td>-0.046932</td>\n",
       "      <td>1</td>\n",
       "      <td>5</td>\n",
       "      <td>0.610</td>\n",
       "      <td>0.390</td>\n",
       "      <td>0.00</td>\n",
       "      <td>-0.5719</td>\n",
       "      <td>-1</td>\n",
       "      <td>negative</td>\n",
       "    </tr>\n",
       "    <tr>\n",
       "      <th>2</th>\n",
       "      <td>2</td>\n",
       "      <td>2</td>\n",
       "      <td>['how', 'to', 'ruin', 'your', 'movie', 'library']</td>\n",
       "      <td>Mequbbal_Trader</td>\n",
       "      <td>1atvcqx</td>\n",
       "      <td>2024-02-18 14:31:17</td>\n",
       "      <td>How to ruin your movie library</td>\n",
       "      <td>['ruin', 'movie', 'library']</td>\n",
       "      <td>['ruin', 'movie', 'library']</td>\n",
       "      <td>[('[', 'JJ'), (\"'ruin\", 'NNP'), (\"'\", 'POS'), ...</td>\n",
       "      <td>...</td>\n",
       "      <td>-0.068477</td>\n",
       "      <td>-0.067856</td>\n",
       "      <td>1</td>\n",
       "      <td>5</td>\n",
       "      <td>0.432</td>\n",
       "      <td>0.568</td>\n",
       "      <td>0.00</td>\n",
       "      <td>-0.5859</td>\n",
       "      <td>-1</td>\n",
       "      <td>negative</td>\n",
       "    </tr>\n",
       "    <tr>\n",
       "      <th>3</th>\n",
       "      <td>3</td>\n",
       "      <td>3</td>\n",
       "      <td>['i', 'was', 'really', 'wrong', 'about', 'the'...</td>\n",
       "      <td>AppleBottmBeans</td>\n",
       "      <td>1amtycf</td>\n",
       "      <td>2024-02-09 17:45:25</td>\n",
       "      <td>I was REALLY wrong about the AVP. This is the ...</td>\n",
       "      <td>['really', 'wrong', 'avp', 'incredible', 'piec...</td>\n",
       "      <td>['really', 'wrong', 'avp', 'incredible', 'piec...</td>\n",
       "      <td>[('[', 'RB'), (\"'really\", 'RB'), (\"'\", \"''\"), ...</td>\n",
       "      <td>...</td>\n",
       "      <td>-0.113431</td>\n",
       "      <td>0.092884</td>\n",
       "      <td>4</td>\n",
       "      <td>9</td>\n",
       "      <td>0.205</td>\n",
       "      <td>0.795</td>\n",
       "      <td>0.00</td>\n",
       "      <td>-0.6281</td>\n",
       "      <td>-1</td>\n",
       "      <td>negative</td>\n",
       "    </tr>\n",
       "    <tr>\n",
       "      <th>4</th>\n",
       "      <td>4</td>\n",
       "      <td>4</td>\n",
       "      <td>['apple', 'vision', 'pro', 'is', 'the', 'best'...</td>\n",
       "      <td>Deathtosnoopy</td>\n",
       "      <td>1b2jq3m</td>\n",
       "      <td>2024-02-28 22:35:12</td>\n",
       "      <td>Apple vision pro is the best thing to happen t...</td>\n",
       "      <td>['apple', 'vision', 'pro', 'best', 'thing', 'h...</td>\n",
       "      <td>['apple', 'vision', 'pro', 'best', 'thing', 'h...</td>\n",
       "      <td>[('[', 'JJ'), (\"'apple\", 'NNP'), (\"'\", 'POS'),...</td>\n",
       "      <td>...</td>\n",
       "      <td>0.209062</td>\n",
       "      <td>-0.007999</td>\n",
       "      <td>0</td>\n",
       "      <td>1</td>\n",
       "      <td>0.000</td>\n",
       "      <td>0.640</td>\n",
       "      <td>0.36</td>\n",
       "      <td>0.7351</td>\n",
       "      <td>1</td>\n",
       "      <td>positive</td>\n",
       "    </tr>\n",
       "  </tbody>\n",
       "</table>\n",
       "<p>5 rows × 21 columns</p>\n",
       "</div>"
      ],
      "text/plain": [
       "   Unnamed: 0  Index                                              Title  \\\n",
       "0           0      0  ['apple', 'vision', 'pro', 'has', 'ruined', 'm...   \n",
       "1           1      1       ['its', 'too', 'expensive', 'no', 'regrets']   \n",
       "2           2      2  ['how', 'to', 'ruin', 'your', 'movie', 'library']   \n",
       "3           3      3  ['i', 'was', 'really', 'wrong', 'about', 'the'...   \n",
       "4           4      4  ['apple', 'vision', 'pro', 'is', 'the', 'best'...   \n",
       "\n",
       "             Author       ID              Created  \\\n",
       "0  Old_Possible8977  1an21fb  2024-02-09 23:34:09   \n",
       "1       McNerdsAlot  1akdyzo  2024-02-06 16:35:52   \n",
       "2   Mequbbal_Trader  1atvcqx  2024-02-18 14:31:17   \n",
       "3   AppleBottmBeans  1amtycf  2024-02-09 17:45:25   \n",
       "4     Deathtosnoopy  1b2jq3m  2024-02-28 22:35:12   \n",
       "\n",
       "                                      Original_Title  \\\n",
       "0          Apple Vision Pro has ruined movies for me   \n",
       "1                    It’s too expensive. No regrets.   \n",
       "2                     How to ruin your movie library   \n",
       "3  I was REALLY wrong about the AVP. This is the ...   \n",
       "4  Apple vision pro is the best thing to happen t...   \n",
       "\n",
       "                                   Without_stopwords  \\\n",
       "0     ['apple', 'vision', 'pro', 'ruined', 'movies']   \n",
       "1                           ['expensive', 'regrets']   \n",
       "2                       ['ruin', 'movie', 'library']   \n",
       "3  ['really', 'wrong', 'avp', 'incredible', 'piec...   \n",
       "4  ['apple', 'vision', 'pro', 'best', 'thing', 'h...   \n",
       "\n",
       "                                    Lemmatized_Words  \\\n",
       "0     ['apple', 'vision', 'pro', 'ruined', 'movies']   \n",
       "1                           ['expensive', 'regrets']   \n",
       "2                       ['ruin', 'movie', 'library']   \n",
       "3  ['really', 'wrong', 'avp', 'incredible', 'piec...   \n",
       "4  ['apple', 'vision', 'pro', 'best', 'thing', 'h...   \n",
       "\n",
       "                                            Pos_tags  ...      PCA1      PCA2  \\\n",
       "0  [('[', 'JJ'), (\"'apple\", 'NNP'), (\"'\", 'POS'),...  ...  0.369651  0.018061   \n",
       "1  [('[', 'RB'), (\"'expensive\", 'JJ'), (\"'\", \"''\"...  ... -0.054405 -0.046932   \n",
       "2  [('[', 'JJ'), (\"'ruin\", 'NNP'), (\"'\", 'POS'), ...  ... -0.068477 -0.067856   \n",
       "3  [('[', 'RB'), (\"'really\", 'RB'), (\"'\", \"''\"), ...  ... -0.113431  0.092884   \n",
       "4  [('[', 'JJ'), (\"'apple\", 'NNP'), (\"'\", 'POS'),...  ...  0.209062 -0.007999   \n",
       "\n",
       "   For_Cluster_Seven  For_Cluster_Ten    neg    neu   pos  compound  \\\n",
       "0                  0                1  0.279  0.541  0.18   -0.2732   \n",
       "1                  1                5  0.610  0.390  0.00   -0.5719   \n",
       "2                  1                5  0.432  0.568  0.00   -0.5859   \n",
       "3                  4                9  0.205  0.795  0.00   -0.6281   \n",
       "4                  0                1  0.000  0.640  0.36    0.7351   \n",
       "\n",
       "   Sentiment  Sentiment_Label  \n",
       "0         -1         negative  \n",
       "1         -1         negative  \n",
       "2         -1         negative  \n",
       "3         -1         negative  \n",
       "4          1         positive  \n",
       "\n",
       "[5 rows x 21 columns]"
      ]
     },
     "execution_count": 5,
     "metadata": {},
     "output_type": "execute_result"
    }
   ],
   "source": [
    "df.head()"
   ]
  },
  {
   "cell_type": "code",
   "execution_count": 6,
   "id": "3fdb09d4",
   "metadata": {},
   "outputs": [],
   "source": [
    "# Split the data into features (X) and labels (y)\n",
    "X = df['Lemmatized_Words']\n",
    "y = df['Sentiment_Label']"
   ]
  },
  {
   "cell_type": "code",
   "execution_count": 7,
   "id": "e82a0b91",
   "metadata": {},
   "outputs": [],
   "source": [
    "# Split the data into training and testing sets\n",
    "X_train, X_test, y_train, y_test = train_test_split(X, y, test_size=0.2, random_state=42)"
   ]
  },
  {
   "cell_type": "code",
   "execution_count": 8,
   "id": "5ccc07e7",
   "metadata": {},
   "outputs": [],
   "source": [
    "X_train.to_csv('Training_Data_DT.csv')"
   ]
  },
  {
   "cell_type": "code",
   "execution_count": 9,
   "id": "201a058f",
   "metadata": {},
   "outputs": [],
   "source": [
    "X_test.to_csv('Test_Data_DT.csv')"
   ]
  },
  {
   "cell_type": "code",
   "execution_count": 10,
   "id": "0993194d",
   "metadata": {},
   "outputs": [],
   "source": [
    "# Vectorize the text data\n",
    "vectorizer = CountVectorizer()\n",
    "X_train_counts = vectorizer.fit_transform(X_train)\n",
    "X_test_counts = vectorizer.transform(X_test)"
   ]
  },
  {
   "cell_type": "code",
   "execution_count": 11,
   "id": "34e74473",
   "metadata": {},
   "outputs": [],
   "source": [
    "# Apply SMOTE to the training data\n",
    "smote = SMOTE(random_state=42)\n",
    "X_train_resampled, y_train_resampled = smote.fit_resample(X_train_counts, y_train)"
   ]
  },
  {
   "cell_type": "code",
   "execution_count": 12,
   "id": "bed1a650",
   "metadata": {},
   "outputs": [
    {
     "data": {
      "text/html": [
       "<style>#sk-container-id-1 {color: black;}#sk-container-id-1 pre{padding: 0;}#sk-container-id-1 div.sk-toggleable {background-color: white;}#sk-container-id-1 label.sk-toggleable__label {cursor: pointer;display: block;width: 100%;margin-bottom: 0;padding: 0.3em;box-sizing: border-box;text-align: center;}#sk-container-id-1 label.sk-toggleable__label-arrow:before {content: \"▸\";float: left;margin-right: 0.25em;color: #696969;}#sk-container-id-1 label.sk-toggleable__label-arrow:hover:before {color: black;}#sk-container-id-1 div.sk-estimator:hover label.sk-toggleable__label-arrow:before {color: black;}#sk-container-id-1 div.sk-toggleable__content {max-height: 0;max-width: 0;overflow: hidden;text-align: left;background-color: #f0f8ff;}#sk-container-id-1 div.sk-toggleable__content pre {margin: 0.2em;color: black;border-radius: 0.25em;background-color: #f0f8ff;}#sk-container-id-1 input.sk-toggleable__control:checked~div.sk-toggleable__content {max-height: 200px;max-width: 100%;overflow: auto;}#sk-container-id-1 input.sk-toggleable__control:checked~label.sk-toggleable__label-arrow:before {content: \"▾\";}#sk-container-id-1 div.sk-estimator input.sk-toggleable__control:checked~label.sk-toggleable__label {background-color: #d4ebff;}#sk-container-id-1 div.sk-label input.sk-toggleable__control:checked~label.sk-toggleable__label {background-color: #d4ebff;}#sk-container-id-1 input.sk-hidden--visually {border: 0;clip: rect(1px 1px 1px 1px);clip: rect(1px, 1px, 1px, 1px);height: 1px;margin: -1px;overflow: hidden;padding: 0;position: absolute;width: 1px;}#sk-container-id-1 div.sk-estimator {font-family: monospace;background-color: #f0f8ff;border: 1px dotted black;border-radius: 0.25em;box-sizing: border-box;margin-bottom: 0.5em;}#sk-container-id-1 div.sk-estimator:hover {background-color: #d4ebff;}#sk-container-id-1 div.sk-parallel-item::after {content: \"\";width: 100%;border-bottom: 1px solid gray;flex-grow: 1;}#sk-container-id-1 div.sk-label:hover label.sk-toggleable__label {background-color: #d4ebff;}#sk-container-id-1 div.sk-serial::before {content: \"\";position: absolute;border-left: 1px solid gray;box-sizing: border-box;top: 0;bottom: 0;left: 50%;z-index: 0;}#sk-container-id-1 div.sk-serial {display: flex;flex-direction: column;align-items: center;background-color: white;padding-right: 0.2em;padding-left: 0.2em;position: relative;}#sk-container-id-1 div.sk-item {position: relative;z-index: 1;}#sk-container-id-1 div.sk-parallel {display: flex;align-items: stretch;justify-content: center;background-color: white;position: relative;}#sk-container-id-1 div.sk-item::before, #sk-container-id-1 div.sk-parallel-item::before {content: \"\";position: absolute;border-left: 1px solid gray;box-sizing: border-box;top: 0;bottom: 0;left: 50%;z-index: -1;}#sk-container-id-1 div.sk-parallel-item {display: flex;flex-direction: column;z-index: 1;position: relative;background-color: white;}#sk-container-id-1 div.sk-parallel-item:first-child::after {align-self: flex-end;width: 50%;}#sk-container-id-1 div.sk-parallel-item:last-child::after {align-self: flex-start;width: 50%;}#sk-container-id-1 div.sk-parallel-item:only-child::after {width: 0;}#sk-container-id-1 div.sk-dashed-wrapped {border: 1px dashed gray;margin: 0 0.4em 0.5em 0.4em;box-sizing: border-box;padding-bottom: 0.4em;background-color: white;}#sk-container-id-1 div.sk-label label {font-family: monospace;font-weight: bold;display: inline-block;line-height: 1.2em;}#sk-container-id-1 div.sk-label-container {text-align: center;}#sk-container-id-1 div.sk-container {/* jupyter's `normalize.less` sets `[hidden] { display: none; }` but bootstrap.min.css set `[hidden] { display: none !important; }` so we also need the `!important` here to be able to override the default hidden behavior on the sphinx rendered scikit-learn.org. See: https://github.com/scikit-learn/scikit-learn/issues/21755 */display: inline-block !important;position: relative;}#sk-container-id-1 div.sk-text-repr-fallback {display: none;}</style><div id=\"sk-container-id-1\" class=\"sk-top-container\"><div class=\"sk-text-repr-fallback\"><pre>DecisionTreeClassifier(random_state=42)</pre><b>In a Jupyter environment, please rerun this cell to show the HTML representation or trust the notebook. <br />On GitHub, the HTML representation is unable to render, please try loading this page with nbviewer.org.</b></div><div class=\"sk-container\" hidden><div class=\"sk-item\"><div class=\"sk-estimator sk-toggleable\"><input class=\"sk-toggleable__control sk-hidden--visually\" id=\"sk-estimator-id-1\" type=\"checkbox\" checked><label for=\"sk-estimator-id-1\" class=\"sk-toggleable__label sk-toggleable__label-arrow\">DecisionTreeClassifier</label><div class=\"sk-toggleable__content\"><pre>DecisionTreeClassifier(random_state=42)</pre></div></div></div></div></div>"
      ],
      "text/plain": [
       "DecisionTreeClassifier(random_state=42)"
      ]
     },
     "execution_count": 12,
     "metadata": {},
     "output_type": "execute_result"
    }
   ],
   "source": [
    "# Train the decision tree classifier\n",
    "clf = DecisionTreeClassifier(random_state=42)\n",
    "clf.fit(X_train_resampled, y_train_resampled)"
   ]
  },
  {
   "cell_type": "code",
   "execution_count": 13,
   "id": "282b9148",
   "metadata": {},
   "outputs": [],
   "source": [
    "y_pred = clf.predict(X_test_counts)"
   ]
  },
  {
   "cell_type": "code",
   "execution_count": 14,
   "id": "813cc202",
   "metadata": {},
   "outputs": [
    {
     "name": "stdout",
     "output_type": "stream",
     "text": [
      "Accuracy: 0.575\n"
     ]
    }
   ],
   "source": [
    "# Calculate and print accuracy\n",
    "accuracy = accuracy_score(y_test, y_pred)\n",
    "print(\"Accuracy:\", accuracy)"
   ]
  },
  {
   "cell_type": "code",
   "execution_count": 15,
   "id": "6ce2cfb7",
   "metadata": {},
   "outputs": [
    {
     "name": "stdout",
     "output_type": "stream",
     "text": [
      "Precision: 0.9298245614035088\n"
     ]
    }
   ],
   "source": [
    "# Calculate precision, recall, and F1-score\n",
    "precision = precision_score(y_test, y_pred, pos_label='positive')\n",
    "print(\"Precision:\", precision)"
   ]
  },
  {
   "cell_type": "code",
   "execution_count": 16,
   "id": "d0f1e0fa",
   "metadata": {},
   "outputs": [
    {
     "name": "stdout",
     "output_type": "stream",
     "text": [
      "Recall: 0.5792349726775956\n"
     ]
    }
   ],
   "source": [
    "recall = recall_score(y_test, y_pred, pos_label='positive')\n",
    "print(\"Recall:\", recall)\n",
    "\n"
   ]
  },
  {
   "cell_type": "code",
   "execution_count": 17,
   "id": "c9103e5a",
   "metadata": {},
   "outputs": [
    {
     "name": "stdout",
     "output_type": "stream",
     "text": [
      "F1 Score: 0.7138047138047138\n"
     ]
    }
   ],
   "source": [
    "f1 = f1_score(y_test, y_pred, pos_label='positive')\n",
    "print(\"F1 Score:\", f1)\n",
    "\n"
   ]
  },
  {
   "cell_type": "code",
   "execution_count": 18,
   "id": "9becde3d",
   "metadata": {},
   "outputs": [
    {
     "name": "stdout",
     "output_type": "stream",
     "text": [
      "New Comment:  I hated the Apple Vision Pro\n",
      "Predicted Sentiment: negative\n"
     ]
    }
   ],
   "source": [
    "# Example of predicting sentiment of a new text\n",
    "new_text = \"I hated the Apple Vision Pro\"\n",
    "print(\"New Comment: \",new_text)\n",
    "new_text_processed = \" \".join(new_text.split())  # Remove extra spaces if any\n",
    "new_text_counts = vectorizer.transform([new_text_processed])\n",
    "predicted_sentiment = clf.predict(new_text_counts)[0]\n",
    "print(\"Predicted Sentiment:\", predicted_sentiment)"
   ]
  },
  {
   "cell_type": "code",
   "execution_count": 19,
   "id": "a3d7ce2b",
   "metadata": {},
   "outputs": [],
   "source": [
    "# Generate confusion matrix\n",
    "conf_matrix = confusion_matrix(y_test, y_pred)\n",
    "\n"
   ]
  },
  {
   "cell_type": "code",
   "execution_count": 20,
   "id": "28301900",
   "metadata": {},
   "outputs": [
    {
     "data": {
      "image/png": "[encoded data removed]",
      "text/plain": [
       "<Figure size 576x432 with 2 Axes>"
      ]
     },
     "metadata": {
      "needs_background": "light"
     },
     "output_type": "display_data"
    }
   ],
   "source": [
    "# Plot confusion matrix\n",
    "plt.figure(figsize=(8, 6))\n",
    "sns.heatmap(conf_matrix, annot=True, fmt=\"d\", cmap=\"Blues\", xticklabels=['negative', 'positive'], yticklabels=['negative', 'positive'])\n",
    "plt.xlabel('Predicted')\n",
    "plt.ylabel('Actual')\n",
    "plt.title('Confusion Matrix')\n",
    "plt.show()"
   ]
  },
  {
   "cell_type": "code",
   "execution_count": 21,
   "id": "3e67dd0b",
   "metadata": {},
   "outputs": [
    {
     "name": "stdout",
     "output_type": "stream",
     "text": [
      "|--- feature_1581 <= 0.50\n",
      "|   |--- feature_104 <= 0.50\n",
      "|   |   |--- feature_1365 <= 0.50\n",
      "|   |   |   |--- feature_76 <= 0.50\n",
      "|   |   |   |   |--- feature_62 <= 0.50\n",
      "|   |   |   |   |   |--- feature_1610 <= 0.50\n",
      "|   |   |   |   |   |   |--- feature_537 <= 0.50\n",
      "|   |   |   |   |   |   |   |--- feature_833 <= 0.50\n",
      "|   |   |   |   |   |   |   |   |--- feature_1583 <= 0.50\n",
      "|   |   |   |   |   |   |   |   |   |--- feature_1567 <= 0.50\n",
      "|   |   |   |   |   |   |   |   |   |   |--- feature_1403 <= 0.50\n",
      "|   |   |   |   |   |   |   |   |   |   |   |--- truncated branch of depth 220\n",
      "|   |   |   |   |   |   |   |   |   |   |--- feature_1403 >  0.50\n",
      "|   |   |   |   |   |   |   |   |   |   |   |--- class: positive\n",
      "|   |   |   |   |   |   |   |   |   |--- feature_1567 >  0.50\n",
      "|   |   |   |   |   |   |   |   |   |   |--- class: positive\n",
      "|   |   |   |   |   |   |   |   |--- feature_1583 >  0.50\n",
      "|   |   |   |   |   |   |   |   |   |--- class: positive\n",
      "|   |   |   |   |   |   |   |--- feature_833 >  0.50\n",
      "|   |   |   |   |   |   |   |   |--- feature_170 <= 0.50\n",
      "|   |   |   |   |   |   |   |   |   |--- class: positive\n",
      "|   |   |   |   |   |   |   |   |--- feature_170 >  0.50\n",
      "|   |   |   |   |   |   |   |   |   |--- class: negative\n",
      "|   |   |   |   |   |   |--- feature_537 >  0.50\n",
      "|   |   |   |   |   |   |   |--- feature_1274 <= 0.50\n",
      "|   |   |   |   |   |   |   |   |--- class: positive\n",
      "|   |   |   |   |   |   |   |--- feature_1274 >  0.50\n",
      "|   |   |   |   |   |   |   |   |--- class: negative\n",
      "|   |   |   |   |   |--- feature_1610 >  0.50\n",
      "|   |   |   |   |   |   |--- class: positive\n",
      "|   |   |   |   |--- feature_62 >  0.50\n",
      "|   |   |   |   |   |--- feature_784 <= 0.50\n",
      "|   |   |   |   |   |   |--- feature_136 <= 0.50\n",
      "|   |   |   |   |   |   |   |--- feature_499 <= 0.50\n",
      "|   |   |   |   |   |   |   |   |--- class: positive\n",
      "|   |   |   |   |   |   |   |--- feature_499 >  0.50\n",
      "|   |   |   |   |   |   |   |   |--- class: negative\n",
      "|   |   |   |   |   |   |--- feature_136 >  0.50\n",
      "|   |   |   |   |   |   |   |--- class: negative\n",
      "|   |   |   |   |   |--- feature_784 >  0.50\n",
      "|   |   |   |   |   |   |--- class: negative\n",
      "|   |   |   |--- feature_76 >  0.50\n",
      "|   |   |   |   |--- feature_986 <= 0.50\n",
      "|   |   |   |   |   |--- class: positive\n",
      "|   |   |   |   |--- feature_986 >  0.50\n",
      "|   |   |   |   |   |--- class: negative\n",
      "|   |   |--- feature_1365 >  0.50\n",
      "|   |   |   |--- class: positive\n",
      "|   |--- feature_104 >  0.50\n",
      "|   |   |--- feature_705 <= 0.50\n",
      "|   |   |   |--- feature_909 <= 0.50\n",
      "|   |   |   |   |--- feature_1414 <= 0.50\n",
      "|   |   |   |   |   |--- feature_393 <= 0.50\n",
      "|   |   |   |   |   |   |--- feature_1008 <= 0.50\n",
      "|   |   |   |   |   |   |   |--- feature_684 <= 0.50\n",
      "|   |   |   |   |   |   |   |   |--- feature_1671 <= 0.50\n",
      "|   |   |   |   |   |   |   |   |   |--- feature_653 <= 1.00\n",
      "|   |   |   |   |   |   |   |   |   |   |--- feature_1279 <= 0.50\n",
      "|   |   |   |   |   |   |   |   |   |   |   |--- truncated branch of depth 60\n",
      "|   |   |   |   |   |   |   |   |   |   |--- feature_1279 >  0.50\n",
      "|   |   |   |   |   |   |   |   |   |   |   |--- class: negative\n",
      "|   |   |   |   |   |   |   |   |   |--- feature_653 >  1.00\n",
      "|   |   |   |   |   |   |   |   |   |   |--- class: negative\n",
      "|   |   |   |   |   |   |   |   |--- feature_1671 >  0.50\n",
      "|   |   |   |   |   |   |   |   |   |--- class: negative\n",
      "|   |   |   |   |   |   |   |--- feature_684 >  0.50\n",
      "|   |   |   |   |   |   |   |   |--- class: negative\n",
      "|   |   |   |   |   |   |--- feature_1008 >  0.50\n",
      "|   |   |   |   |   |   |   |--- class: negative\n",
      "|   |   |   |   |   |--- feature_393 >  0.50\n",
      "|   |   |   |   |   |   |--- class: negative\n",
      "|   |   |   |   |--- feature_1414 >  0.50\n",
      "|   |   |   |   |   |--- class: negative\n",
      "|   |   |   |--- feature_909 >  0.50\n",
      "|   |   |   |   |--- class: negative\n",
      "|   |   |--- feature_705 >  0.50\n",
      "|   |   |   |--- class: negative\n",
      "|--- feature_1581 >  0.50\n",
      "|   |--- feature_65 <= 0.50\n",
      "|   |   |--- feature_519 <= 0.50\n",
      "|   |   |   |--- feature_1130 <= 0.50\n",
      "|   |   |   |   |--- feature_62 <= 0.50\n",
      "|   |   |   |   |   |--- feature_1641 <= 0.50\n",
      "|   |   |   |   |   |   |--- feature_476 <= 0.50\n",
      "|   |   |   |   |   |   |   |--- feature_965 <= 0.50\n",
      "|   |   |   |   |   |   |   |   |--- feature_303 <= 0.50\n",
      "|   |   |   |   |   |   |   |   |   |--- feature_1667 <= 0.50\n",
      "|   |   |   |   |   |   |   |   |   |   |--- feature_765 <= 0.50\n",
      "|   |   |   |   |   |   |   |   |   |   |   |--- truncated branch of depth 4\n",
      "|   |   |   |   |   |   |   |   |   |   |--- feature_765 >  0.50\n",
      "|   |   |   |   |   |   |   |   |   |   |   |--- class: positive\n",
      "|   |   |   |   |   |   |   |   |   |--- feature_1667 >  0.50\n",
      "|   |   |   |   |   |   |   |   |   |   |--- class: positive\n",
      "|   |   |   |   |   |   |   |   |--- feature_303 >  0.50\n",
      "|   |   |   |   |   |   |   |   |   |--- class: positive\n",
      "|   |   |   |   |   |   |   |--- feature_965 >  0.50\n",
      "|   |   |   |   |   |   |   |   |--- class: positive\n",
      "|   |   |   |   |   |   |--- feature_476 >  0.50\n",
      "|   |   |   |   |   |   |   |--- class: positive\n",
      "|   |   |   |   |   |--- feature_1641 >  0.50\n",
      "|   |   |   |   |   |   |--- class: positive\n",
      "|   |   |   |   |--- feature_62 >  0.50\n",
      "|   |   |   |   |   |--- class: negative\n",
      "|   |   |   |--- feature_1130 >  0.50\n",
      "|   |   |   |   |--- feature_62 <= 0.50\n",
      "|   |   |   |   |   |--- feature_103 <= 0.50\n",
      "|   |   |   |   |   |   |--- feature_1563 <= 0.50\n",
      "|   |   |   |   |   |   |   |--- feature_779 <= 0.50\n",
      "|   |   |   |   |   |   |   |   |--- feature_1156 <= 0.50\n",
      "|   |   |   |   |   |   |   |   |   |--- feature_1657 <= 0.50\n",
      "|   |   |   |   |   |   |   |   |   |   |--- feature_979 <= 0.50\n",
      "|   |   |   |   |   |   |   |   |   |   |   |--- truncated branch of depth 35\n",
      "|   |   |   |   |   |   |   |   |   |   |--- feature_979 >  0.50\n",
      "|   |   |   |   |   |   |   |   |   |   |   |--- class: positive\n",
      "|   |   |   |   |   |   |   |   |   |--- feature_1657 >  0.50\n",
      "|   |   |   |   |   |   |   |   |   |   |--- class: positive\n",
      "|   |   |   |   |   |   |   |   |--- feature_1156 >  0.50\n",
      "|   |   |   |   |   |   |   |   |   |--- class: positive\n",
      "|   |   |   |   |   |   |   |--- feature_779 >  0.50\n",
      "|   |   |   |   |   |   |   |   |--- class: positive\n",
      "|   |   |   |   |   |   |--- feature_1563 >  0.50\n",
      "|   |   |   |   |   |   |   |--- class: positive\n",
      "|   |   |   |   |   |--- feature_103 >  0.50\n",
      "|   |   |   |   |   |   |--- class: positive\n",
      "|   |   |   |   |--- feature_62 >  0.50\n",
      "|   |   |   |   |   |--- class: positive\n",
      "|   |   |--- feature_519 >  0.50\n",
      "|   |   |   |--- class: negative\n",
      "|   |--- feature_65 >  0.50\n",
      "|   |   |--- feature_519 <= 0.50\n",
      "|   |   |   |--- feature_1192 <= 0.50\n",
      "|   |   |   |   |--- feature_796 <= 0.50\n",
      "|   |   |   |   |   |--- feature_166 <= 0.50\n",
      "|   |   |   |   |   |   |--- feature_492 <= 0.50\n",
      "|   |   |   |   |   |   |   |--- feature_1246 <= 0.50\n",
      "|   |   |   |   |   |   |   |   |--- feature_65 <= 1.50\n",
      "|   |   |   |   |   |   |   |   |   |--- feature_537 <= 0.50\n",
      "|   |   |   |   |   |   |   |   |   |   |--- feature_1234 <= 0.50\n",
      "|   |   |   |   |   |   |   |   |   |   |   |--- truncated branch of depth 51\n",
      "|   |   |   |   |   |   |   |   |   |   |--- feature_1234 >  0.50\n",
      "|   |   |   |   |   |   |   |   |   |   |   |--- class: positive\n",
      "|   |   |   |   |   |   |   |   |   |--- feature_537 >  0.50\n",
      "|   |   |   |   |   |   |   |   |   |   |--- class: positive\n",
      "|   |   |   |   |   |   |   |   |--- feature_65 >  1.50\n",
      "|   |   |   |   |   |   |   |   |   |--- class: positive\n",
      "|   |   |   |   |   |   |   |--- feature_1246 >  0.50\n",
      "|   |   |   |   |   |   |   |   |--- class: negative\n",
      "|   |   |   |   |   |   |--- feature_492 >  0.50\n",
      "|   |   |   |   |   |   |   |--- class: negative\n",
      "|   |   |   |   |   |--- feature_166 >  0.50\n",
      "|   |   |   |   |   |   |--- class: negative\n",
      "|   |   |   |   |--- feature_796 >  0.50\n",
      "|   |   |   |   |   |--- class: negative\n",
      "|   |   |   |--- feature_1192 >  0.50\n",
      "|   |   |   |   |--- class: negative\n",
      "|   |   |--- feature_519 >  0.50\n",
      "|   |   |   |--- class: negative\n",
      "\n"
     ]
    }
   ],
   "source": [
    "from sklearn import tree\n",
    "text_representation = tree.export_text(clf)\n",
    "print(text_representation)"
   ]
  },
  {
   "cell_type": "code",
   "execution_count": 22,
   "id": "4c21a389",
   "metadata": {},
   "outputs": [],
   "source": [
    "with open(\"decistion_tree.log\", \"w\") as fout:\n",
    "    fout.write(text_representation)"
   ]
  },
  {
   "cell_type": "code",
   "execution_count": 25,
   "id": "7599e11e",
   "metadata": {
    "scrolled": false
   },
   "outputs": [
    {
     "data": {
      "image/png": "[encoded data removed]",
      "text/plain": [
       "<Figure size 432x288 with 1 Axes>"
      ]
     },
     "metadata": {
      "needs_background": "light"
     },
     "output_type": "display_data"
    }
   ],
   "source": [
    "tree.plot_tree(clf)\n",
    "plt.show()"
   ]
  },
  {
   "cell_type": "code",
   "execution_count": 46,
   "id": "0955be0c",
   "metadata": {},
   "outputs": [],
   "source": [
    "cn=list(clf.classes_)"
   ]
  },
  {
   "cell_type": "code",
   "execution_count": 47,
   "id": "4f99a8a7",
   "metadata": {},
   "outputs": [
    {
     "data": {
      "text/plain": [
       "list"
      ]
     },
     "execution_count": 47,
     "metadata": {},
     "output_type": "execute_result"
    }
   ],
   "source": [
    "type(cn)"
   ]
  },
  {
   "cell_type": "code",
   "execution_count": 48,
   "id": "721f5810",
   "metadata": {},
   "outputs": [
    {
     "data": {
      "text/plain": [
       "array(['able', 'abroad', 'absolutely', ..., 'zoom', 'zoomdoes', 'zwift'],\n",
       "      dtype=object)"
      ]
     },
     "execution_count": 48,
     "metadata": {},
     "output_type": "execute_result"
    }
   ],
   "source": [
    "vectorizer.get_feature_names_out()"
   ]
  },
  {
   "cell_type": "code",
   "execution_count": 49,
   "id": "ee61fe56",
   "metadata": {},
   "outputs": [],
   "source": [
    "fn = list(vectorizer.get_feature_names_out())"
   ]
  },
  {
   "cell_type": "code",
   "execution_count": 50,
   "id": "73cebfaa",
   "metadata": {},
   "outputs": [
    {
     "data": {
      "text/plain": [
       "list"
      ]
     },
     "execution_count": 50,
     "metadata": {},
     "output_type": "execute_result"
    }
   ],
   "source": [
    "type(fn)"
   ]
  },
  {
   "cell_type": "code",
   "execution_count": 61,
   "id": "093c6e31",
   "metadata": {},
   "outputs": [
    {
     "data": {
      "text/plain": [
       "1694"
      ]
     },
     "execution_count": 61,
     "metadata": {},
     "output_type": "execute_result"
    }
   ],
   "source": [
    "len(fn)"
   ]
  },
  {
   "cell_type": "code",
   "execution_count": 62,
   "id": "628dd8f3",
   "metadata": {},
   "outputs": [],
   "source": [
    "trimmed_fn = fn[0:100]"
   ]
  },
  {
   "cell_type": "code",
   "execution_count": 63,
   "id": "de98af73",
   "metadata": {
    "scrolled": true
   },
   "outputs": [
    {
     "data": {
      "text/plain": [
       "['able',\n",
       " 'abroad',\n",
       " 'absolutely',\n",
       " 'access',\n",
       " 'accessibility',\n",
       " 'accessories',\n",
       " 'accident',\n",
       " 'accidental',\n",
       " 'accidentallyish',\n",
       " 'account',\n",
       " 'accounts',\n",
       " 'accuracy',\n",
       " 'across',\n",
       " 'activated',\n",
       " 'actual',\n",
       " 'actually',\n",
       " 'adam',\n",
       " 'add',\n",
       " 'added',\n",
       " 'addicted',\n",
       " 'addiction',\n",
       " 'additions',\n",
       " 'adobe',\n",
       " 'adopter',\n",
       " 'adoption',\n",
       " 'adults',\n",
       " 'advice',\n",
       " 'ai',\n",
       " 'air',\n",
       " 'airlauncher',\n",
       " 'airplane',\n",
       " 'airplay',\n",
       " 'airpod',\n",
       " 'airpods',\n",
       " 'albums',\n",
       " 'allow',\n",
       " 'almost',\n",
       " 'along',\n",
       " 'already',\n",
       " 'also',\n",
       " 'alternatives',\n",
       " 'although',\n",
       " 'alvr',\n",
       " 'always',\n",
       " 'alyx',\n",
       " 'amazed',\n",
       " 'amazing',\n",
       " 'amazon',\n",
       " 'analysis',\n",
       " 'angles',\n",
       " 'anime',\n",
       " 'announced',\n",
       " 'announcements',\n",
       " 'announcing',\n",
       " 'answer',\n",
       " 'anticipatory',\n",
       " 'anxiety',\n",
       " 'anybody',\n",
       " 'anymore',\n",
       " 'anyone',\n",
       " 'anything',\n",
       " 'anywhere',\n",
       " 'app',\n",
       " 'appealing',\n",
       " 'appgame',\n",
       " 'apple',\n",
       " 'applecare',\n",
       " 'apples',\n",
       " 'appletv',\n",
       " 'applevision',\n",
       " 'applevisionpro',\n",
       " 'applications',\n",
       " 'applied',\n",
       " 'appointment',\n",
       " 'appropriate',\n",
       " 'approval',\n",
       " 'apps',\n",
       " 'apv',\n",
       " 'ar',\n",
       " 'arc',\n",
       " 'arch',\n",
       " 'architecture',\n",
       " 'area',\n",
       " 'arent',\n",
       " 'arm',\n",
       " 'army',\n",
       " 'around',\n",
       " 'arounds',\n",
       " 'arrives',\n",
       " 'art',\n",
       " 'article',\n",
       " 'arvr',\n",
       " 'asap',\n",
       " 'aside',\n",
       " 'ask',\n",
       " 'atmos',\n",
       " 'attention',\n",
       " 'attractive',\n",
       " 'audio',\n",
       " 'aura']"
      ]
     },
     "execution_count": 63,
     "metadata": {},
     "output_type": "execute_result"
    }
   ],
   "source": [
    "trimmed_fn"
   ]
  },
  {
   "cell_type": "code",
   "execution_count": 65,
   "id": "2922f2e3",
   "metadata": {
    "scrolled": true
   },
   "outputs": [
    {
     "data": {
      "image/png": "[encoded data removed]",
      "text/plain": [
       "<Figure size 1440x720 with 1 Axes>"
      ]
     },
     "metadata": {
      "needs_background": "light"
     },
     "output_type": "display_data"
    }
   ],
   "source": [
    "plt.figure(figsize=(20,10))\n",
    "plot_tree(clf, filled=True, feature_names=fn, class_names=cn)\n",
    "plt.savefig('decision_tree_big_1.png')\n",
    "plt.show()"
   ]
  },
  {
   "cell_type": "code",
   "execution_count": 64,
   "id": "86936a02",
   "metadata": {},
   "outputs": [
    {
     "ename": "IndexError",
     "evalue": "list index out of range",
     "output_type": "error",
     "traceback": [
      "\u001b[1;31m---------------------------------------------------------------------------\u001b[0m",
      "\u001b[1;31mIndexError\u001b[0m                                Traceback (most recent call last)",
      "Input \u001b[1;32mIn [64]\u001b[0m, in \u001b[0;36m<cell line: 2>\u001b[1;34m()\u001b[0m\n\u001b[0;32m      1\u001b[0m plt\u001b[38;5;241m.\u001b[39mfigure(figsize\u001b[38;5;241m=\u001b[39m(\u001b[38;5;241m20\u001b[39m,\u001b[38;5;241m10\u001b[39m))\n\u001b[1;32m----> 2\u001b[0m \u001b[43mplot_tree\u001b[49m\u001b[43m(\u001b[49m\u001b[43mclf\u001b[49m\u001b[43m,\u001b[49m\u001b[43m \u001b[49m\u001b[43mfilled\u001b[49m\u001b[38;5;241;43m=\u001b[39;49m\u001b[38;5;28;43;01mTrue\u001b[39;49;00m\u001b[43m,\u001b[49m\u001b[43m \u001b[49m\u001b[43mfeature_names\u001b[49m\u001b[38;5;241;43m=\u001b[39;49m\u001b[43mtrimmed_fn\u001b[49m\u001b[43m,\u001b[49m\u001b[43m \u001b[49m\u001b[43mclass_names\u001b[49m\u001b[38;5;241;43m=\u001b[39;49m\u001b[43mcn\u001b[49m\u001b[43m)\u001b[49m\n\u001b[0;32m      3\u001b[0m \u001b[38;5;66;03m#plt.savefig('decision_tree_big.png')\u001b[39;00m\n\u001b[0;32m      4\u001b[0m plt\u001b[38;5;241m.\u001b[39mshow()\n",
      "File \u001b[1;32m~\\anaconda3\\lib\\site-packages\\sklearn\\utils\\_param_validation.py:211\u001b[0m, in \u001b[0;36mvalidate_params.<locals>.decorator.<locals>.wrapper\u001b[1;34m(*args, **kwargs)\u001b[0m\n\u001b[0;32m    205\u001b[0m \u001b[38;5;28;01mtry\u001b[39;00m:\n\u001b[0;32m    206\u001b[0m     \u001b[38;5;28;01mwith\u001b[39;00m config_context(\n\u001b[0;32m    207\u001b[0m         skip_parameter_validation\u001b[38;5;241m=\u001b[39m(\n\u001b[0;32m    208\u001b[0m             prefer_skip_nested_validation \u001b[38;5;129;01mor\u001b[39;00m global_skip_validation\n\u001b[0;32m    209\u001b[0m         )\n\u001b[0;32m    210\u001b[0m     ):\n\u001b[1;32m--> 211\u001b[0m         \u001b[38;5;28;01mreturn\u001b[39;00m func(\u001b[38;5;241m*\u001b[39margs, \u001b[38;5;241m*\u001b[39m\u001b[38;5;241m*\u001b[39mkwargs)\n\u001b[0;32m    212\u001b[0m \u001b[38;5;28;01mexcept\u001b[39;00m InvalidParameterError \u001b[38;5;28;01mas\u001b[39;00m e:\n\u001b[0;32m    213\u001b[0m     \u001b[38;5;66;03m# When the function is just a wrapper around an estimator, we allow\u001b[39;00m\n\u001b[0;32m    214\u001b[0m     \u001b[38;5;66;03m# the function to delegate validation to the estimator, but we replace\u001b[39;00m\n\u001b[0;32m    215\u001b[0m     \u001b[38;5;66;03m# the name of the estimator by the name of the function in the error\u001b[39;00m\n\u001b[0;32m    216\u001b[0m     \u001b[38;5;66;03m# message to avoid confusion.\u001b[39;00m\n\u001b[0;32m    217\u001b[0m     msg \u001b[38;5;241m=\u001b[39m re\u001b[38;5;241m.\u001b[39msub(\n\u001b[0;32m    218\u001b[0m         \u001b[38;5;124mr\u001b[39m\u001b[38;5;124m\"\u001b[39m\u001b[38;5;124mparameter of \u001b[39m\u001b[38;5;124m\\\u001b[39m\u001b[38;5;124mw+ must be\u001b[39m\u001b[38;5;124m\"\u001b[39m,\n\u001b[0;32m    219\u001b[0m         \u001b[38;5;124mf\u001b[39m\u001b[38;5;124m\"\u001b[39m\u001b[38;5;124mparameter of \u001b[39m\u001b[38;5;132;01m{\u001b[39;00mfunc\u001b[38;5;241m.\u001b[39m\u001b[38;5;18m__qualname__\u001b[39m\u001b[38;5;132;01m}\u001b[39;00m\u001b[38;5;124m must be\u001b[39m\u001b[38;5;124m\"\u001b[39m,\n\u001b[0;32m    220\u001b[0m         \u001b[38;5;28mstr\u001b[39m(e),\n\u001b[0;32m    221\u001b[0m     )\n",
      "File \u001b[1;32m~\\anaconda3\\lib\\site-packages\\sklearn\\tree\\_export.py:211\u001b[0m, in \u001b[0;36mplot_tree\u001b[1;34m(decision_tree, max_depth, feature_names, class_names, label, filled, impurity, node_ids, proportion, rounded, precision, ax, fontsize)\u001b[0m\n\u001b[0;32m    196\u001b[0m check_is_fitted(decision_tree)\n\u001b[0;32m    198\u001b[0m exporter \u001b[38;5;241m=\u001b[39m _MPLTreeExporter(\n\u001b[0;32m    199\u001b[0m     max_depth\u001b[38;5;241m=\u001b[39mmax_depth,\n\u001b[0;32m    200\u001b[0m     feature_names\u001b[38;5;241m=\u001b[39mfeature_names,\n\u001b[1;32m   (...)\u001b[0m\n\u001b[0;32m    209\u001b[0m     fontsize\u001b[38;5;241m=\u001b[39mfontsize,\n\u001b[0;32m    210\u001b[0m )\n\u001b[1;32m--> 211\u001b[0m \u001b[38;5;28;01mreturn\u001b[39;00m \u001b[43mexporter\u001b[49m\u001b[38;5;241;43m.\u001b[39;49m\u001b[43mexport\u001b[49m\u001b[43m(\u001b[49m\u001b[43mdecision_tree\u001b[49m\u001b[43m,\u001b[49m\u001b[43m \u001b[49m\u001b[43max\u001b[49m\u001b[38;5;241;43m=\u001b[39;49m\u001b[43max\u001b[49m\u001b[43m)\u001b[49m\n",
      "File \u001b[1;32m~\\anaconda3\\lib\\site-packages\\sklearn\\tree\\_export.py:643\u001b[0m, in \u001b[0;36m_MPLTreeExporter.export\u001b[1;34m(self, decision_tree, ax)\u001b[0m\n\u001b[0;32m    641\u001b[0m ax\u001b[38;5;241m.\u001b[39mclear()\n\u001b[0;32m    642\u001b[0m ax\u001b[38;5;241m.\u001b[39mset_axis_off()\n\u001b[1;32m--> 643\u001b[0m my_tree \u001b[38;5;241m=\u001b[39m \u001b[38;5;28;43mself\u001b[39;49m\u001b[38;5;241;43m.\u001b[39;49m\u001b[43m_make_tree\u001b[49m\u001b[43m(\u001b[49m\u001b[38;5;241;43m0\u001b[39;49m\u001b[43m,\u001b[49m\u001b[43m \u001b[49m\u001b[43mdecision_tree\u001b[49m\u001b[38;5;241;43m.\u001b[39;49m\u001b[43mtree_\u001b[49m\u001b[43m,\u001b[49m\u001b[43m \u001b[49m\u001b[43mdecision_tree\u001b[49m\u001b[38;5;241;43m.\u001b[39;49m\u001b[43mcriterion\u001b[49m\u001b[43m)\u001b[49m\n\u001b[0;32m    644\u001b[0m draw_tree \u001b[38;5;241m=\u001b[39m buchheim(my_tree)\n\u001b[0;32m    646\u001b[0m \u001b[38;5;66;03m# important to make sure we're still\u001b[39;00m\n\u001b[0;32m    647\u001b[0m \u001b[38;5;66;03m# inside the axis after drawing the box\u001b[39;00m\n\u001b[0;32m    648\u001b[0m \u001b[38;5;66;03m# this makes sense because the width of a box\u001b[39;00m\n\u001b[0;32m    649\u001b[0m \u001b[38;5;66;03m# is about the same as the distance between boxes\u001b[39;00m\n",
      "File \u001b[1;32m~\\anaconda3\\lib\\site-packages\\sklearn\\tree\\_export.py:619\u001b[0m, in \u001b[0;36m_MPLTreeExporter._make_tree\u001b[1;34m(self, node_id, et, criterion, depth)\u001b[0m\n\u001b[0;32m    616\u001b[0m \u001b[38;5;28;01mdef\u001b[39;00m \u001b[38;5;21m_make_tree\u001b[39m(\u001b[38;5;28mself\u001b[39m, node_id, et, criterion, depth\u001b[38;5;241m=\u001b[39m\u001b[38;5;241m0\u001b[39m):\n\u001b[0;32m    617\u001b[0m     \u001b[38;5;66;03m# traverses _tree.Tree recursively, builds intermediate\u001b[39;00m\n\u001b[0;32m    618\u001b[0m     \u001b[38;5;66;03m# \"_reingold_tilford.Tree\" object\u001b[39;00m\n\u001b[1;32m--> 619\u001b[0m     name \u001b[38;5;241m=\u001b[39m \u001b[38;5;28;43mself\u001b[39;49m\u001b[38;5;241;43m.\u001b[39;49m\u001b[43mnode_to_str\u001b[49m\u001b[43m(\u001b[49m\u001b[43met\u001b[49m\u001b[43m,\u001b[49m\u001b[43m \u001b[49m\u001b[43mnode_id\u001b[49m\u001b[43m,\u001b[49m\u001b[43m \u001b[49m\u001b[43mcriterion\u001b[49m\u001b[38;5;241;43m=\u001b[39;49m\u001b[43mcriterion\u001b[49m\u001b[43m)\u001b[49m\n\u001b[0;32m    620\u001b[0m     \u001b[38;5;28;01mif\u001b[39;00m et\u001b[38;5;241m.\u001b[39mchildren_left[node_id] \u001b[38;5;241m!=\u001b[39m _tree\u001b[38;5;241m.\u001b[39mTREE_LEAF \u001b[38;5;129;01mand\u001b[39;00m (\n\u001b[0;32m    621\u001b[0m         \u001b[38;5;28mself\u001b[39m\u001b[38;5;241m.\u001b[39mmax_depth \u001b[38;5;129;01mis\u001b[39;00m \u001b[38;5;28;01mNone\u001b[39;00m \u001b[38;5;129;01mor\u001b[39;00m depth \u001b[38;5;241m<\u001b[39m\u001b[38;5;241m=\u001b[39m \u001b[38;5;28mself\u001b[39m\u001b[38;5;241m.\u001b[39mmax_depth\n\u001b[0;32m    622\u001b[0m     ):\n\u001b[0;32m    623\u001b[0m         children \u001b[38;5;241m=\u001b[39m [\n\u001b[0;32m    624\u001b[0m             \u001b[38;5;28mself\u001b[39m\u001b[38;5;241m.\u001b[39m_make_tree(\n\u001b[0;32m    625\u001b[0m                 et\u001b[38;5;241m.\u001b[39mchildren_left[node_id], et, criterion, depth\u001b[38;5;241m=\u001b[39mdepth \u001b[38;5;241m+\u001b[39m \u001b[38;5;241m1\u001b[39m\n\u001b[1;32m   (...)\u001b[0m\n\u001b[0;32m    629\u001b[0m             ),\n\u001b[0;32m    630\u001b[0m         ]\n",
      "File \u001b[1;32m~\\anaconda3\\lib\\site-packages\\sklearn\\tree\\_export.py:310\u001b[0m, in \u001b[0;36m_BaseTreeExporter.node_to_str\u001b[1;34m(self, tree, node_id, criterion)\u001b[0m\n\u001b[0;32m    307\u001b[0m \u001b[38;5;28;01mif\u001b[39;00m tree\u001b[38;5;241m.\u001b[39mchildren_left[node_id] \u001b[38;5;241m!=\u001b[39m _tree\u001b[38;5;241m.\u001b[39mTREE_LEAF:\n\u001b[0;32m    308\u001b[0m     \u001b[38;5;66;03m# Always write node decision criteria, except for leaves\u001b[39;00m\n\u001b[0;32m    309\u001b[0m     \u001b[38;5;28;01mif\u001b[39;00m \u001b[38;5;28mself\u001b[39m\u001b[38;5;241m.\u001b[39mfeature_names \u001b[38;5;129;01mis\u001b[39;00m \u001b[38;5;129;01mnot\u001b[39;00m \u001b[38;5;28;01mNone\u001b[39;00m:\n\u001b[1;32m--> 310\u001b[0m         feature \u001b[38;5;241m=\u001b[39m \u001b[38;5;28;43mself\u001b[39;49m\u001b[38;5;241;43m.\u001b[39;49m\u001b[43mfeature_names\u001b[49m\u001b[43m[\u001b[49m\u001b[43mtree\u001b[49m\u001b[38;5;241;43m.\u001b[39;49m\u001b[43mfeature\u001b[49m\u001b[43m[\u001b[49m\u001b[43mnode_id\u001b[49m\u001b[43m]\u001b[49m\u001b[43m]\u001b[49m\n\u001b[0;32m    311\u001b[0m     \u001b[38;5;28;01melse\u001b[39;00m:\n\u001b[0;32m    312\u001b[0m         feature \u001b[38;5;241m=\u001b[39m \u001b[38;5;124m\"\u001b[39m\u001b[38;5;124mx\u001b[39m\u001b[38;5;132;01m%s\u001b[39;00m\u001b[38;5;132;01m%s\u001b[39;00m\u001b[38;5;132;01m%s\u001b[39;00m\u001b[38;5;124m\"\u001b[39m \u001b[38;5;241m%\u001b[39m (\n\u001b[0;32m    313\u001b[0m             characters[\u001b[38;5;241m1\u001b[39m],\n\u001b[0;32m    314\u001b[0m             tree\u001b[38;5;241m.\u001b[39mfeature[node_id],\n\u001b[0;32m    315\u001b[0m             characters[\u001b[38;5;241m2\u001b[39m],\n\u001b[0;32m    316\u001b[0m         )\n",
      "\u001b[1;31mIndexError\u001b[0m: list index out of range"
     ]
    },
    {
     "data": {
      "image/png": "[encoded data removed]",
      "text/plain": [
       "<Figure size 1440x720 with 1 Axes>"
      ]
     },
     "metadata": {
      "needs_background": "light"
     },
     "output_type": "display_data"
    }
   ],
   "source": [
    "plt.figure(figsize=(20,10))\n",
    "plot_tree(clf, filled=True, feature_names=trimmed_fn, class_names=cn)\n",
    "#plt.savefig('decision_tree_big.png')\n",
    "plt.show()"
   ]
  },
  {
   "cell_type": "markdown",
   "id": "7f3a5de4",
   "metadata": {},
   "source": [
    "from sklearn.tree import export_graphviz\n",
    "import graphviz\n",
    "# DOT data\n",
    "dot_data = export_graphviz(clf, out_file=None, \n",
    "                           feature_names=vectorizer.get_feature_names_out(),\n",
    "                           class_names=['negative', 'positive'],\n",
    "                           filled=True, rounded=True,\n",
    "                           special_characters=True)\n",
    "\n",
    "# Visualize the decision tree\n",
    "graph = graphviz.Source(dot_data)\n",
    "graph.render(\"decision_tree\")"
   ]
  },
  {
   "cell_type": "code",
   "execution_count": 27,
   "id": "762cf7d9",
   "metadata": {},
   "outputs": [
    {
     "data": {
      "image/png": "[encoded data removed]",
      "text/plain": [
       "<Figure size 432x288 with 1 Axes>"
      ]
     },
     "metadata": {
      "needs_background": "light"
     },
     "output_type": "display_data"
    }
   ],
   "source": [
    "from sklearn.tree import plot_tree\n",
    "\n",
    "plt.figure()\n",
    "clf = DecisionTreeClassifier().fit(X_train_resampled, y_train_resampled)\n",
    "plot_tree(clf, filled=True)\n",
    "plt.title(\"Decision tree trained on the features\")\n",
    "plt.show()\n",
    "\n",
    "#X = df['Lemmatized_Words']\n",
    "#y = df['Sentiment_Label']"
   ]
  },
  {
   "cell_type": "code",
   "execution_count": null,
   "id": "ea4dec6a",
   "metadata": {},
   "outputs": [],
   "source": []
  }
 ],
 "metadata": {
  "kernelspec": {
   "display_name": "Python 3 (ipykernel)",
   "language": "python",
   "name": "python3"
  },
  "language_info": {
   "codemirror_mode": {
    "name": "ipython",
    "version": 3
   },
   "file_extension": ".py",
   "mimetype": "text/x-python",
   "name": "python",
   "nbconvert_exporter": "python",
   "pygments_lexer": "ipython3",
   "version": "3.9.12"
  }
 },
 "nbformat": 4,
 "nbformat_minor": 5
}
