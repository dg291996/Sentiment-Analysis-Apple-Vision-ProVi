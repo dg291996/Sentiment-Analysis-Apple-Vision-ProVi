{
 "cells": [
  {
   "cell_type": "code",
   "execution_count": 1,
   "id": "8f6fc94e",
   "metadata": {},
   "outputs": [],
   "source": [
    "import pandas as pd\n",
    "import numpy as np\n",
    "from sklearn.tree import DecisionTreeClassifier\n",
    "from imblearn.over_sampling import SMOTE\n",
    "from sklearn.metrics import accuracy_score, precision_score, recall_score, f1_score, confusion_matrix\n",
    "import seaborn as sns\n",
    "import matplotlib.pyplot as plt\n",
    "from sklearn.model_selection import train_test_split\n",
    "from sklearn.feature_extraction.text import CountVectorizer"
   ]
  },
  {
   "cell_type": "code",
   "execution_count": 2,
   "id": "e734d19c",
   "metadata": {},
   "outputs": [],
   "source": [
    "#pip install graphviz"
   ]
  },
  {
   "cell_type": "code",
   "execution_count": 3,
   "id": "1ef5e516",
   "metadata": {},
   "outputs": [],
   "source": [
    "#pip install imblearn\n"
   ]
  },
  {
   "cell_type": "code",
   "execution_count": 4,
   "id": "212cb168",
   "metadata": {},
   "outputs": [],
   "source": [
    "df= pd.read_csv('Sentiment_Analysis_Data.csv')"
   ]
  },
  {
   "cell_type": "code",
   "execution_count": 5,
   "id": "3b0dbff1",
   "metadata": {
    "scrolled": true
   },
   "outputs": [
    {
     "data": {
      "text/html": [
       "<div>\n",
       "<style scoped>\n",
       "    .dataframe tbody tr th:only-of-type {\n",
       "        vertical-align: middle;\n",
       "    }\n",
       "\n",
       "    .dataframe tbody tr th {\n",
       "        vertical-align: top;\n",
       "    }\n",
       "\n",
       "    .dataframe thead th {\n",
       "        text-align: right;\n",
       "    }\n",
       "</style>\n",
       "<table border=\"1\" class=\"dataframe\">\n",
       "  <thead>\n",
       "    <tr style=\"text-align: right;\">\n",
       "      <th></th>\n",
       "      <th>Unnamed: 0</th>\n",
       "      <th>Index</th>\n",
       "      <th>Title</th>\n",
       "      <th>Author</th>\n",
       "      <th>ID</th>\n",
       "      <th>Created</th>\n",
       "      <th>Original_Title</th>\n",
       "      <th>Without_stopwords</th>\n",
       "      <th>Lemmatized_Words</th>\n",
       "      <th>Pos_tags</th>\n",
       "      <th>...</th>\n",
       "      <th>PCA1</th>\n",
       "      <th>PCA2</th>\n",
       "      <th>For_Cluster_Seven</th>\n",
       "      <th>For_Cluster_Ten</th>\n",
       "      <th>neg</th>\n",
       "      <th>neu</th>\n",
       "      <th>pos</th>\n",
       "      <th>compound</th>\n",
       "      <th>Sentiment</th>\n",
       "      <th>Sentiment_Label</th>\n",
       "    </tr>\n",
       "  </thead>\n",
       "  <tbody>\n",
       "    <tr>\n",
       "      <th>0</th>\n",
       "      <td>0</td>\n",
       "      <td>0</td>\n",
       "      <td>['apple', 'vision', 'pro', 'has', 'ruined', 'm...</td>\n",
       "      <td>Old_Possible8977</td>\n",
       "      <td>1an21fb</td>\n",
       "      <td>2024-02-09 23:34:09</td>\n",
       "      <td>Apple Vision Pro has ruined movies for me</td>\n",
       "      <td>['apple', 'vision', 'pro', 'ruined', 'movies']</td>\n",
       "      <td>['apple', 'vision', 'pro', 'ruined', 'movies']</td>\n",
       "      <td>[('[', 'JJ'), (\"'apple\", 'NNP'), (\"'\", 'POS'),...</td>\n",
       "      <td>...</td>\n",
       "      <td>0.369651</td>\n",
       "      <td>0.018061</td>\n",
       "      <td>0</td>\n",
       "      <td>1</td>\n",
       "      <td>0.279</td>\n",
       "      <td>0.541</td>\n",
       "      <td>0.18</td>\n",
       "      <td>-0.2732</td>\n",
       "      <td>-1</td>\n",
       "      <td>negative</td>\n",
       "    </tr>\n",
       "    <tr>\n",
       "      <th>1</th>\n",
       "      <td>1</td>\n",
       "      <td>1</td>\n",
       "      <td>['its', 'too', 'expensive', 'no', 'regrets']</td>\n",
       "      <td>McNerdsAlot</td>\n",
       "      <td>1akdyzo</td>\n",
       "      <td>2024-02-06 16:35:52</td>\n",
       "      <td>It’s too expensive. No regrets.</td>\n",
       "      <td>['expensive', 'regrets']</td>\n",
       "      <td>['expensive', 'regrets']</td>\n",
       "      <td>[('[', 'RB'), (\"'expensive\", 'JJ'), (\"'\", \"''\"...</td>\n",
       "      <td>...</td>\n",
       "      <td>-0.054405</td>\n",
       "      <td>-0.046932</td>\n",
       "      <td>1</td>\n",
       "      <td>5</td>\n",
       "      <td>0.610</td>\n",
       "      <td>0.390</td>\n",
       "      <td>0.00</td>\n",
       "      <td>-0.5719</td>\n",
       "      <td>-1</td>\n",
       "      <td>negative</td>\n",
       "    </tr>\n",
       "    <tr>\n",
       "      <th>2</th>\n",
       "      <td>2</td>\n",
       "      <td>2</td>\n",
       "      <td>['how', 'to', 'ruin', 'your', 'movie', 'library']</td>\n",
       "      <td>Mequbbal_Trader</td>\n",
       "      <td>1atvcqx</td>\n",
       "      <td>2024-02-18 14:31:17</td>\n",
       "      <td>How to ruin your movie library</td>\n",
       "      <td>['ruin', 'movie', 'library']</td>\n",
       "      <td>['ruin', 'movie', 'library']</td>\n",
       "      <td>[('[', 'JJ'), (\"'ruin\", 'NNP'), (\"'\", 'POS'), ...</td>\n",
       "      <td>...</td>\n",
       "      <td>-0.068477</td>\n",
       "      <td>-0.067856</td>\n",
       "      <td>1</td>\n",
       "      <td>5</td>\n",
       "      <td>0.432</td>\n",
       "      <td>0.568</td>\n",
       "      <td>0.00</td>\n",
       "      <td>-0.5859</td>\n",
       "      <td>-1</td>\n",
       "      <td>negative</td>\n",
       "    </tr>\n",
       "    <tr>\n",
       "      <th>3</th>\n",
       "      <td>3</td>\n",
       "      <td>3</td>\n",
       "      <td>['i', 'was', 'really', 'wrong', 'about', 'the'...</td>\n",
       "      <td>AppleBottmBeans</td>\n",
       "      <td>1amtycf</td>\n",
       "      <td>2024-02-09 17:45:25</td>\n",
       "      <td>I was REALLY wrong about the AVP. This is the ...</td>\n",
       "      <td>['really', 'wrong', 'avp', 'incredible', 'piec...</td>\n",
       "      <td>['really', 'wrong', 'avp', 'incredible', 'piec...</td>\n",
       "      <td>[('[', 'RB'), (\"'really\", 'RB'), (\"'\", \"''\"), ...</td>\n",
       "      <td>...</td>\n",
       "      <td>-0.113431</td>\n",
       "      <td>0.092884</td>\n",
       "      <td>4</td>\n",
       "      <td>9</td>\n",
       "      <td>0.205</td>\n",
       "      <td>0.795</td>\n",
       "      <td>0.00</td>\n",
       "      <td>-0.6281</td>\n",
       "      <td>-1</td>\n",
       "      <td>negative</td>\n",
       "    </tr>\n",
       "    <tr>\n",
       "      <th>4</th>\n",
       "      <td>4</td>\n",
       "      <td>4</td>\n",
       "      <td>['apple', 'vision', 'pro', 'is', 'the', 'best'...</td>\n",
       "      <td>Deathtosnoopy</td>\n",
       "      <td>1b2jq3m</td>\n",
       "      <td>2024-02-28 22:35:12</td>\n",
       "      <td>Apple vision pro is the best thing to happen t...</td>\n",
       "      <td>['apple', 'vision', 'pro', 'best', 'thing', 'h...</td>\n",
       "      <td>['apple', 'vision', 'pro', 'best', 'thing', 'h...</td>\n",
       "      <td>[('[', 'JJ'), (\"'apple\", 'NNP'), (\"'\", 'POS'),...</td>\n",
       "      <td>...</td>\n",
       "      <td>0.209062</td>\n",
       "      <td>-0.007999</td>\n",
       "      <td>0</td>\n",
       "      <td>1</td>\n",
       "      <td>0.000</td>\n",
       "      <td>0.640</td>\n",
       "      <td>0.36</td>\n",
       "      <td>0.7351</td>\n",
       "      <td>1</td>\n",
       "      <td>positive</td>\n",
       "    </tr>\n",
       "  </tbody>\n",
       "</table>\n",
       "<p>5 rows × 21 columns</p>\n",
       "</div>"
      ],
      "text/plain": [
       "   Unnamed: 0  Index                                              Title  \\\n",
       "0           0      0  ['apple', 'vision', 'pro', 'has', 'ruined', 'm...   \n",
       "1           1      1       ['its', 'too', 'expensive', 'no', 'regrets']   \n",
       "2           2      2  ['how', 'to', 'ruin', 'your', 'movie', 'library']   \n",
       "3           3      3  ['i', 'was', 'really', 'wrong', 'about', 'the'...   \n",
       "4           4      4  ['apple', 'vision', 'pro', 'is', 'the', 'best'...   \n",
       "\n",
       "             Author       ID              Created  \\\n",
       "0  Old_Possible8977  1an21fb  2024-02-09 23:34:09   \n",
       "1       McNerdsAlot  1akdyzo  2024-02-06 16:35:52   \n",
       "2   Mequbbal_Trader  1atvcqx  2024-02-18 14:31:17   \n",
       "3   AppleBottmBeans  1amtycf  2024-02-09 17:45:25   \n",
       "4     Deathtosnoopy  1b2jq3m  2024-02-28 22:35:12   \n",
       "\n",
       "                                      Original_Title  \\\n",
       "0          Apple Vision Pro has ruined movies for me   \n",
       "1                    It’s too expensive. No regrets.   \n",
       "2                     How to ruin your movie library   \n",
       "3  I was REALLY wrong about the AVP. This is the ...   \n",
       "4  Apple vision pro is the best thing to happen t...   \n",
       "\n",
       "                                   Without_stopwords  \\\n",
       "0     ['apple', 'vision', 'pro', 'ruined', 'movies']   \n",
       "1                           ['expensive', 'regrets']   \n",
       "2                       ['ruin', 'movie', 'library']   \n",
       "3  ['really', 'wrong', 'avp', 'incredible', 'piec...   \n",
       "4  ['apple', 'vision', 'pro', 'best', 'thing', 'h...   \n",
       "\n",
       "                                    Lemmatized_Words  \\\n",
       "0     ['apple', 'vision', 'pro', 'ruined', 'movies']   \n",
       "1                           ['expensive', 'regrets']   \n",
       "2                       ['ruin', 'movie', 'library']   \n",
       "3  ['really', 'wrong', 'avp', 'incredible', 'piec...   \n",
       "4  ['apple', 'vision', 'pro', 'best', 'thing', 'h...   \n",
       "\n",
       "                                            Pos_tags  ...      PCA1      PCA2  \\\n",
       "0  [('[', 'JJ'), (\"'apple\", 'NNP'), (\"'\", 'POS'),...  ...  0.369651  0.018061   \n",
       "1  [('[', 'RB'), (\"'expensive\", 'JJ'), (\"'\", \"''\"...  ... -0.054405 -0.046932   \n",
       "2  [('[', 'JJ'), (\"'ruin\", 'NNP'), (\"'\", 'POS'), ...  ... -0.068477 -0.067856   \n",
       "3  [('[', 'RB'), (\"'really\", 'RB'), (\"'\", \"''\"), ...  ... -0.113431  0.092884   \n",
       "4  [('[', 'JJ'), (\"'apple\", 'NNP'), (\"'\", 'POS'),...  ...  0.209062 -0.007999   \n",
       "\n",
       "   For_Cluster_Seven  For_Cluster_Ten    neg    neu   pos  compound  \\\n",
       "0                  0                1  0.279  0.541  0.18   -0.2732   \n",
       "1                  1                5  0.610  0.390  0.00   -0.5719   \n",
       "2                  1                5  0.432  0.568  0.00   -0.5859   \n",
       "3                  4                9  0.205  0.795  0.00   -0.6281   \n",
       "4                  0                1  0.000  0.640  0.36    0.7351   \n",
       "\n",
       "   Sentiment  Sentiment_Label  \n",
       "0         -1         negative  \n",
       "1         -1         negative  \n",
       "2         -1         negative  \n",
       "3         -1         negative  \n",
       "4          1         positive  \n",
       "\n",
       "[5 rows x 21 columns]"
      ]
     },
     "execution_count": 5,
     "metadata": {},
     "output_type": "execute_result"
    }
   ],
   "source": [
    "df.head()"
   ]
  },
  {
   "cell_type": "code",
   "execution_count": 6,
   "id": "3fdb09d4",
   "metadata": {},
   "outputs": [],
   "source": [
    "# Split the data into features (X) and labels (y)\n",
    "X = df['Lemmatized_Words']\n",
    "y = df['Sentiment_Label']"
   ]
  },
  {
   "cell_type": "code",
   "execution_count": 7,
   "id": "e82a0b91",
   "metadata": {},
   "outputs": [],
   "source": [
    "# Split the data into training and testing sets\n",
    "X_train, X_test, y_train, y_test = train_test_split(X, y, test_size=0.2, random_state=42)"
   ]
  },
  {
   "cell_type": "code",
   "execution_count": 8,
   "id": "1dd178ff",
   "metadata": {},
   "outputs": [
    {
     "data": {
      "text/plain": [
       "29                                      ['know', 'mean']\n",
       "535                                  ['picked', 'today']\n",
       "695    ['predicting', 'best', 'games', 'apple', 'visi...\n",
       "557       ['multiple', 'monitor', 'support', 'priority']\n",
       "836    ['futuristic', 'ideas', 'vision', 'pro', 'chan...\n",
       "Name: Lemmatized_Words, dtype: object"
      ]
     },
     "execution_count": 8,
     "metadata": {},
     "output_type": "execute_result"
    }
   ],
   "source": [
    "X_train.to_csv('Sentiment_Analysis_Data.csv')"
   ]
  },
  {
   "cell_type": "code",
   "execution_count": 9,
   "id": "f50a9e5d",
   "metadata": {},
   "outputs": [
    {
     "data": {
      "text/plain": [
       "521                   ['got', 'dont', 'know', 'get']\n",
       "737    ['feature', 'length', 'immersive', 'content']\n",
       "740        ['apple', 'vision', 'pro', 'app', 'news']\n",
       "660             ['ms', 'teams', 'loading', 'safari']\n",
       "411        ['avp', 'battery', 'widget', 'maciphone']\n",
       "Name: Lemmatized_Words, dtype: object"
      ]
     },
     "execution_count": 9,
     "metadata": {},
     "output_type": "execute_result"
    }
   ],
   "source": [
    "X_test.head()"
   ]
  },
  {
   "cell_type": "code",
   "execution_count": 10,
   "id": "0993194d",
   "metadata": {},
   "outputs": [],
   "source": [
    "# Vectorize the text data\n",
    "vectorizer = CountVectorizer()\n",
    "X_train_counts = vectorizer.fit_transform(X_train)\n",
    "X_test_counts = vectorizer.transform(X_test)"
   ]
  },
  {
   "cell_type": "code",
   "execution_count": 11,
   "id": "34e74473",
   "metadata": {},
   "outputs": [],
   "source": [
    "# Apply SMOTE to the training data\n",
    "smote = SMOTE(random_state=42)\n",
    "X_train_resampled, y_train_resampled = smote.fit_resample(X_train_counts, y_train)"
   ]
  },
  {
   "cell_type": "code",
   "execution_count": 12,
   "id": "bed1a650",
   "metadata": {},
   "outputs": [
    {
     "data": {
      "text/html": [
       "<style>#sk-container-id-1 {color: black;}#sk-container-id-1 pre{padding: 0;}#sk-container-id-1 div.sk-toggleable {background-color: white;}#sk-container-id-1 label.sk-toggleable__label {cursor: pointer;display: block;width: 100%;margin-bottom: 0;padding: 0.3em;box-sizing: border-box;text-align: center;}#sk-container-id-1 label.sk-toggleable__label-arrow:before {content: \"▸\";float: left;margin-right: 0.25em;color: #696969;}#sk-container-id-1 label.sk-toggleable__label-arrow:hover:before {color: black;}#sk-container-id-1 div.sk-estimator:hover label.sk-toggleable__label-arrow:before {color: black;}#sk-container-id-1 div.sk-toggleable__content {max-height: 0;max-width: 0;overflow: hidden;text-align: left;background-color: #f0f8ff;}#sk-container-id-1 div.sk-toggleable__content pre {margin: 0.2em;color: black;border-radius: 0.25em;background-color: #f0f8ff;}#sk-container-id-1 input.sk-toggleable__control:checked~div.sk-toggleable__content {max-height: 200px;max-width: 100%;overflow: auto;}#sk-container-id-1 input.sk-toggleable__control:checked~label.sk-toggleable__label-arrow:before {content: \"▾\";}#sk-container-id-1 div.sk-estimator input.sk-toggleable__control:checked~label.sk-toggleable__label {background-color: #d4ebff;}#sk-container-id-1 div.sk-label input.sk-toggleable__control:checked~label.sk-toggleable__label {background-color: #d4ebff;}#sk-container-id-1 input.sk-hidden--visually {border: 0;clip: rect(1px 1px 1px 1px);clip: rect(1px, 1px, 1px, 1px);height: 1px;margin: -1px;overflow: hidden;padding: 0;position: absolute;width: 1px;}#sk-container-id-1 div.sk-estimator {font-family: monospace;background-color: #f0f8ff;border: 1px dotted black;border-radius: 0.25em;box-sizing: border-box;margin-bottom: 0.5em;}#sk-container-id-1 div.sk-estimator:hover {background-color: #d4ebff;}#sk-container-id-1 div.sk-parallel-item::after {content: \"\";width: 100%;border-bottom: 1px solid gray;flex-grow: 1;}#sk-container-id-1 div.sk-label:hover label.sk-toggleable__label {background-color: #d4ebff;}#sk-container-id-1 div.sk-serial::before {content: \"\";position: absolute;border-left: 1px solid gray;box-sizing: border-box;top: 0;bottom: 0;left: 50%;z-index: 0;}#sk-container-id-1 div.sk-serial {display: flex;flex-direction: column;align-items: center;background-color: white;padding-right: 0.2em;padding-left: 0.2em;position: relative;}#sk-container-id-1 div.sk-item {position: relative;z-index: 1;}#sk-container-id-1 div.sk-parallel {display: flex;align-items: stretch;justify-content: center;background-color: white;position: relative;}#sk-container-id-1 div.sk-item::before, #sk-container-id-1 div.sk-parallel-item::before {content: \"\";position: absolute;border-left: 1px solid gray;box-sizing: border-box;top: 0;bottom: 0;left: 50%;z-index: -1;}#sk-container-id-1 div.sk-parallel-item {display: flex;flex-direction: column;z-index: 1;position: relative;background-color: white;}#sk-container-id-1 div.sk-parallel-item:first-child::after {align-self: flex-end;width: 50%;}#sk-container-id-1 div.sk-parallel-item:last-child::after {align-self: flex-start;width: 50%;}#sk-container-id-1 div.sk-parallel-item:only-child::after {width: 0;}#sk-container-id-1 div.sk-dashed-wrapped {border: 1px dashed gray;margin: 0 0.4em 0.5em 0.4em;box-sizing: border-box;padding-bottom: 0.4em;background-color: white;}#sk-container-id-1 div.sk-label label {font-family: monospace;font-weight: bold;display: inline-block;line-height: 1.2em;}#sk-container-id-1 div.sk-label-container {text-align: center;}#sk-container-id-1 div.sk-container {/* jupyter's `normalize.less` sets `[hidden] { display: none; }` but bootstrap.min.css set `[hidden] { display: none !important; }` so we also need the `!important` here to be able to override the default hidden behavior on the sphinx rendered scikit-learn.org. See: https://github.com/scikit-learn/scikit-learn/issues/21755 */display: inline-block !important;position: relative;}#sk-container-id-1 div.sk-text-repr-fallback {display: none;}</style><div id=\"sk-container-id-1\" class=\"sk-top-container\"><div class=\"sk-text-repr-fallback\"><pre>DecisionTreeClassifier(random_state=42)</pre><b>In a Jupyter environment, please rerun this cell to show the HTML representation or trust the notebook. <br />On GitHub, the HTML representation is unable to render, please try loading this page with nbviewer.org.</b></div><div class=\"sk-container\" hidden><div class=\"sk-item\"><div class=\"sk-estimator sk-toggleable\"><input class=\"sk-toggleable__control sk-hidden--visually\" id=\"sk-estimator-id-1\" type=\"checkbox\" checked><label for=\"sk-estimator-id-1\" class=\"sk-toggleable__label sk-toggleable__label-arrow\">DecisionTreeClassifier</label><div class=\"sk-toggleable__content\"><pre>DecisionTreeClassifier(random_state=42)</pre></div></div></div></div></div>"
      ],
      "text/plain": [
       "DecisionTreeClassifier(random_state=42)"
      ]
     },
     "execution_count": 12,
     "metadata": {},
     "output_type": "execute_result"
    }
   ],
   "source": [
    "# Train the decision tree classifier\n",
    "clf = DecisionTreeClassifier(random_state=42)\n",
    "clf.fit(X_train_resampled, y_train_resampled)"
   ]
  },
  {
   "cell_type": "code",
   "execution_count": 13,
   "id": "282b9148",
   "metadata": {},
   "outputs": [],
   "source": [
    "y_pred = clf.predict(X_test_counts)"
   ]
  },
  {
   "cell_type": "code",
   "execution_count": 14,
   "id": "813cc202",
   "metadata": {},
   "outputs": [
    {
     "name": "stdout",
     "output_type": "stream",
     "text": [
      "Accuracy: 0.575\n"
     ]
    }
   ],
   "source": [
    "# Calculate and print accuracy\n",
    "accuracy = accuracy_score(y_test, y_pred)\n",
    "print(\"Accuracy:\", accuracy)"
   ]
  },
  {
   "cell_type": "code",
   "execution_count": 15,
   "id": "6ce2cfb7",
   "metadata": {},
   "outputs": [
    {
     "name": "stdout",
     "output_type": "stream",
     "text": [
      "Precision: 0.9298245614035088\n"
     ]
    }
   ],
   "source": [
    "# Calculate precision, recall, and F1-score\n",
    "precision = precision_score(y_test, y_pred, pos_label='positive')\n",
    "print(\"Precision:\", precision)"
   ]
  },
  {
   "cell_type": "code",
   "execution_count": 16,
   "id": "d0f1e0fa",
   "metadata": {},
   "outputs": [
    {
     "name": "stdout",
     "output_type": "stream",
     "text": [
      "Recall: 0.5792349726775956\n"
     ]
    }
   ],
   "source": [
    "recall = recall_score(y_test, y_pred, pos_label='positive')\n",
    "print(\"Recall:\", recall)\n",
    "\n"
   ]
  },
  {
   "cell_type": "code",
   "execution_count": 17,
   "id": "c9103e5a",
   "metadata": {},
   "outputs": [
    {
     "name": "stdout",
     "output_type": "stream",
     "text": [
      "F1 Score: 0.7138047138047138\n"
     ]
    }
   ],
   "source": [
    "f1 = f1_score(y_test, y_pred, pos_label='positive')\n",
    "print(\"F1 Score:\", f1)\n",
    "\n"
   ]
  },
  {
   "cell_type": "code",
   "execution_count": 18,
   "id": "9becde3d",
   "metadata": {},
   "outputs": [
    {
     "name": "stdout",
     "output_type": "stream",
     "text": [
      "New Comment:  I hated the Apple Vision Pro\n",
      "Predicted Sentiment: negative\n"
     ]
    }
   ],
   "source": [
    "# Example of predicting sentiment of a new text\n",
    "new_text = \"I hated the Apple Vision Pro\"\n",
    "print(\"New Comment: \",new_text)\n",
    "new_text_processed = \" \".join(new_text.split())  # Remove extra spaces if any\n",
    "new_text_counts = vectorizer.transform([new_text_processed])\n",
    "predicted_sentiment = clf.predict(new_text_counts)[0]\n",
    "print(\"Predicted Sentiment:\", predicted_sentiment)"
   ]
  },
  {
   "cell_type": "code",
   "execution_count": 19,
   "id": "a3d7ce2b",
   "metadata": {},
   "outputs": [],
   "source": [
    "# Generate confusion matrix\n",
    "conf_matrix = confusion_matrix(y_test, y_pred)\n",
    "\n"
   ]
  },
  {
   "cell_type": "code",
   "execution_count": 20,
   "id": "28301900",
   "metadata": {},
   "outputs": [
    {
     "data": {
      "image/png": "[encoded data removed]",
      "text/plain": [
       "<Figure size 576x432 with 2 Axes>"
      ]
     },
     "metadata": {
      "needs_background": "light"
     },
     "output_type": "display_data"
    }
   ],
   "source": [
    "# Plot confusion matrix\n",
    "plt.figure(figsize=(8, 6))\n",
    "sns.heatmap(conf_matrix, annot=True, fmt=\"d\", cmap=\"Blues\", xticklabels=['negative', 'positive'], yticklabels=['negative', 'positive'])\n",
    "plt.xlabel('Predicted')\n",
    "plt.ylabel('Actual')\n",
    "plt.title('Confusion Matrix')\n",
    "plt.show()"
   ]
  },
  {
   "cell_type": "code",
   "execution_count": 21,
   "id": "3e67dd0b",
   "metadata": {},
   "outputs": [
    {
     "name": "stdout",
     "output_type": "stream",
     "text": [
      "|--- feature_1581 <= 0.50\n",
      "|   |--- feature_104 <= 0.50\n",
      "|   |   |--- feature_1365 <= 0.50\n",
      "|   |   |   |--- feature_76 <= 0.50\n",
      "|   |   |   |   |--- feature_62 <= 0.50\n",
      "|   |   |   |   |   |--- feature_1610 <= 0.50\n",
      "|   |   |   |   |   |   |--- feature_537 <= 0.50\n",
      "|   |   |   |   |   |   |   |--- feature_833 <= 0.50\n",
      "|   |   |   |   |   |   |   |   |--- feature_1583 <= 0.50\n",
      "|   |   |   |   |   |   |   |   |   |--- feature_1567 <= 0.50\n",
      "|   |   |   |   |   |   |   |   |   |   |--- feature_1403 <= 0.50\n",
      "|   |   |   |   |   |   |   |   |   |   |   |--- truncated branch of depth 220\n",
      "|   |   |   |   |   |   |   |   |   |   |--- feature_1403 >  0.50\n",
      "|   |   |   |   |   |   |   |   |   |   |   |--- class: positive\n",
      "|   |   |   |   |   |   |   |   |   |--- feature_1567 >  0.50\n",
      "|   |   |   |   |   |   |   |   |   |   |--- class: positive\n",
      "|   |   |   |   |   |   |   |   |--- feature_1583 >  0.50\n",
      "|   |   |   |   |   |   |   |   |   |--- class: positive\n",
      "|   |   |   |   |   |   |   |--- feature_833 >  0.50\n",
      "|   |   |   |   |   |   |   |   |--- feature_170 <= 0.50\n",
      "|   |   |   |   |   |   |   |   |   |--- class: positive\n",
      "|   |   |   |   |   |   |   |   |--- feature_170 >  0.50\n",
      "|   |   |   |   |   |   |   |   |   |--- class: negative\n",
      "|   |   |   |   |   |   |--- feature_537 >  0.50\n",
      "|   |   |   |   |   |   |   |--- feature_1274 <= 0.50\n",
      "|   |   |   |   |   |   |   |   |--- class: positive\n",
      "|   |   |   |   |   |   |   |--- feature_1274 >  0.50\n",
      "|   |   |   |   |   |   |   |   |--- class: negative\n",
      "|   |   |   |   |   |--- feature_1610 >  0.50\n",
      "|   |   |   |   |   |   |--- class: positive\n",
      "|   |   |   |   |--- feature_62 >  0.50\n",
      "|   |   |   |   |   |--- feature_784 <= 0.50\n",
      "|   |   |   |   |   |   |--- feature_136 <= 0.50\n",
      "|   |   |   |   |   |   |   |--- feature_499 <= 0.50\n",
      "|   |   |   |   |   |   |   |   |--- class: positive\n",
      "|   |   |   |   |   |   |   |--- feature_499 >  0.50\n",
      "|   |   |   |   |   |   |   |   |--- class: negative\n",
      "|   |   |   |   |   |   |--- feature_136 >  0.50\n",
      "|   |   |   |   |   |   |   |--- class: negative\n",
      "|   |   |   |   |   |--- feature_784 >  0.50\n",
      "|   |   |   |   |   |   |--- class: negative\n",
      "|   |   |   |--- feature_76 >  0.50\n",
      "|   |   |   |   |--- feature_986 <= 0.50\n",
      "|   |   |   |   |   |--- class: positive\n",
      "|   |   |   |   |--- feature_986 >  0.50\n",
      "|   |   |   |   |   |--- class: negative\n",
      "|   |   |--- feature_1365 >  0.50\n",
      "|   |   |   |--- class: positive\n",
      "|   |--- feature_104 >  0.50\n",
      "|   |   |--- feature_705 <= 0.50\n",
      "|   |   |   |--- feature_909 <= 0.50\n",
      "|   |   |   |   |--- feature_1414 <= 0.50\n",
      "|   |   |   |   |   |--- feature_393 <= 0.50\n",
      "|   |   |   |   |   |   |--- feature_1008 <= 0.50\n",
      "|   |   |   |   |   |   |   |--- feature_684 <= 0.50\n",
      "|   |   |   |   |   |   |   |   |--- feature_1671 <= 0.50\n",
      "|   |   |   |   |   |   |   |   |   |--- feature_653 <= 1.00\n",
      "|   |   |   |   |   |   |   |   |   |   |--- feature_1279 <= 0.50\n",
      "|   |   |   |   |   |   |   |   |   |   |   |--- truncated branch of depth 60\n",
      "|   |   |   |   |   |   |   |   |   |   |--- feature_1279 >  0.50\n",
      "|   |   |   |   |   |   |   |   |   |   |   |--- class: negative\n",
      "|   |   |   |   |   |   |   |   |   |--- feature_653 >  1.00\n",
      "|   |   |   |   |   |   |   |   |   |   |--- class: negative\n",
      "|   |   |   |   |   |   |   |   |--- feature_1671 >  0.50\n",
      "|   |   |   |   |   |   |   |   |   |--- class: negative\n",
      "|   |   |   |   |   |   |   |--- feature_684 >  0.50\n",
      "|   |   |   |   |   |   |   |   |--- class: negative\n",
      "|   |   |   |   |   |   |--- feature_1008 >  0.50\n",
      "|   |   |   |   |   |   |   |--- class: negative\n",
      "|   |   |   |   |   |--- feature_393 >  0.50\n",
      "|   |   |   |   |   |   |--- class: negative\n",
      "|   |   |   |   |--- feature_1414 >  0.50\n",
      "|   |   |   |   |   |--- class: negative\n",
      "|   |   |   |--- feature_909 >  0.50\n",
      "|   |   |   |   |--- class: negative\n",
      "|   |   |--- feature_705 >  0.50\n",
      "|   |   |   |--- class: negative\n",
      "|--- feature_1581 >  0.50\n",
      "|   |--- feature_65 <= 0.50\n",
      "|   |   |--- feature_519 <= 0.50\n",
      "|   |   |   |--- feature_1130 <= 0.50\n",
      "|   |   |   |   |--- feature_62 <= 0.50\n",
      "|   |   |   |   |   |--- feature_1641 <= 0.50\n",
      "|   |   |   |   |   |   |--- feature_476 <= 0.50\n",
      "|   |   |   |   |   |   |   |--- feature_965 <= 0.50\n",
      "|   |   |   |   |   |   |   |   |--- feature_303 <= 0.50\n",
      "|   |   |   |   |   |   |   |   |   |--- feature_1667 <= 0.50\n",
      "|   |   |   |   |   |   |   |   |   |   |--- feature_765 <= 0.50\n",
      "|   |   |   |   |   |   |   |   |   |   |   |--- truncated branch of depth 4\n",
      "|   |   |   |   |   |   |   |   |   |   |--- feature_765 >  0.50\n",
      "|   |   |   |   |   |   |   |   |   |   |   |--- class: positive\n",
      "|   |   |   |   |   |   |   |   |   |--- feature_1667 >  0.50\n",
      "|   |   |   |   |   |   |   |   |   |   |--- class: positive\n",
      "|   |   |   |   |   |   |   |   |--- feature_303 >  0.50\n",
      "|   |   |   |   |   |   |   |   |   |--- class: positive\n",
      "|   |   |   |   |   |   |   |--- feature_965 >  0.50\n",
      "|   |   |   |   |   |   |   |   |--- class: positive\n",
      "|   |   |   |   |   |   |--- feature_476 >  0.50\n",
      "|   |   |   |   |   |   |   |--- class: positive\n",
      "|   |   |   |   |   |--- feature_1641 >  0.50\n",
      "|   |   |   |   |   |   |--- class: positive\n",
      "|   |   |   |   |--- feature_62 >  0.50\n",
      "|   |   |   |   |   |--- class: negative\n",
      "|   |   |   |--- feature_1130 >  0.50\n",
      "|   |   |   |   |--- feature_62 <= 0.50\n",
      "|   |   |   |   |   |--- feature_103 <= 0.50\n",
      "|   |   |   |   |   |   |--- feature_1563 <= 0.50\n",
      "|   |   |   |   |   |   |   |--- feature_779 <= 0.50\n",
      "|   |   |   |   |   |   |   |   |--- feature_1156 <= 0.50\n",
      "|   |   |   |   |   |   |   |   |   |--- feature_1657 <= 0.50\n",
      "|   |   |   |   |   |   |   |   |   |   |--- feature_979 <= 0.50\n",
      "|   |   |   |   |   |   |   |   |   |   |   |--- truncated branch of depth 35\n",
      "|   |   |   |   |   |   |   |   |   |   |--- feature_979 >  0.50\n",
      "|   |   |   |   |   |   |   |   |   |   |   |--- class: positive\n",
      "|   |   |   |   |   |   |   |   |   |--- feature_1657 >  0.50\n",
      "|   |   |   |   |   |   |   |   |   |   |--- class: positive\n",
      "|   |   |   |   |   |   |   |   |--- feature_1156 >  0.50\n",
      "|   |   |   |   |   |   |   |   |   |--- class: positive\n",
      "|   |   |   |   |   |   |   |--- feature_779 >  0.50\n",
      "|   |   |   |   |   |   |   |   |--- class: positive\n",
      "|   |   |   |   |   |   |--- feature_1563 >  0.50\n",
      "|   |   |   |   |   |   |   |--- class: positive\n",
      "|   |   |   |   |   |--- feature_103 >  0.50\n",
      "|   |   |   |   |   |   |--- class: positive\n",
      "|   |   |   |   |--- feature_62 >  0.50\n",
      "|   |   |   |   |   |--- class: positive\n",
      "|   |   |--- feature_519 >  0.50\n",
      "|   |   |   |--- class: negative\n",
      "|   |--- feature_65 >  0.50\n",
      "|   |   |--- feature_519 <= 0.50\n",
      "|   |   |   |--- feature_1192 <= 0.50\n",
      "|   |   |   |   |--- feature_796 <= 0.50\n",
      "|   |   |   |   |   |--- feature_166 <= 0.50\n",
      "|   |   |   |   |   |   |--- feature_492 <= 0.50\n",
      "|   |   |   |   |   |   |   |--- feature_1246 <= 0.50\n",
      "|   |   |   |   |   |   |   |   |--- feature_65 <= 1.50\n",
      "|   |   |   |   |   |   |   |   |   |--- feature_537 <= 0.50\n",
      "|   |   |   |   |   |   |   |   |   |   |--- feature_1234 <= 0.50\n",
      "|   |   |   |   |   |   |   |   |   |   |   |--- truncated branch of depth 51\n",
      "|   |   |   |   |   |   |   |   |   |   |--- feature_1234 >  0.50\n",
      "|   |   |   |   |   |   |   |   |   |   |   |--- class: positive\n",
      "|   |   |   |   |   |   |   |   |   |--- feature_537 >  0.50\n",
      "|   |   |   |   |   |   |   |   |   |   |--- class: positive\n",
      "|   |   |   |   |   |   |   |   |--- feature_65 >  1.50\n",
      "|   |   |   |   |   |   |   |   |   |--- class: positive\n",
      "|   |   |   |   |   |   |   |--- feature_1246 >  0.50\n",
      "|   |   |   |   |   |   |   |   |--- class: negative\n",
      "|   |   |   |   |   |   |--- feature_492 >  0.50\n",
      "|   |   |   |   |   |   |   |--- class: negative\n",
      "|   |   |   |   |   |--- feature_166 >  0.50\n",
      "|   |   |   |   |   |   |--- class: negative\n",
      "|   |   |   |   |--- feature_796 >  0.50\n",
      "|   |   |   |   |   |--- class: negative\n",
      "|   |   |   |--- feature_1192 >  0.50\n",
      "|   |   |   |   |--- class: negative\n",
      "|   |   |--- feature_519 >  0.50\n",
      "|   |   |   |--- class: negative\n",
      "\n"
     ]
    }
   ],
   "source": [
    "from sklearn import tree\n",
    "text_representation = tree.export_text(clf)\n",
    "print(text_representation)"
   ]
  },
  {
   "cell_type": "code",
   "execution_count": 22,
   "id": "4c21a389",
   "metadata": {},
   "outputs": [],
   "source": [
    "with open(\"decistion_tree.log\", \"w\") as fout:\n",
    "    fout.write(text_representation)"
   ]
  },
  {
   "cell_type": "code",
   "execution_count": null,
   "id": "7599e11e",
   "metadata": {},
   "outputs": [],
   "source": []
  },
  {
   "cell_type": "code",
   "execution_count": 23,
   "id": "b79605bb",
   "metadata": {},
   "outputs": [
    {
     "ename": "ExecutableNotFound",
     "evalue": "failed to execute WindowsPath('dot'), make sure the Graphviz executables are on your systems' PATH",
     "output_type": "error",
     "traceback": [
      "\u001b[1;31m---------------------------------------------------------------------------\u001b[0m",
      "\u001b[1;31mFileNotFoundError\u001b[0m                         Traceback (most recent call last)",
      "File \u001b[1;32m~\\anaconda3\\lib\\site-packages\\graphviz\\backend\\execute.py:78\u001b[0m, in \u001b[0;36mrun_check\u001b[1;34m(cmd, input_lines, encoding, quiet, **kwargs)\u001b[0m\n\u001b[0;32m     77\u001b[0m     \u001b[38;5;28;01melse\u001b[39;00m:\n\u001b[1;32m---> 78\u001b[0m         proc \u001b[38;5;241m=\u001b[39m subprocess\u001b[38;5;241m.\u001b[39mrun(cmd, \u001b[38;5;241m*\u001b[39m\u001b[38;5;241m*\u001b[39mkwargs)\n\u001b[0;32m     79\u001b[0m \u001b[38;5;28;01mexcept\u001b[39;00m \u001b[38;5;167;01mOSError\u001b[39;00m \u001b[38;5;28;01mas\u001b[39;00m e:\n",
      "File \u001b[1;32m~\\anaconda3\\lib\\subprocess.py:505\u001b[0m, in \u001b[0;36mrun\u001b[1;34m(input, capture_output, timeout, check, *popenargs, **kwargs)\u001b[0m\n\u001b[0;32m    503\u001b[0m     kwargs[\u001b[38;5;124m'\u001b[39m\u001b[38;5;124mstderr\u001b[39m\u001b[38;5;124m'\u001b[39m] \u001b[38;5;241m=\u001b[39m PIPE\n\u001b[1;32m--> 505\u001b[0m \u001b[38;5;28;01mwith\u001b[39;00m Popen(\u001b[38;5;241m*\u001b[39mpopenargs, \u001b[38;5;241m*\u001b[39m\u001b[38;5;241m*\u001b[39mkwargs) \u001b[38;5;28;01mas\u001b[39;00m process:\n\u001b[0;32m    506\u001b[0m     \u001b[38;5;28;01mtry\u001b[39;00m:\n",
      "File \u001b[1;32m~\\anaconda3\\lib\\subprocess.py:951\u001b[0m, in \u001b[0;36mPopen.__init__\u001b[1;34m(self, args, bufsize, executable, stdin, stdout, stderr, preexec_fn, close_fds, shell, cwd, env, universal_newlines, startupinfo, creationflags, restore_signals, start_new_session, pass_fds, user, group, extra_groups, encoding, errors, text, umask)\u001b[0m\n\u001b[0;32m    948\u001b[0m             \u001b[38;5;28mself\u001b[39m\u001b[38;5;241m.\u001b[39mstderr \u001b[38;5;241m=\u001b[39m io\u001b[38;5;241m.\u001b[39mTextIOWrapper(\u001b[38;5;28mself\u001b[39m\u001b[38;5;241m.\u001b[39mstderr,\n\u001b[0;32m    949\u001b[0m                     encoding\u001b[38;5;241m=\u001b[39mencoding, errors\u001b[38;5;241m=\u001b[39merrors)\n\u001b[1;32m--> 951\u001b[0m     \u001b[38;5;28;43mself\u001b[39;49m\u001b[38;5;241;43m.\u001b[39;49m\u001b[43m_execute_child\u001b[49m\u001b[43m(\u001b[49m\u001b[43margs\u001b[49m\u001b[43m,\u001b[49m\u001b[43m \u001b[49m\u001b[43mexecutable\u001b[49m\u001b[43m,\u001b[49m\u001b[43m \u001b[49m\u001b[43mpreexec_fn\u001b[49m\u001b[43m,\u001b[49m\u001b[43m \u001b[49m\u001b[43mclose_fds\u001b[49m\u001b[43m,\u001b[49m\n\u001b[0;32m    952\u001b[0m \u001b[43m                        \u001b[49m\u001b[43mpass_fds\u001b[49m\u001b[43m,\u001b[49m\u001b[43m \u001b[49m\u001b[43mcwd\u001b[49m\u001b[43m,\u001b[49m\u001b[43m \u001b[49m\u001b[43menv\u001b[49m\u001b[43m,\u001b[49m\n\u001b[0;32m    953\u001b[0m \u001b[43m                        \u001b[49m\u001b[43mstartupinfo\u001b[49m\u001b[43m,\u001b[49m\u001b[43m \u001b[49m\u001b[43mcreationflags\u001b[49m\u001b[43m,\u001b[49m\u001b[43m \u001b[49m\u001b[43mshell\u001b[49m\u001b[43m,\u001b[49m\n\u001b[0;32m    954\u001b[0m \u001b[43m                        \u001b[49m\u001b[43mp2cread\u001b[49m\u001b[43m,\u001b[49m\u001b[43m \u001b[49m\u001b[43mp2cwrite\u001b[49m\u001b[43m,\u001b[49m\n\u001b[0;32m    955\u001b[0m \u001b[43m                        \u001b[49m\u001b[43mc2pread\u001b[49m\u001b[43m,\u001b[49m\u001b[43m \u001b[49m\u001b[43mc2pwrite\u001b[49m\u001b[43m,\u001b[49m\n\u001b[0;32m    956\u001b[0m \u001b[43m                        \u001b[49m\u001b[43merrread\u001b[49m\u001b[43m,\u001b[49m\u001b[43m \u001b[49m\u001b[43merrwrite\u001b[49m\u001b[43m,\u001b[49m\n\u001b[0;32m    957\u001b[0m \u001b[43m                        \u001b[49m\u001b[43mrestore_signals\u001b[49m\u001b[43m,\u001b[49m\n\u001b[0;32m    958\u001b[0m \u001b[43m                        \u001b[49m\u001b[43mgid\u001b[49m\u001b[43m,\u001b[49m\u001b[43m \u001b[49m\u001b[43mgids\u001b[49m\u001b[43m,\u001b[49m\u001b[43m \u001b[49m\u001b[43muid\u001b[49m\u001b[43m,\u001b[49m\u001b[43m \u001b[49m\u001b[43mumask\u001b[49m\u001b[43m,\u001b[49m\n\u001b[0;32m    959\u001b[0m \u001b[43m                        \u001b[49m\u001b[43mstart_new_session\u001b[49m\u001b[43m)\u001b[49m\n\u001b[0;32m    960\u001b[0m \u001b[38;5;28;01mexcept\u001b[39;00m:\n\u001b[0;32m    961\u001b[0m     \u001b[38;5;66;03m# Cleanup if the child failed starting.\u001b[39;00m\n",
      "File \u001b[1;32m~\\anaconda3\\lib\\subprocess.py:1420\u001b[0m, in \u001b[0;36mPopen._execute_child\u001b[1;34m(self, args, executable, preexec_fn, close_fds, pass_fds, cwd, env, startupinfo, creationflags, shell, p2cread, p2cwrite, c2pread, c2pwrite, errread, errwrite, unused_restore_signals, unused_gid, unused_gids, unused_uid, unused_umask, unused_start_new_session)\u001b[0m\n\u001b[0;32m   1419\u001b[0m \u001b[38;5;28;01mtry\u001b[39;00m:\n\u001b[1;32m-> 1420\u001b[0m     hp, ht, pid, tid \u001b[38;5;241m=\u001b[39m \u001b[43m_winapi\u001b[49m\u001b[38;5;241;43m.\u001b[39;49m\u001b[43mCreateProcess\u001b[49m\u001b[43m(\u001b[49m\u001b[43mexecutable\u001b[49m\u001b[43m,\u001b[49m\u001b[43m \u001b[49m\u001b[43margs\u001b[49m\u001b[43m,\u001b[49m\n\u001b[0;32m   1421\u001b[0m \u001b[43m                             \u001b[49m\u001b[38;5;66;43;03m# no special security\u001b[39;49;00m\n\u001b[0;32m   1422\u001b[0m \u001b[43m                             \u001b[49m\u001b[38;5;28;43;01mNone\u001b[39;49;00m\u001b[43m,\u001b[49m\u001b[43m \u001b[49m\u001b[38;5;28;43;01mNone\u001b[39;49;00m\u001b[43m,\u001b[49m\n\u001b[0;32m   1423\u001b[0m \u001b[43m                             \u001b[49m\u001b[38;5;28;43mint\u001b[39;49m\u001b[43m(\u001b[49m\u001b[38;5;129;43;01mnot\u001b[39;49;00m\u001b[43m \u001b[49m\u001b[43mclose_fds\u001b[49m\u001b[43m)\u001b[49m\u001b[43m,\u001b[49m\n\u001b[0;32m   1424\u001b[0m \u001b[43m                             \u001b[49m\u001b[43mcreationflags\u001b[49m\u001b[43m,\u001b[49m\n\u001b[0;32m   1425\u001b[0m \u001b[43m                             \u001b[49m\u001b[43menv\u001b[49m\u001b[43m,\u001b[49m\n\u001b[0;32m   1426\u001b[0m \u001b[43m                             \u001b[49m\u001b[43mcwd\u001b[49m\u001b[43m,\u001b[49m\n\u001b[0;32m   1427\u001b[0m \u001b[43m                             \u001b[49m\u001b[43mstartupinfo\u001b[49m\u001b[43m)\u001b[49m\n\u001b[0;32m   1428\u001b[0m \u001b[38;5;28;01mfinally\u001b[39;00m:\n\u001b[0;32m   1429\u001b[0m     \u001b[38;5;66;03m# Child is launched. Close the parent's copy of those pipe\u001b[39;00m\n\u001b[0;32m   1430\u001b[0m     \u001b[38;5;66;03m# handles that only the child should have open.  You need\u001b[39;00m\n\u001b[1;32m   (...)\u001b[0m\n\u001b[0;32m   1433\u001b[0m     \u001b[38;5;66;03m# pipe will not close when the child process exits and the\u001b[39;00m\n\u001b[0;32m   1434\u001b[0m     \u001b[38;5;66;03m# ReadFile will hang.\u001b[39;00m\n",
      "\u001b[1;31mFileNotFoundError\u001b[0m: [WinError 2] The system cannot find the file specified",
      "\nThe above exception was the direct cause of the following exception:\n",
      "\u001b[1;31mExecutableNotFound\u001b[0m                        Traceback (most recent call last)",
      "Input \u001b[1;32mIn [23]\u001b[0m, in \u001b[0;36m<cell line: 12>\u001b[1;34m()\u001b[0m\n\u001b[0;32m     10\u001b[0m \u001b[38;5;66;03m# Visualize the decision tree\u001b[39;00m\n\u001b[0;32m     11\u001b[0m graph \u001b[38;5;241m=\u001b[39m graphviz\u001b[38;5;241m.\u001b[39mSource(dot_data)\n\u001b[1;32m---> 12\u001b[0m \u001b[43mgraph\u001b[49m\u001b[38;5;241;43m.\u001b[39;49m\u001b[43mrender\u001b[49m\u001b[43m(\u001b[49m\u001b[38;5;124;43m\"\u001b[39;49m\u001b[38;5;124;43mdecision_tree\u001b[39;49m\u001b[38;5;124;43m\"\u001b[39;49m\u001b[43m)\u001b[49m\n",
      "File \u001b[1;32m~\\anaconda3\\lib\\site-packages\\graphviz\\_tools.py:171\u001b[0m, in \u001b[0;36mdeprecate_positional_args.<locals>.decorator.<locals>.wrapper\u001b[1;34m(*args, **kwargs)\u001b[0m\n\u001b[0;32m    162\u001b[0m     wanted \u001b[38;5;241m=\u001b[39m \u001b[38;5;124m'\u001b[39m\u001b[38;5;124m, \u001b[39m\u001b[38;5;124m'\u001b[39m\u001b[38;5;241m.\u001b[39mjoin(\u001b[38;5;124mf\u001b[39m\u001b[38;5;124m'\u001b[39m\u001b[38;5;132;01m{\u001b[39;00mname\u001b[38;5;132;01m}\u001b[39;00m\u001b[38;5;124m=\u001b[39m\u001b[38;5;132;01m{\u001b[39;00mvalue\u001b[38;5;132;01m!r}\u001b[39;00m\u001b[38;5;124m'\u001b[39m\n\u001b[0;32m    163\u001b[0m                        \u001b[38;5;28;01mfor\u001b[39;00m name, value \u001b[38;5;129;01min\u001b[39;00m deprecated\u001b[38;5;241m.\u001b[39mitems())\n\u001b[0;32m    164\u001b[0m     warnings\u001b[38;5;241m.\u001b[39mwarn(\u001b[38;5;124mf\u001b[39m\u001b[38;5;124m'\u001b[39m\u001b[38;5;124mThe signature of \u001b[39m\u001b[38;5;132;01m{\u001b[39;00mfunc\u001b[38;5;241m.\u001b[39m\u001b[38;5;18m__name__\u001b[39m\u001b[38;5;132;01m}\u001b[39;00m\u001b[38;5;124m will be reduced\u001b[39m\u001b[38;5;124m'\u001b[39m\n\u001b[0;32m    165\u001b[0m                   \u001b[38;5;124mf\u001b[39m\u001b[38;5;124m'\u001b[39m\u001b[38;5;124m to \u001b[39m\u001b[38;5;132;01m{\u001b[39;00msupported_number\u001b[38;5;132;01m}\u001b[39;00m\u001b[38;5;124m positional args\u001b[39m\u001b[38;5;124m'\u001b[39m\n\u001b[0;32m    166\u001b[0m                   \u001b[38;5;124mf\u001b[39m\u001b[38;5;124m'\u001b[39m\u001b[38;5;124m \u001b[39m\u001b[38;5;132;01m{\u001b[39;00m\u001b[38;5;28mlist\u001b[39m(supported)\u001b[38;5;132;01m}\u001b[39;00m\u001b[38;5;124m: pass \u001b[39m\u001b[38;5;132;01m{\u001b[39;00mwanted\u001b[38;5;132;01m}\u001b[39;00m\u001b[38;5;124m'\u001b[39m\n\u001b[0;32m    167\u001b[0m                   \u001b[38;5;124m'\u001b[39m\u001b[38;5;124m as keyword arg(s)\u001b[39m\u001b[38;5;124m'\u001b[39m,\n\u001b[0;32m    168\u001b[0m                   stacklevel\u001b[38;5;241m=\u001b[39mstacklevel,\n\u001b[0;32m    169\u001b[0m                   category\u001b[38;5;241m=\u001b[39mcategory)\n\u001b[1;32m--> 171\u001b[0m \u001b[38;5;28;01mreturn\u001b[39;00m func(\u001b[38;5;241m*\u001b[39margs, \u001b[38;5;241m*\u001b[39m\u001b[38;5;241m*\u001b[39mkwargs)\n",
      "File \u001b[1;32m~\\anaconda3\\lib\\site-packages\\graphviz\\rendering.py:122\u001b[0m, in \u001b[0;36mRender.render\u001b[1;34m(self, filename, directory, view, cleanup, format, renderer, formatter, neato_no_op, quiet, quiet_view, outfile, engine, raise_if_result_exists, overwrite_source)\u001b[0m\n\u001b[0;32m    118\u001b[0m filepath \u001b[38;5;241m=\u001b[39m \u001b[38;5;28mself\u001b[39m\u001b[38;5;241m.\u001b[39msave(filename, directory\u001b[38;5;241m=\u001b[39mdirectory, skip_existing\u001b[38;5;241m=\u001b[39m\u001b[38;5;28;01mNone\u001b[39;00m)\n\u001b[0;32m    120\u001b[0m args\u001b[38;5;241m.\u001b[39mappend(filepath)\n\u001b[1;32m--> 122\u001b[0m rendered \u001b[38;5;241m=\u001b[39m \u001b[38;5;28mself\u001b[39m\u001b[38;5;241m.\u001b[39m_render(\u001b[38;5;241m*\u001b[39margs, \u001b[38;5;241m*\u001b[39m\u001b[38;5;241m*\u001b[39mkwargs)\n\u001b[0;32m    124\u001b[0m \u001b[38;5;28;01mif\u001b[39;00m cleanup:\n\u001b[0;32m    125\u001b[0m     log\u001b[38;5;241m.\u001b[39mdebug(\u001b[38;5;124m'\u001b[39m\u001b[38;5;124mdelete \u001b[39m\u001b[38;5;132;01m%r\u001b[39;00m\u001b[38;5;124m'\u001b[39m, filepath)\n",
      "File \u001b[1;32m~\\anaconda3\\lib\\site-packages\\graphviz\\_tools.py:171\u001b[0m, in \u001b[0;36mdeprecate_positional_args.<locals>.decorator.<locals>.wrapper\u001b[1;34m(*args, **kwargs)\u001b[0m\n\u001b[0;32m    162\u001b[0m     wanted \u001b[38;5;241m=\u001b[39m \u001b[38;5;124m'\u001b[39m\u001b[38;5;124m, \u001b[39m\u001b[38;5;124m'\u001b[39m\u001b[38;5;241m.\u001b[39mjoin(\u001b[38;5;124mf\u001b[39m\u001b[38;5;124m'\u001b[39m\u001b[38;5;132;01m{\u001b[39;00mname\u001b[38;5;132;01m}\u001b[39;00m\u001b[38;5;124m=\u001b[39m\u001b[38;5;132;01m{\u001b[39;00mvalue\u001b[38;5;132;01m!r}\u001b[39;00m\u001b[38;5;124m'\u001b[39m\n\u001b[0;32m    163\u001b[0m                        \u001b[38;5;28;01mfor\u001b[39;00m name, value \u001b[38;5;129;01min\u001b[39;00m deprecated\u001b[38;5;241m.\u001b[39mitems())\n\u001b[0;32m    164\u001b[0m     warnings\u001b[38;5;241m.\u001b[39mwarn(\u001b[38;5;124mf\u001b[39m\u001b[38;5;124m'\u001b[39m\u001b[38;5;124mThe signature of \u001b[39m\u001b[38;5;132;01m{\u001b[39;00mfunc\u001b[38;5;241m.\u001b[39m\u001b[38;5;18m__name__\u001b[39m\u001b[38;5;132;01m}\u001b[39;00m\u001b[38;5;124m will be reduced\u001b[39m\u001b[38;5;124m'\u001b[39m\n\u001b[0;32m    165\u001b[0m                   \u001b[38;5;124mf\u001b[39m\u001b[38;5;124m'\u001b[39m\u001b[38;5;124m to \u001b[39m\u001b[38;5;132;01m{\u001b[39;00msupported_number\u001b[38;5;132;01m}\u001b[39;00m\u001b[38;5;124m positional args\u001b[39m\u001b[38;5;124m'\u001b[39m\n\u001b[0;32m    166\u001b[0m                   \u001b[38;5;124mf\u001b[39m\u001b[38;5;124m'\u001b[39m\u001b[38;5;124m \u001b[39m\u001b[38;5;132;01m{\u001b[39;00m\u001b[38;5;28mlist\u001b[39m(supported)\u001b[38;5;132;01m}\u001b[39;00m\u001b[38;5;124m: pass \u001b[39m\u001b[38;5;132;01m{\u001b[39;00mwanted\u001b[38;5;132;01m}\u001b[39;00m\u001b[38;5;124m'\u001b[39m\n\u001b[0;32m    167\u001b[0m                   \u001b[38;5;124m'\u001b[39m\u001b[38;5;124m as keyword arg(s)\u001b[39m\u001b[38;5;124m'\u001b[39m,\n\u001b[0;32m    168\u001b[0m                   stacklevel\u001b[38;5;241m=\u001b[39mstacklevel,\n\u001b[0;32m    169\u001b[0m                   category\u001b[38;5;241m=\u001b[39mcategory)\n\u001b[1;32m--> 171\u001b[0m \u001b[38;5;28;01mreturn\u001b[39;00m func(\u001b[38;5;241m*\u001b[39margs, \u001b[38;5;241m*\u001b[39m\u001b[38;5;241m*\u001b[39mkwargs)\n",
      "File \u001b[1;32m~\\anaconda3\\lib\\site-packages\\graphviz\\backend\\rendering.py:326\u001b[0m, in \u001b[0;36mrender\u001b[1;34m(engine, format, filepath, renderer, formatter, neato_no_op, quiet, outfile, raise_if_result_exists, overwrite_filepath)\u001b[0m\n\u001b[0;32m    322\u001b[0m cmd \u001b[38;5;241m+\u001b[39m\u001b[38;5;241m=\u001b[39m args\n\u001b[0;32m    324\u001b[0m \u001b[38;5;28;01massert\u001b[39;00m filepath \u001b[38;5;129;01mis\u001b[39;00m \u001b[38;5;129;01mnot\u001b[39;00m \u001b[38;5;28;01mNone\u001b[39;00m, \u001b[38;5;124m'\u001b[39m\u001b[38;5;124mwork around pytype false alarm\u001b[39m\u001b[38;5;124m'\u001b[39m\n\u001b[1;32m--> 326\u001b[0m \u001b[43mexecute\u001b[49m\u001b[38;5;241;43m.\u001b[39;49m\u001b[43mrun_check\u001b[49m\u001b[43m(\u001b[49m\u001b[43mcmd\u001b[49m\u001b[43m,\u001b[49m\n\u001b[0;32m    327\u001b[0m \u001b[43m                  \u001b[49m\u001b[43mcwd\u001b[49m\u001b[38;5;241;43m=\u001b[39;49m\u001b[43mfilepath\u001b[49m\u001b[38;5;241;43m.\u001b[39;49m\u001b[43mparent\u001b[49m\u001b[43m \u001b[49m\u001b[38;5;28;43;01mif\u001b[39;49;00m\u001b[43m \u001b[49m\u001b[43mfilepath\u001b[49m\u001b[38;5;241;43m.\u001b[39;49m\u001b[43mparent\u001b[49m\u001b[38;5;241;43m.\u001b[39;49m\u001b[43mparts\u001b[49m\u001b[43m \u001b[49m\u001b[38;5;28;43;01melse\u001b[39;49;00m\u001b[43m \u001b[49m\u001b[38;5;28;43;01mNone\u001b[39;49;00m\u001b[43m,\u001b[49m\n\u001b[0;32m    328\u001b[0m \u001b[43m                  \u001b[49m\u001b[43mquiet\u001b[49m\u001b[38;5;241;43m=\u001b[39;49m\u001b[43mquiet\u001b[49m\u001b[43m,\u001b[49m\n\u001b[0;32m    329\u001b[0m \u001b[43m                  \u001b[49m\u001b[43mcapture_output\u001b[49m\u001b[38;5;241;43m=\u001b[39;49m\u001b[38;5;28;43;01mTrue\u001b[39;49;00m\u001b[43m)\u001b[49m\n\u001b[0;32m    331\u001b[0m \u001b[38;5;28;01mreturn\u001b[39;00m os\u001b[38;5;241m.\u001b[39mfspath(outfile)\n",
      "File \u001b[1;32m~\\anaconda3\\lib\\site-packages\\graphviz\\backend\\execute.py:81\u001b[0m, in \u001b[0;36mrun_check\u001b[1;34m(cmd, input_lines, encoding, quiet, **kwargs)\u001b[0m\n\u001b[0;32m     79\u001b[0m \u001b[38;5;28;01mexcept\u001b[39;00m \u001b[38;5;167;01mOSError\u001b[39;00m \u001b[38;5;28;01mas\u001b[39;00m e:\n\u001b[0;32m     80\u001b[0m     \u001b[38;5;28;01mif\u001b[39;00m e\u001b[38;5;241m.\u001b[39merrno \u001b[38;5;241m==\u001b[39m errno\u001b[38;5;241m.\u001b[39mENOENT:\n\u001b[1;32m---> 81\u001b[0m         \u001b[38;5;28;01mraise\u001b[39;00m ExecutableNotFound(cmd) \u001b[38;5;28;01mfrom\u001b[39;00m \u001b[38;5;21;01me\u001b[39;00m\n\u001b[0;32m     82\u001b[0m     \u001b[38;5;28;01mraise\u001b[39;00m\n\u001b[0;32m     84\u001b[0m \u001b[38;5;28;01mif\u001b[39;00m \u001b[38;5;129;01mnot\u001b[39;00m quiet \u001b[38;5;129;01mand\u001b[39;00m proc\u001b[38;5;241m.\u001b[39mstderr:\n",
      "\u001b[1;31mExecutableNotFound\u001b[0m: failed to execute WindowsPath('dot'), make sure the Graphviz executables are on your systems' PATH"
     ]
    }
   ],
   "source": [
    "from sklearn.tree import export_graphviz\n",
    "import graphviz\n",
    "# DOT data\n",
    "dot_data = export_graphviz(clf, out_file=None, \n",
    "                           feature_names=vectorizer.get_feature_names_out(),\n",
    "                           class_names=['negative', 'positive'],\n",
    "                           filled=True, rounded=True,\n",
    "                           special_characters=True)\n",
    "\n",
    "# Visualize the decision tree\n",
    "graph = graphviz.Source(dot_data)\n",
    "graph.render(\"decision_tree\")"
   ]
  },
  {
   "cell_type": "code",
   "execution_count": null,
   "id": "762cf7d9",
   "metadata": {},
   "outputs": [],
   "source": []
  }
 ],
 "metadata": {
  "kernelspec": {
   "display_name": "Python 3 (ipykernel)",
   "language": "python",
   "name": "python3"
  },
  "language_info": {
   "codemirror_mode": {
    "name": "ipython",
    "version": 3
   },
   "file_extension": ".py",
   "mimetype": "text/x-python",
   "name": "python",
   "nbconvert_exporter": "python",
   "pygments_lexer": "ipython3",
   "version": "3.9.12"
  }
 },
 "nbformat": 4,
 "nbformat_minor": 5
}
